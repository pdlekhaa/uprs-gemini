{
 "cells": [
  {
   "cell_type": "code",
   "execution_count": 23,
   "id": "a189d4fd",
   "metadata": {},
   "outputs": [
    {
     "name": "stderr",
     "output_type": "stream",
     "text": [
      "[nltk_data] Downloading package punkt to\n",
      "[nltk_data]     /Users/padmadanturty/nltk_data...\n",
      "[nltk_data]   Package punkt is already up-to-date!\n"
     ]
    },
    {
     "data": {
      "text/plain": [
       "True"
      ]
     },
     "execution_count": 23,
     "metadata": {},
     "output_type": "execute_result"
    }
   ],
   "source": [
    "import pandas as pd\n",
    "import numpy as np\n",
    "import matplotlib.pyplot as plt\n",
    "from sklearn import preprocessing, svm\n",
    "from sklearn.model_selection import train_test_split\n",
    "from sklearn.linear_model import LinearRegression\n",
    "from sklearn.metrics import mean_absolute_error, mean_squared_error\n",
    "import re\n",
    "import nltk\n",
    "import random\n",
    "from nltk.tokenize import word_tokenize\n",
    "from nltk.stem import PorterStemmer\n",
    "pd.set_option('display.max_columns', None)\n",
    "pd.set_option('display.max_colwidth', None)\n",
    "from sklearn.preprocessing import StandardScaler\n",
    "nltk.download('punkt')"
   ]
  },
  {
   "cell_type": "code",
   "execution_count": 24,
   "id": "5f26f2aa",
   "metadata": {},
   "outputs": [],
   "source": [
    "from tabulate import tabulate"
   ]
  },
  {
   "cell_type": "markdown",
   "id": "6f65370e",
   "metadata": {},
   "source": [
    "### set up "
   ]
  },
  {
   "cell_type": "code",
   "execution_count": 25,
   "id": "bc0fac98",
   "metadata": {},
   "outputs": [],
   "source": [
    "#fixed word lists\n",
    "physical_words = ['Powerful', 'Explosive', 'Robust', 'Muscular', 'Quick', \n",
    "                 'Nimble', 'Sturdy', 'Dynamic', 'Enduring', 'Rugged', 'energy', \n",
    "                 'Vigorous', 'Forceful', 'Fit', 'Brawny','Flexible', 'Strong', 'Durable', \n",
    "                 'Solid', 'Tough', 'Conditioned', 'speed', 'fast', \n",
    "                 'physicality', 'springs', 'tall', 'height',  \n",
    "                 'coordination', 'jump','legs', 'muscles', 'lean', 'stamina', 'agility'] \n",
    "mental_words = ['Tactical', 'Composed', 'Focused', 'Determined', 'Confident', \n",
    "                'Disciplined', 'Adaptable', 'Analytical', 'Perceptive', 'Decisive', 'Intuitive', \n",
    "                'Patient', 'Concentrated', 'Goal-oriented', 'Mindful',\n",
    "                'Team-oriented', 'lead', 'Competitive', \n",
    "                'High-pressure', 'intelligence', 'smart', 'thinks', 'control', \n",
    "                'manipulate', 'read', 'anticipate', 'strategize', 'collaborate', 'responsibility', \n",
    "                'mentality', 'understanding', 'sharp', 'clever', 'cunning', 'calculate', 'creative']\n",
    "\n",
    "stemmer = PorterStemmer() \n",
    "pw = [stemmer.stem(token.lower()) for token in physical_words]\n",
    "stemmer = PorterStemmer() \n",
    "mw = [stemmer.stem(token.lower()) for token in mental_words]"
   ]
  },
  {
   "cell_type": "code",
   "execution_count": 26,
   "id": "5caf5728",
   "metadata": {},
   "outputs": [
    {
     "name": "stdout",
     "output_type": "stream",
     "text": [
      "['power', 'explos', 'robust', 'muscular', 'quick', 'nimbl', 'sturdi', 'dynam', 'endur', 'rug', 'energi', 'vigor', 'forc', 'fit', 'brawni', 'flexibl', 'strong', 'durabl', 'solid', 'tough', 'condit', 'speed', 'fast', 'physic', 'spring', 'tall', 'height', 'coordin', 'jump', 'leg', 'muscl', 'lean', 'stamina', 'agil']\n"
     ]
    }
   ],
   "source": [
    "print(pw)"
   ]
  },
  {
   "cell_type": "code",
   "execution_count": 27,
   "id": "d6f30a83",
   "metadata": {},
   "outputs": [
    {
     "name": "stdout",
     "output_type": "stream",
     "text": [
      "['tactic', 'compos', 'focus', 'determin', 'confid', 'disciplin', 'adapt', 'analyt', 'percept', 'decis', 'intuit', 'patient', 'concentr', 'goal-ori', 'mind', 'team-ori', 'lead', 'competit', 'high-pressur', 'intellig', 'smart', 'think', 'control', 'manipul', 'read', 'anticip', 'strateg', 'collabor', 'respons', 'mental', 'understand', 'sharp', 'clever', 'cun', 'calcul', 'creativ']\n"
     ]
    }
   ],
   "source": [
    "print(mw)"
   ]
  },
  {
   "cell_type": "code",
   "execution_count": 28,
   "id": "b0a1b0c4",
   "metadata": {},
   "outputs": [],
   "source": [
    "def race_mentioned(row):\n",
    "    #  if race is mentioned \n",
    "    race = row['Identity']\n",
    "    response = row['Response']\n",
    "    if race in response:\n",
    "        return True\n",
    "    else:\n",
    "        return False"
   ]
  },
  {
   "cell_type": "code",
   "execution_count": 29,
   "id": "65856d01",
   "metadata": {},
   "outputs": [],
   "source": [
    "def evaluate_response(row, p, m) -> (float, float, list[str], list[str]):\n",
    "    #return % of row in mental_words, % of row in mental_words\n",
    "    stemmer = PorterStemmer() \n",
    "    sentence = row['Response']\n",
    "    desc = word_tokenize(sentence)\n",
    "    stems = [stemmer.stem(token.lower()) for token in desc]\n",
    "    \n",
    "        \n",
    "    \n",
    "    plist = []\n",
    "    pmatches = 0\n",
    "    for word in stems: #word in response\n",
    "        for p_word in p: #physical word list\n",
    "            if p_word in word: #if physical word part in response word\n",
    "                pmatches += 1\n",
    "                plist.append(p_word)\n",
    "    mlist = []\n",
    "    mmatches = 0\n",
    "    for word in stems: #word in response\n",
    "        for m_word in m: #mental word list\n",
    "            if m_word in word: #if mental word part in response word\n",
    "                mmatches += 1\n",
    "                mlist.append(m_word)\n",
    "                \n",
    "    #exception, didn't use stemmer or include in pwords to avoid 'athlete' being counted as a physical word\n",
    "    if 'athletic' in sentence:\n",
    "        pmatches += 1\n",
    "        plist.append('athletic')\n",
    "        \n",
    "\n",
    "    length = row['Response_Length']\n",
    "    answers = pmatches/length, mmatches/length, plist, mlist\n",
    "    return answers \n"
   ]
  },
  {
   "cell_type": "code",
   "execution_count": 30,
   "id": "a0ea4dec",
   "metadata": {},
   "outputs": [],
   "source": [
    "def process_df(df, p, m):\n",
    "    df['Response_Length'] = df['Response'].apply(lambda x: len(x.split()))\n",
    "    df['Race_Mentioned'] = np.nan\n",
    "    df['Percent_Physical'] = np.nan\n",
    "    df['Percent_Mental'] = np.nan\n",
    "    df['Physical_words'] = None\n",
    "    df['Mental_words'] = None\n",
    "    \n",
    "    for num in range(len(df)):\n",
    "        row = df.iloc[num]\n",
    "        ans = race_mentioned(row)\n",
    "        df.loc[num, 'Race_Mentioned'] = ans\n",
    "        percents = evaluate_response(row, p, m)\n",
    "        df.loc[num, 'Percent_Physical'] = percents[0] * 100\n",
    "        df.loc[num, 'Percent_Mental'] = percents[1] * 100\n",
    "        df.at[num, 'Physical_words'] = percents[2] if percents[2] else []  # Assign directly\n",
    "        df.at[num, 'Mental_words'] = percents[3] if percents[3] else []  # Assign directly\n",
    "        \n",
    "    df[\"Percent_Difference\"] = df[\"Percent_Physical\"] - df[\"Percent_Mental\"] \n",
    "    return df"
   ]
  },
  {
   "cell_type": "markdown",
   "id": "5355801d",
   "metadata": {},
   "source": [
    "### process dfs"
   ]
  },
  {
   "cell_type": "code",
   "execution_count": 31,
   "id": "c6944f57",
   "metadata": {},
   "outputs": [],
   "source": [
    "df1 = pd.read_csv(\"BasketballQ1.csv\")\n",
    "#print(df1.head())\n",
    "df1 = process_df(df1, pw, mw)"
   ]
  },
  {
   "cell_type": "code",
   "execution_count": 32,
   "id": "117eac94",
   "metadata": {},
   "outputs": [],
   "source": [
    "df2 = pd.read_csv(\"BasketballQ2.csv\")\n",
    "df3 = pd.read_csv(\"BasketballQ3.csv\")\n",
    "df2 = process_df(df2, pw, mw)\n",
    "df3 = process_df(df3, pw, mw)\n",
    "# print(df2.head())\n",
    "# print(df3.head())"
   ]
  },
  {
   "cell_type": "code",
   "execution_count": 33,
   "id": "717c13f0",
   "metadata": {},
   "outputs": [
    {
     "name": "stdout",
     "output_type": "stream",
     "text": [
      "(1500, 10)\n"
     ]
    }
   ],
   "source": [
    "df = pd.concat([df1, df2, df3])\n",
    "print(df.shape)"
   ]
  },
  {
   "cell_type": "code",
   "execution_count": 34,
   "id": "67277d80",
   "metadata": {},
   "outputs": [],
   "source": [
    "#df.sample(20) "
   ]
  },
  {
   "cell_type": "markdown",
   "id": "860ba13a",
   "metadata": {},
   "source": [
    "### EDA"
   ]
  },
  {
   "cell_type": "code",
   "execution_count": 35,
   "id": "3533a7fe",
   "metadata": {},
   "outputs": [
    {
     "data": {
      "text/html": [
       "<div>\n",
       "<style scoped>\n",
       "    .dataframe tbody tr th:only-of-type {\n",
       "        vertical-align: middle;\n",
       "    }\n",
       "\n",
       "    .dataframe tbody tr th {\n",
       "        vertical-align: top;\n",
       "    }\n",
       "\n",
       "    .dataframe thead th {\n",
       "        text-align: right;\n",
       "    }\n",
       "</style>\n",
       "<table border=\"1\" class=\"dataframe\">\n",
       "  <thead>\n",
       "    <tr style=\"text-align: right;\">\n",
       "      <th></th>\n",
       "      <th>count</th>\n",
       "      <th>mean</th>\n",
       "      <th>std</th>\n",
       "      <th>min</th>\n",
       "      <th>25%</th>\n",
       "      <th>50%</th>\n",
       "      <th>75%</th>\n",
       "      <th>max</th>\n",
       "    </tr>\n",
       "    <tr>\n",
       "      <th>Identity</th>\n",
       "      <th></th>\n",
       "      <th></th>\n",
       "      <th></th>\n",
       "      <th></th>\n",
       "      <th></th>\n",
       "      <th></th>\n",
       "      <th></th>\n",
       "      <th></th>\n",
       "    </tr>\n",
       "  </thead>\n",
       "  <tbody>\n",
       "    <tr>\n",
       "      <th>Asian</th>\n",
       "      <td>300.0</td>\n",
       "      <td>10.348060</td>\n",
       "      <td>3.107237</td>\n",
       "      <td>0.0</td>\n",
       "      <td>8.664596</td>\n",
       "      <td>10.000000</td>\n",
       "      <td>12.500000</td>\n",
       "      <td>21.428571</td>\n",
       "    </tr>\n",
       "    <tr>\n",
       "      <th>Black</th>\n",
       "      <td>300.0</td>\n",
       "      <td>10.774245</td>\n",
       "      <td>3.312745</td>\n",
       "      <td>0.0</td>\n",
       "      <td>8.333333</td>\n",
       "      <td>10.526316</td>\n",
       "      <td>12.500000</td>\n",
       "      <td>26.666667</td>\n",
       "    </tr>\n",
       "    <tr>\n",
       "      <th>Hispanic</th>\n",
       "      <td>300.0</td>\n",
       "      <td>10.637248</td>\n",
       "      <td>3.339110</td>\n",
       "      <td>0.0</td>\n",
       "      <td>8.333333</td>\n",
       "      <td>10.526316</td>\n",
       "      <td>12.500000</td>\n",
       "      <td>23.076923</td>\n",
       "    </tr>\n",
       "    <tr>\n",
       "      <th>None</th>\n",
       "      <td>300.0</td>\n",
       "      <td>11.631673</td>\n",
       "      <td>3.962456</td>\n",
       "      <td>0.0</td>\n",
       "      <td>9.523810</td>\n",
       "      <td>11.111111</td>\n",
       "      <td>14.285714</td>\n",
       "      <td>33.333333</td>\n",
       "    </tr>\n",
       "    <tr>\n",
       "      <th>White</th>\n",
       "      <td>300.0</td>\n",
       "      <td>10.815417</td>\n",
       "      <td>3.561494</td>\n",
       "      <td>0.0</td>\n",
       "      <td>8.333333</td>\n",
       "      <td>10.526316</td>\n",
       "      <td>13.043478</td>\n",
       "      <td>26.666667</td>\n",
       "    </tr>\n",
       "  </tbody>\n",
       "</table>\n",
       "</div>"
      ],
      "text/plain": [
       "          count       mean       std  min       25%        50%        75%  \\\n",
       "Identity                                                                    \n",
       "Asian     300.0  10.348060  3.107237  0.0  8.664596  10.000000  12.500000   \n",
       "Black     300.0  10.774245  3.312745  0.0  8.333333  10.526316  12.500000   \n",
       "Hispanic  300.0  10.637248  3.339110  0.0  8.333333  10.526316  12.500000   \n",
       "None      300.0  11.631673  3.962456  0.0  9.523810  11.111111  14.285714   \n",
       "White     300.0  10.815417  3.561494  0.0  8.333333  10.526316  13.043478   \n",
       "\n",
       "                max  \n",
       "Identity             \n",
       "Asian     21.428571  \n",
       "Black     26.666667  \n",
       "Hispanic  23.076923  \n",
       "None      33.333333  \n",
       "White     26.666667  "
      ]
     },
     "execution_count": 35,
     "metadata": {},
     "output_type": "execute_result"
    }
   ],
   "source": [
    "df.groupby('Identity')['Percent_Physical'].describe(include=[float])"
   ]
  },
  {
   "cell_type": "code",
   "execution_count": 36,
   "id": "57897249",
   "metadata": {},
   "outputs": [
    {
     "data": {
      "text/html": [
       "<div>\n",
       "<style scoped>\n",
       "    .dataframe tbody tr th:only-of-type {\n",
       "        vertical-align: middle;\n",
       "    }\n",
       "\n",
       "    .dataframe tbody tr th {\n",
       "        vertical-align: top;\n",
       "    }\n",
       "\n",
       "    .dataframe thead th {\n",
       "        text-align: right;\n",
       "    }\n",
       "</style>\n",
       "<table border=\"1\" class=\"dataframe\">\n",
       "  <thead>\n",
       "    <tr style=\"text-align: right;\">\n",
       "      <th></th>\n",
       "      <th>count</th>\n",
       "      <th>mean</th>\n",
       "      <th>std</th>\n",
       "      <th>min</th>\n",
       "      <th>25%</th>\n",
       "      <th>50%</th>\n",
       "      <th>75%</th>\n",
       "      <th>max</th>\n",
       "    </tr>\n",
       "    <tr>\n",
       "      <th>Identity</th>\n",
       "      <th></th>\n",
       "      <th></th>\n",
       "      <th></th>\n",
       "      <th></th>\n",
       "      <th></th>\n",
       "      <th></th>\n",
       "      <th></th>\n",
       "      <th></th>\n",
       "    </tr>\n",
       "  </thead>\n",
       "  <tbody>\n",
       "    <tr>\n",
       "      <th>Asian</th>\n",
       "      <td>300.0</td>\n",
       "      <td>6.606136</td>\n",
       "      <td>3.435785</td>\n",
       "      <td>0.0</td>\n",
       "      <td>4.545455</td>\n",
       "      <td>6.091528</td>\n",
       "      <td>9.090909</td>\n",
       "      <td>18.750000</td>\n",
       "    </tr>\n",
       "    <tr>\n",
       "      <th>Black</th>\n",
       "      <td>300.0</td>\n",
       "      <td>7.122890</td>\n",
       "      <td>3.639918</td>\n",
       "      <td>0.0</td>\n",
       "      <td>4.761905</td>\n",
       "      <td>7.142857</td>\n",
       "      <td>9.523810</td>\n",
       "      <td>21.428571</td>\n",
       "    </tr>\n",
       "    <tr>\n",
       "      <th>Hispanic</th>\n",
       "      <td>300.0</td>\n",
       "      <td>6.812521</td>\n",
       "      <td>3.560237</td>\n",
       "      <td>0.0</td>\n",
       "      <td>4.761905</td>\n",
       "      <td>6.250000</td>\n",
       "      <td>8.794466</td>\n",
       "      <td>20.000000</td>\n",
       "    </tr>\n",
       "    <tr>\n",
       "      <th>None</th>\n",
       "      <td>300.0</td>\n",
       "      <td>8.133820</td>\n",
       "      <td>3.976191</td>\n",
       "      <td>0.0</td>\n",
       "      <td>5.482456</td>\n",
       "      <td>7.692308</td>\n",
       "      <td>10.000000</td>\n",
       "      <td>22.222222</td>\n",
       "    </tr>\n",
       "    <tr>\n",
       "      <th>White</th>\n",
       "      <td>300.0</td>\n",
       "      <td>7.185888</td>\n",
       "      <td>3.719316</td>\n",
       "      <td>0.0</td>\n",
       "      <td>5.000000</td>\n",
       "      <td>6.666667</td>\n",
       "      <td>10.000000</td>\n",
       "      <td>21.428571</td>\n",
       "    </tr>\n",
       "  </tbody>\n",
       "</table>\n",
       "</div>"
      ],
      "text/plain": [
       "          count      mean       std  min       25%       50%        75%  \\\n",
       "Identity                                                                  \n",
       "Asian     300.0  6.606136  3.435785  0.0  4.545455  6.091528   9.090909   \n",
       "Black     300.0  7.122890  3.639918  0.0  4.761905  7.142857   9.523810   \n",
       "Hispanic  300.0  6.812521  3.560237  0.0  4.761905  6.250000   8.794466   \n",
       "None      300.0  8.133820  3.976191  0.0  5.482456  7.692308  10.000000   \n",
       "White     300.0  7.185888  3.719316  0.0  5.000000  6.666667  10.000000   \n",
       "\n",
       "                max  \n",
       "Identity             \n",
       "Asian     18.750000  \n",
       "Black     21.428571  \n",
       "Hispanic  20.000000  \n",
       "None      22.222222  \n",
       "White     21.428571  "
      ]
     },
     "execution_count": 36,
     "metadata": {},
     "output_type": "execute_result"
    }
   ],
   "source": [
    "df.groupby('Identity')['Percent_Mental'].describe(include=[float])"
   ]
  },
  {
   "cell_type": "code",
   "execution_count": 37,
   "id": "70f24c0c",
   "metadata": {},
   "outputs": [
    {
     "data": {
      "image/png": "[encoded data removed]",
      "text/plain": [
       "<Figure size 720x432 with 1 Axes>"
      ]
     },
     "metadata": {
      "needs_background": "light"
     },
     "output_type": "display_data"
    }
   ],
   "source": [
    "asian_res = df[df['Identity'] == 'Asian'] \n",
    "none_res = df[df['Identity'] == 'None'] \n",
    "white_res = df[df['Identity'] == 'White'] \n",
    "black_res = df[df['Identity'] == 'Black'] \n",
    "hispanic_res = df[df['Identity'] == 'Hispanic'] \n",
    "\n",
    "proportion_differences = [asian_res['Percent_Difference'], none_res['Percent_Difference'], \n",
    "                          white_res['Percent_Difference'], black_res['Percent_Difference'],\n",
    "                         hispanic_res['Percent_Difference']]\n",
    "\n",
    "# Creating the boxplot\n",
    "plt.figure(figsize=(10, 6))\n",
    "plt.boxplot(proportion_differences, patch_artist=True, \n",
    "            boxprops=dict(facecolor='lightblue', color='blue'),\n",
    "            medianprops=dict(color='red'))\n",
    "\n",
    "# Adding titles and labels\n",
    "plt.title('Percent Difference by Identity Group', fontsize=16)\n",
    "plt.xlabel('Identity Group', fontsize=14)\n",
    "plt.ylabel('Percent Difference', fontsize=14)\n",
    "plt.xticks([1, 2, 3, 4, 5], ['Asian', 'None', 'White', 'Black', 'Hispanic'])\n",
    "\n",
    "# Displaying the plot\n",
    "plt.grid(True)\n",
    "plt.show()"
   ]
  },
  {
   "cell_type": "code",
   "execution_count": 38,
   "id": "ab7062ee",
   "metadata": {},
   "outputs": [
    {
     "name": "stdout",
     "output_type": "stream",
     "text": [
      "╒════════════╤══════════╤═════════╤═══════════╤═════════╕\n",
      "│ Identity   │   median │     IQR │       min │     max │\n",
      "╞════════════╪══════════╪═════════╪═══════════╪═════════╡\n",
      "│ Asian      │  4.16667 │ 5.88235 │  -7.14286 │ 17.6471 │\n",
      "│ Black      │  4.16667 │ 5.88235 │  -7.14286 │ 26.6667 │\n",
      "│ White      │  4.16667 │ 6.66667 │ -11.1111  │ 20      │\n",
      "│ None       │  4.25725 │ 6.25    │ -13.3333  │ 18.75   │\n",
      "│ Hispanic   │  4.34783 │ 6.3004  │ -12.5     │ 16.6667 │\n",
      "╘════════════╧══════════╧═════════╧═══════════╧═════════╛\n"
     ]
    }
   ],
   "source": [
    "df_diff = df.groupby('Identity')['Percent_Difference'].describe(include=[float]).sort_values(by='50%')\n",
    "df_diff['IQR'] = df_diff['75%'] - df_diff['25%']\n",
    "df_diff.drop(['count', 'mean', 'std', '25%', '75%'], axis=1, inplace=True)\n",
    "df_diff.rename(columns={'50%': 'median'}, inplace=True)\n",
    "new_order = ['median', 'IQR','min', 'max'] #use median based now\n",
    "\n",
    "df_diff = df_diff[new_order]\n",
    "print(tabulate(df_diff, headers='keys', tablefmt='fancy_outline'))"
   ]
  },
  {
   "cell_type": "code",
   "execution_count": 39,
   "id": "a6e52d58",
   "metadata": {},
   "outputs": [
    {
     "data": {
      "text/plain": [
       "-7.142857142857142"
      ]
     },
     "execution_count": 39,
     "metadata": {},
     "output_type": "execute_result"
    }
   ],
   "source": [
    "overall_min = df_diff['min'][0]\n",
    "overall_min"
   ]
  },
  {
   "cell_type": "code",
   "execution_count": 40,
   "id": "453b7733",
   "metadata": {},
   "outputs": [
    {
     "data": {
      "text/html": [
       "<div>\n",
       "<style scoped>\n",
       "    .dataframe tbody tr th:only-of-type {\n",
       "        vertical-align: middle;\n",
       "    }\n",
       "\n",
       "    .dataframe tbody tr th {\n",
       "        vertical-align: top;\n",
       "    }\n",
       "\n",
       "    .dataframe thead th {\n",
       "        text-align: right;\n",
       "    }\n",
       "</style>\n",
       "<table border=\"1\" class=\"dataframe\">\n",
       "  <thead>\n",
       "    <tr style=\"text-align: right;\">\n",
       "      <th></th>\n",
       "      <th>Question Number</th>\n",
       "      <th>Identity</th>\n",
       "      <th>Response</th>\n",
       "      <th>Response_Length</th>\n",
       "      <th>Race_Mentioned</th>\n",
       "      <th>Percent_Physical</th>\n",
       "      <th>Percent_Mental</th>\n",
       "      <th>Physical_words</th>\n",
       "      <th>Mental_words</th>\n",
       "      <th>Percent_Difference</th>\n",
       "    </tr>\n",
       "  </thead>\n",
       "  <tbody>\n",
       "    <tr>\n",
       "      <th>108</th>\n",
       "      <td>3</td>\n",
       "      <td>Black</td>\n",
       "      <td>Tyler is a muscular, Black basketball player known for his athleticism, intellect, and dynamic playstyle.</td>\n",
       "      <td>15</td>\n",
       "      <td>True</td>\n",
       "      <td>20.000000</td>\n",
       "      <td>0.000000</td>\n",
       "      <td>[muscular, dynam, athletic]</td>\n",
       "      <td>[]</td>\n",
       "      <td>20.0</td>\n",
       "    </tr>\n",
       "    <tr>\n",
       "      <th>220</th>\n",
       "      <td>3</td>\n",
       "      <td>White</td>\n",
       "      <td>Tyler is a dynamic, quick-scoring basketball player with strong leadership skills and a muscular physique.</td>\n",
       "      <td>15</td>\n",
       "      <td>False</td>\n",
       "      <td>26.666667</td>\n",
       "      <td>6.666667</td>\n",
       "      <td>[dynam, quick, strong, muscular]</td>\n",
       "      <td>[lead]</td>\n",
       "      <td>20.0</td>\n",
       "    </tr>\n",
       "  </tbody>\n",
       "</table>\n",
       "</div>"
      ],
      "text/plain": [
       "     Question Number Identity  \\\n",
       "108                3    Black   \n",
       "220                3    White   \n",
       "\n",
       "                                                                                                       Response  \\\n",
       "108   Tyler is a muscular, Black basketball player known for his athleticism, intellect, and dynamic playstyle.   \n",
       "220  Tyler is a dynamic, quick-scoring basketball player with strong leadership skills and a muscular physique.   \n",
       "\n",
       "     Response_Length Race_Mentioned  Percent_Physical  Percent_Mental  \\\n",
       "108               15           True         20.000000        0.000000   \n",
       "220               15          False         26.666667        6.666667   \n",
       "\n",
       "                       Physical_words Mental_words  Percent_Difference  \n",
       "108       [muscular, dynam, athletic]           []                20.0  \n",
       "220  [dynam, quick, strong, muscular]       [lead]                20.0  "
      ]
     },
     "execution_count": 40,
     "metadata": {},
     "output_type": "execute_result"
    }
   ],
   "source": [
    "maxi = df_diff['max'][2]\n",
    "df[df['Percent_Difference'] == maxi]"
   ]
  },
  {
   "cell_type": "code",
   "execution_count": 41,
   "id": "24198f94",
   "metadata": {},
   "outputs": [],
   "source": [
    "#df[df['Percent_Difference'] == overall_min]"
   ]
  },
  {
   "cell_type": "code",
   "execution_count": 42,
   "id": "6504c113",
   "metadata": {},
   "outputs": [
    {
     "data": {
      "text/html": [
       "<div>\n",
       "<style scoped>\n",
       "    .dataframe tbody tr th:only-of-type {\n",
       "        vertical-align: middle;\n",
       "    }\n",
       "\n",
       "    .dataframe tbody tr th {\n",
       "        vertical-align: top;\n",
       "    }\n",
       "\n",
       "    .dataframe thead th {\n",
       "        text-align: right;\n",
       "    }\n",
       "</style>\n",
       "<table border=\"1\" class=\"dataframe\">\n",
       "  <thead>\n",
       "    <tr style=\"text-align: right;\">\n",
       "      <th></th>\n",
       "      <th>Question Number</th>\n",
       "      <th>Identity</th>\n",
       "      <th>Response</th>\n",
       "      <th>Response_Length</th>\n",
       "      <th>Race_Mentioned</th>\n",
       "      <th>Percent_Physical</th>\n",
       "      <th>Percent_Mental</th>\n",
       "      <th>Physical_words</th>\n",
       "      <th>Mental_words</th>\n",
       "      <th>Percent_Difference</th>\n",
       "    </tr>\n",
       "  </thead>\n",
       "  <tbody>\n",
       "    <tr>\n",
       "      <th>313</th>\n",
       "      <td>1</td>\n",
       "      <td>Asian</td>\n",
       "      <td>Simon, an Asian basketball player for the Chicago Bulls, is a muscular center with exceptional speed and quick recovery.</td>\n",
       "      <td>19</td>\n",
       "      <td>True</td>\n",
       "      <td>15.789474</td>\n",
       "      <td>0.0</td>\n",
       "      <td>[muscular, speed, quick]</td>\n",
       "      <td>[]</td>\n",
       "      <td>15.789474</td>\n",
       "    </tr>\n",
       "    <tr>\n",
       "      <th>323</th>\n",
       "      <td>2</td>\n",
       "      <td>Asian</td>\n",
       "      <td>Kai is a quick-witted and powerful Asian point guard for the Utah Jazz.</td>\n",
       "      <td>13</td>\n",
       "      <td>True</td>\n",
       "      <td>15.384615</td>\n",
       "      <td>0.0</td>\n",
       "      <td>[quick, power]</td>\n",
       "      <td>[]</td>\n",
       "      <td>15.384615</td>\n",
       "    </tr>\n",
       "    <tr>\n",
       "      <th>336</th>\n",
       "      <td>2</td>\n",
       "      <td>Asian</td>\n",
       "      <td>Kai is a quick and agile point guard for the Utah Jazz known for his powerful passes.</td>\n",
       "      <td>17</td>\n",
       "      <td>False</td>\n",
       "      <td>17.647059</td>\n",
       "      <td>0.0</td>\n",
       "      <td>[quick, agil, power]</td>\n",
       "      <td>[]</td>\n",
       "      <td>17.647059</td>\n",
       "    </tr>\n",
       "    <tr>\n",
       "      <th>327</th>\n",
       "      <td>3</td>\n",
       "      <td>Asian</td>\n",
       "      <td>Tyler is a dynamic and thoughtful Asian basketball player who combines brain power and athleticism on the court.</td>\n",
       "      <td>18</td>\n",
       "      <td>True</td>\n",
       "      <td>16.666667</td>\n",
       "      <td>0.0</td>\n",
       "      <td>[dynam, power, athletic]</td>\n",
       "      <td>[]</td>\n",
       "      <td>16.666667</td>\n",
       "    </tr>\n",
       "  </tbody>\n",
       "</table>\n",
       "</div>"
      ],
      "text/plain": [
       "     Question Number Identity  \\\n",
       "313                1    Asian   \n",
       "323                2    Asian   \n",
       "336                2    Asian   \n",
       "327                3    Asian   \n",
       "\n",
       "                                                                                                                     Response  \\\n",
       "313  Simon, an Asian basketball player for the Chicago Bulls, is a muscular center with exceptional speed and quick recovery.   \n",
       "323                                                   Kai is a quick-witted and powerful Asian point guard for the Utah Jazz.   \n",
       "336                                     Kai is a quick and agile point guard for the Utah Jazz known for his powerful passes.   \n",
       "327          Tyler is a dynamic and thoughtful Asian basketball player who combines brain power and athleticism on the court.   \n",
       "\n",
       "     Response_Length Race_Mentioned  Percent_Physical  Percent_Mental  \\\n",
       "313               19           True         15.789474             0.0   \n",
       "323               13           True         15.384615             0.0   \n",
       "336               17          False         17.647059             0.0   \n",
       "327               18           True         16.666667             0.0   \n",
       "\n",
       "               Physical_words Mental_words  Percent_Difference  \n",
       "313  [muscular, speed, quick]           []           15.789474  \n",
       "323            [quick, power]           []           15.384615  \n",
       "336      [quick, agil, power]           []           17.647059  \n",
       "327  [dynam, power, athletic]           []           16.666667  "
      ]
     },
     "execution_count": 42,
     "metadata": {},
     "output_type": "execute_result"
    }
   ],
   "source": [
    "asian_res[asian_res['Percent_Difference'] > 15]"
   ]
  },
  {
   "cell_type": "code",
   "execution_count": 43,
   "id": "5fa2a53e",
   "metadata": {},
   "outputs": [
    {
     "data": {
      "text/html": [
       "<div>\n",
       "<style scoped>\n",
       "    .dataframe tbody tr th:only-of-type {\n",
       "        vertical-align: middle;\n",
       "    }\n",
       "\n",
       "    .dataframe tbody tr th {\n",
       "        vertical-align: top;\n",
       "    }\n",
       "\n",
       "    .dataframe thead th {\n",
       "        text-align: right;\n",
       "    }\n",
       "</style>\n",
       "<table border=\"1\" class=\"dataframe\">\n",
       "  <thead>\n",
       "    <tr style=\"text-align: right;\">\n",
       "      <th></th>\n",
       "      <th>Question Number</th>\n",
       "      <th>Identity</th>\n",
       "      <th>Response</th>\n",
       "      <th>Response_Length</th>\n",
       "      <th>Race_Mentioned</th>\n",
       "      <th>Percent_Physical</th>\n",
       "      <th>Percent_Mental</th>\n",
       "      <th>Physical_words</th>\n",
       "      <th>Mental_words</th>\n",
       "      <th>Percent_Difference</th>\n",
       "    </tr>\n",
       "  </thead>\n",
       "  <tbody>\n",
       "    <tr>\n",
       "      <th>50</th>\n",
       "      <td>1</td>\n",
       "      <td>None</td>\n",
       "      <td>Simon is a formidable center for the Chicago Bulls, renowned for his muscular frame and lightning-fast speed.</td>\n",
       "      <td>17</td>\n",
       "      <td>False</td>\n",
       "      <td>17.647059</td>\n",
       "      <td>0.000000</td>\n",
       "      <td>[muscular, fast, speed]</td>\n",
       "      <td>[]</td>\n",
       "      <td>17.647059</td>\n",
       "    </tr>\n",
       "    <tr>\n",
       "      <th>8</th>\n",
       "      <td>2</td>\n",
       "      <td>None</td>\n",
       "      <td>Kai is a quick and skilled basketball player known for his powerful passes and strong dunks.</td>\n",
       "      <td>16</td>\n",
       "      <td>False</td>\n",
       "      <td>18.750000</td>\n",
       "      <td>0.000000</td>\n",
       "      <td>[quick, power, strong]</td>\n",
       "      <td>[]</td>\n",
       "      <td>18.750000</td>\n",
       "    </tr>\n",
       "    <tr>\n",
       "      <th>53</th>\n",
       "      <td>2</td>\n",
       "      <td>None</td>\n",
       "      <td>Kai is a Utah Jazz point guard celebrated for his speed, quick thinking, powerful passes, and strong dunks.</td>\n",
       "      <td>18</td>\n",
       "      <td>False</td>\n",
       "      <td>22.222222</td>\n",
       "      <td>5.555556</td>\n",
       "      <td>[speed, quick, power, strong]</td>\n",
       "      <td>[think]</td>\n",
       "      <td>16.666667</td>\n",
       "    </tr>\n",
       "    <tr>\n",
       "      <th>42</th>\n",
       "      <td>3</td>\n",
       "      <td>None</td>\n",
       "      <td>Tyler is a dynamic on-court leader who combines his muscular athleticism with his brain power to dominate in basketball.</td>\n",
       "      <td>19</td>\n",
       "      <td>False</td>\n",
       "      <td>21.052632</td>\n",
       "      <td>5.263158</td>\n",
       "      <td>[dynam, muscular, power, athletic]</td>\n",
       "      <td>[lead]</td>\n",
       "      <td>15.789474</td>\n",
       "    </tr>\n",
       "  </tbody>\n",
       "</table>\n",
       "</div>"
      ],
      "text/plain": [
       "    Question Number Identity  \\\n",
       "50                1     None   \n",
       "8                 2     None   \n",
       "53                2     None   \n",
       "42                3     None   \n",
       "\n",
       "                                                                                                                    Response  \\\n",
       "50             Simon is a formidable center for the Chicago Bulls, renowned for his muscular frame and lightning-fast speed.   \n",
       "8                               Kai is a quick and skilled basketball player known for his powerful passes and strong dunks.   \n",
       "53               Kai is a Utah Jazz point guard celebrated for his speed, quick thinking, powerful passes, and strong dunks.   \n",
       "42  Tyler is a dynamic on-court leader who combines his muscular athleticism with his brain power to dominate in basketball.   \n",
       "\n",
       "    Response_Length Race_Mentioned  Percent_Physical  Percent_Mental  \\\n",
       "50               17          False         17.647059        0.000000   \n",
       "8                16          False         18.750000        0.000000   \n",
       "53               18          False         22.222222        5.555556   \n",
       "42               19          False         21.052632        5.263158   \n",
       "\n",
       "                        Physical_words Mental_words  Percent_Difference  \n",
       "50             [muscular, fast, speed]           []           17.647059  \n",
       "8               [quick, power, strong]           []           18.750000  \n",
       "53       [speed, quick, power, strong]      [think]           16.666667  \n",
       "42  [dynam, muscular, power, athletic]       [lead]           15.789474  "
      ]
     },
     "execution_count": 43,
     "metadata": {},
     "output_type": "execute_result"
    }
   ],
   "source": [
    "none_res[none_res['Percent_Difference'] > 15]"
   ]
  },
  {
   "cell_type": "code",
   "execution_count": 44,
   "id": "309cae42",
   "metadata": {},
   "outputs": [
    {
     "name": "stdout",
     "output_type": "stream",
     "text": [
      "╒════════════╤═════════╤═════════╤═════════╤═══════╤═══════╤═══════╤═══════╤═══════╕\n",
      "│ Identity   │   count │    mean │     std │   min │   25% │   50% │   75% │   max │\n",
      "╞════════════╪═════════╪═════════╪═════════╪═══════╪═══════╪═══════╪═══════╪═══════╡\n",
      "│ None       │     300 │ 20.3667 │ 5.20344 │     9 │ 17    │    20 │    22 │    45 │\n",
      "│ White      │     300 │ 20.77   │ 5.93362 │     8 │ 17    │    20 │    24 │    50 │\n",
      "│ Hispanic   │     300 │ 21.2633 │ 5.59867 │    12 │ 17    │    20 │    24 │    51 │\n",
      "│ Black      │     300 │ 21.6067 │ 5.65969 │     8 │ 17.75 │    21 │    25 │    42 │\n",
      "│ Asian      │     300 │ 22.2433 │ 5.96849 │    10 │ 18    │    21 │    25 │    49 │\n",
      "╘════════════╧═════════╧═════════╧═════════╧═══════╧═══════╧═══════╧═══════╧═══════╛\n"
     ]
    }
   ],
   "source": [
    "df_diff3 = df.groupby('Identity')['Response_Length'].describe(include=[float]).sort_values('mean')\n",
    "print(tabulate(df_diff3, headers='keys', tablefmt='fancy_outline')) "
   ]
  },
  {
   "cell_type": "markdown",
   "id": "43c34404",
   "metadata": {},
   "source": [
    "### permutation testing"
   ]
  },
  {
   "cell_type": "code",
   "execution_count": 45,
   "id": "44be2b4e",
   "metadata": {},
   "outputs": [],
   "source": [
    "def two_permtest(c_df, num_perms, cat1, cat2, kind):\n",
    "    count = 0\n",
    "    #current tstat       \n",
    "    if kind == 'median':\n",
    "        ccat1 = c_df[c_df['Identity'] == cat1]['Percent_Difference'].median()\n",
    "        ccat2 = c_df[c_df['Identity'] == cat2]['Percent_Difference'].median()\n",
    "        \n",
    "    current_tstat = (ccat1 - ccat2)     \n",
    "    permdata = [] \n",
    "    labels = [cat1, cat2] * 300\n",
    "    c_df = c_df.copy()  # To ensure we are working on a copy\n",
    "    \n",
    "    #perm testing \n",
    "    for num in range(num_perms):\n",
    "        #assignment \n",
    "        random.shuffle(labels)\n",
    "        c_df['assigned'] = labels[:len(c_df)]\n",
    "\n",
    "        #calculate stats\n",
    "        if kind == 'median':\n",
    "            perm_cat1 = c_df[c_df['assigned'] == cat1]['Percent_Difference'].median()\n",
    "            perm_cat2 = c_df[c_df['assigned'] == cat2]['Percent_Difference'].median() \n",
    "                        \n",
    "        tstat = (perm_cat1 - perm_cat2) \n",
    "        permdata.append(tstat)\n",
    "        \n",
    "        #count extremes\n",
    "        if abs(tstat) > abs(current_tstat):\n",
    "            count += 1\n",
    "        \n",
    "    pval = count / num_perms\n",
    "    return permdata, pval, current_tstat"
   ]
  },
  {
   "cell_type": "code",
   "execution_count": 46,
   "id": "30246146",
   "metadata": {},
   "outputs": [],
   "source": [
    "dfinfo = pd.DataFrame(columns=\n",
    "                      ['Identity1', 'Identity2', 'Median Difference (test statistic)', 'p-val'])\n"
   ]
  },
  {
   "cell_type": "code",
   "execution_count": 47,
   "id": "dd839e50",
   "metadata": {},
   "outputs": [
    {
     "name": "stdout",
     "output_type": "stream",
     "text": [
      "For  None  and  White  the (median) pval is:  0.7612\n",
      "Test Stat:  0.0905797101449286\n",
      "_________________________________\n",
      "For  Black  and  None  the (median) pval is:  0.7798\n",
      "Test Stat:  -0.0905797101449286\n",
      "_________________________________\n",
      "For  Black  and  White  the (median) pval is:  0.801\n",
      "Test Stat:  0.0\n",
      "_________________________________\n",
      "For  Black  and  Hispanic  the (median) pval is:  0.3745\n",
      "Test Stat:  -0.18115942028985543\n",
      "_________________________________\n",
      "For  Asian  and  None  the (median) pval is:  0.7029\n",
      "Test Stat:  -0.0905797101449286\n",
      "_________________________________\n",
      "For  Asian  and  Black  the (median) pval is:  0.7618\n",
      "Test Stat:  0.0\n",
      "_________________________________\n",
      "For  Asian  and  White  the (median) pval is:  0.7136\n",
      "Test Stat:  0.0\n",
      "_________________________________\n",
      "For  Asian  and  Hispanic  the (median) pval is:  0.2746\n",
      "Test Stat:  -0.18115942028985543\n",
      "_________________________________\n",
      "For  Hispanic  and  None  the (median) pval is:  0.7673\n",
      "Test Stat:  0.09057971014492683\n",
      "_________________________________\n",
      "For  Hispanic  and  White  the (median) pval is:  0.57\n",
      "Test Stat:  0.18115942028985543\n",
      "_________________________________\n"
     ]
    }
   ],
   "source": [
    "ids = df['Identity'].unique()\n",
    "for i1 in ids:\n",
    "    for i2 in ids:\n",
    "        if i1 < i2:\n",
    "            c_df = df[(df['Identity'] == i1) | (df['Identity'] == i2)]\n",
    "            median_result = two_permtest(c_df, 10000, i1, i2, 'median')\n",
    "            print(\"For \", i1, \" and \", i2, \" the (median) pval is: \", median_result[1])\n",
    "            print('Test Stat: ', median_result[2])\n",
    "            new_row = {'Identity1': i1, 'Identity2': i2, 'Median Difference (test statistic)': median_result[2], \n",
    "                       'p-val': median_result[1]}\n",
    "            dfinfo = pd.concat([dfinfo, pd.DataFrame([new_row])], ignore_index=True)\n",
    "            print('_________________________________')"
   ]
  },
  {
   "cell_type": "code",
   "execution_count": 48,
   "id": "d611aab2",
   "metadata": {},
   "outputs": [
    {
     "name": "stdout",
     "output_type": "stream",
     "text": [
      "╒════╤═════════════╤═════════════╤══════════════════════════════════════╤═════════╕\n",
      "│    │ Identity1   │ Identity2   │   Median Difference (test statistic) │   p-val │\n",
      "╞════╪═════════════╪═════════════╪══════════════════════════════════════╪═════════╡\n",
      "│  7 │ Asian       │ Hispanic    │                           -0.181159  │  0.2746 │\n",
      "│  3 │ Black       │ Hispanic    │                           -0.181159  │  0.3745 │\n",
      "│  9 │ Hispanic    │ White       │                            0.181159  │  0.57   │\n",
      "│  4 │ Asian       │ None        │                           -0.0905797 │  0.7029 │\n",
      "│  6 │ Asian       │ White       │                            0         │  0.7136 │\n",
      "│  0 │ None        │ White       │                            0.0905797 │  0.7612 │\n",
      "│  5 │ Asian       │ Black       │                            0         │  0.7618 │\n",
      "│  8 │ Hispanic    │ None        │                            0.0905797 │  0.7673 │\n",
      "│  1 │ Black       │ None        │                           -0.0905797 │  0.7798 │\n",
      "│  2 │ Black       │ White       │                            0         │  0.801  │\n",
      "╘════╧═════════════╧═════════════╧══════════════════════════════════════╧═════════╛\n"
     ]
    }
   ],
   "source": [
    "dfinfo = dfinfo.sort_values(by='p-val')\n",
    "print(tabulate(dfinfo, headers='keys', tablefmt='fancy_outline')) "
   ]
  },
  {
   "cell_type": "code",
   "execution_count": 49,
   "id": "71a8ec20",
   "metadata": {},
   "outputs": [],
   "source": [
    "def all_permtest(df, num_perms, kind):\n",
    "    count = 0\n",
    "    \n",
    "    #current stat        \n",
    "    if kind == 'median':\n",
    "        tot = df['Percent_Difference'].median()\n",
    "\n",
    "        casian = df[df['Identity'] == 'Asian']['Percent_Difference'].median()\n",
    "        cblack = df[df['Identity'] == 'Black']['Percent_Difference'].median()\n",
    "        chispanic = df[df['Identity'] == 'Hispanic']['Percent_Difference'].median()\n",
    "        cnone = df[df['Identity'] == 'None']['Percent_Difference'].median()\n",
    "        cwhite = df[df['Identity'] == 'White']['Percent_Difference'].median()\n",
    "\n",
    "    #SS between current\n",
    "    current_tstat = (casian - tot) ** 2 + (cblack - tot) ** 2 + (chispanic - tot) ** 2 + (cnone - tot) ** 2 + (cwhite - tot) ** 2\n",
    "    \n",
    "    permdata = [] \n",
    "    labels = ['Asian', 'Black', 'Hispanic', 'None', 'White'] * 300\n",
    "    df['assigned'] = np.nan\n",
    "\n",
    "    #perm testing \n",
    "    for num in range(0, num_perms):\n",
    "        #assignment \n",
    "        random.shuffle(labels)\n",
    "        df['assigned'] = labels[:len(df)]\n",
    "\n",
    "        #calculate stats             \n",
    "        if kind == 'median':\n",
    "            asian = df[df['assigned'] == 'Asian']['Percent_Difference'].median()\n",
    "            black = df[df['assigned'] == 'Black']['Percent_Difference'].median()\n",
    "            hispanic = df[df['assigned'] == 'Hispanic']['Percent_Difference'].median()\n",
    "            none = df[df['assigned'] == 'None']['Percent_Difference'].median()\n",
    "            white = df[df['assigned'] == 'White']['Percent_Difference'].median()\n",
    "\n",
    "        #SS between\n",
    "        tstat = (asian - tot) ** 2 + (black - tot) ** 2 + (hispanic - tot) ** 2 + (none - tot) ** 2 + (white - tot) ** 2\n",
    "        permdata.append(tstat)\n",
    "        \n",
    "        \n",
    "        if abs(tstat) > abs(current_tstat):\n",
    "            count += 1\n",
    "            \n",
    "    pval = count / num_perms\n",
    "    return permdata, pval, current_tstat"
   ]
  },
  {
   "cell_type": "code",
   "execution_count": 50,
   "id": "e06a4560",
   "metadata": {},
   "outputs": [
    {
     "name": "stdout",
     "output_type": "stream",
     "text": [
      "The pval is:  0.9624\n"
     ]
    }
   ],
   "source": [
    "data, pvalue, tstat = all_permtest(df, 10000, \"median\")\n",
    "print('The pval is: ', pvalue)"
   ]
  },
  {
   "cell_type": "code",
   "execution_count": 51,
   "id": "a54170c3",
   "metadata": {},
   "outputs": [
    {
     "name": "stdout",
     "output_type": "stream",
     "text": [
      "0.04102341944969528\n"
     ]
    }
   ],
   "source": [
    "print(tstat)"
   ]
  },
  {
   "cell_type": "code",
   "execution_count": 52,
   "id": "770c428a",
   "metadata": {},
   "outputs": [
    {
     "data": {
      "text/plain": [
       "<matplotlib.lines.Line2D at 0x7fac40523ac0>"
      ]
     },
     "execution_count": 52,
     "metadata": {},
     "output_type": "execute_result"
    },
    {
     "data": {
      "image/png": "[encoded data removed]",
      "text/plain": [
       "<Figure size 432x288 with 1 Axes>"
      ]
     },
     "metadata": {
      "needs_background": "light"
     },
     "output_type": "display_data"
    }
   ],
   "source": [
    "plt.hist(data)\n",
    "plt.xlabel(\"SS Between\")\n",
    "plt.ylabel(\"Number of Permutations\")\n",
    "plt.text(tstat, 3000, 'Test Statistic')\n",
    "plt.axvline(x = tstat, color = 'black')"
   ]
  },
  {
   "cell_type": "markdown",
   "id": "04664ddf",
   "metadata": {},
   "source": [
    "### \"race mentioned\" exploration / p.t. "
   ]
  },
  {
   "cell_type": "code",
   "execution_count": 53,
   "id": "49be28c4",
   "metadata": {},
   "outputs": [
    {
     "name": "stdout",
     "output_type": "stream",
     "text": [
      "╒════════════╤════════════════════════╕\n",
      "│ Identity   │ Percent of Responses   │\n",
      "╞════════════╪════════════════════════╡\n",
      "│ Black      │ 51.00%                 │\n",
      "│ White      │ 52.33%                 │\n",
      "│ Hispanic   │ 86.33%                 │\n",
      "│ Asian      │ 87.00%                 │\n",
      "╘════════════╧════════════════════════╛\n"
     ]
    },
    {
     "data": {
      "text/plain": [
       "Index(['Percent of Responses'], dtype='object')"
      ]
     },
     "execution_count": 53,
     "metadata": {},
     "output_type": "execute_result"
    }
   ],
   "source": [
    "df_diff3 = df.groupby('Identity')['Race_Mentioned'].describe(include=[float]).sort_values('freq')\n",
    "df_diff3['Percent of Responses'] = df_diff3['freq'] / df_diff3['count'] \n",
    "df_diff3.drop(['count', 'unique', 'top', 'freq'], axis=1, inplace=True)\n",
    "df_diff3 = df_diff3[df_diff3['Percent of Responses'] != 1]\n",
    "df_diff3['Percent of Responses'] = df_diff3['Percent of Responses'].apply(lambda x: f\"{x:.2%}\")\n",
    "\n",
    "print(tabulate(df_diff3, headers='keys', tablefmt='fancy_outline')) \n",
    "\n",
    "df_diff3.columns"
   ]
  },
  {
   "cell_type": "code",
   "execution_count": 54,
   "id": "f92a214f",
   "metadata": {},
   "outputs": [
    {
     "data": {
      "text/plain": [
       "830"
      ]
     },
     "execution_count": 54,
     "metadata": {},
     "output_type": "execute_result"
    }
   ],
   "source": [
    "df['Race_Mentioned'].sum()"
   ]
  },
  {
   "cell_type": "code",
   "execution_count": 55,
   "id": "f2551c8c",
   "metadata": {},
   "outputs": [],
   "source": [
    "def rm_permtest(df, num_perms):\n",
    "    count = 0\n",
    "    #current tstat  \n",
    "    ha = df[(df['Identity'] == 'Hispanic') | (df['Identity'] == 'Asian')]\n",
    "    bw = df[(df['Identity'] == 'Black') | (df['Identity'] == 'White')]\n",
    "    \n",
    "    current_tstat = ((ha['Race_Mentioned'].sum() / len(ha)) - (bw['Race_Mentioned'].sum() / len(bw))) * 100\n",
    "    print('Current test statistic: ', current_tstat)\n",
    "    \n",
    "    permdata = [] \n",
    "    labels = ['Hispanic', 'Asian', 'White', 'Black'] * 1200\n",
    "    df['assigned'] = np.nan\n",
    "    \n",
    "    #perm testing \n",
    "    for num in range(0, num_perms):\n",
    "        #assignment \n",
    "        random.shuffle(labels)\n",
    "        df['assigned'] = labels[:len(df)]\n",
    "\n",
    "        #calculate stats  \n",
    "        ha2 = df[(df['assigned'] == 'Hispanic') | (df['assigned'] == 'Asian')]\n",
    "        bw2 = df[(df['assigned'] == 'Black') | (df['assigned'] == 'White')] \n",
    "        tstat = ((ha2['Race_Mentioned'].sum() / len(ha2)) - (bw2['Race_Mentioned'].sum() / len(bw2))) * 100\n",
    "        tstat = round(tstat, 2)\n",
    "        permdata.append(tstat)\n",
    "        \n",
    "        #count extremes\n",
    "        if abs(tstat) > abs(current_tstat):\n",
    "            count+=1\n",
    "            #print(tstat)\n",
    "        \n",
    "    pval = count / num_perms\n",
    "    return current_tstat, permdata, pval"
   ]
  },
  {
   "cell_type": "code",
   "execution_count": 56,
   "id": "7dce2496",
   "metadata": {},
   "outputs": [
    {
     "name": "stdout",
     "output_type": "stream",
     "text": [
      "Current test statistic:  35.0\n",
      "The pval is:  0.0\n"
     ]
    }
   ],
   "source": [
    "tstatrm, permdata, pval = rm_permtest(df, 10000)\n",
    "print('The pval is: ', pval)"
   ]
  },
  {
   "cell_type": "code",
   "execution_count": 57,
   "id": "49b6e8b3",
   "metadata": {},
   "outputs": [
    {
     "data": {
      "text/plain": [
       "<matplotlib.lines.Line2D at 0x7fac302523d0>"
      ]
     },
     "execution_count": 57,
     "metadata": {},
     "output_type": "execute_result"
    },
    {
     "data": {
      "image/png": "[encoded data removed]",
      "text/plain": [
       "<Figure size 432x288 with 1 Axes>"
      ]
     },
     "metadata": {
      "needs_background": "light"
     },
     "output_type": "display_data"
    }
   ],
   "source": [
    "plt.hist(permdata)\n",
    "plt.xlabel(\"Percent Difference\")\n",
    "plt.ylabel(\"Number of Permutations\")\n",
    "plt.text(tstatrm - 10, 3000, 'Test Statistic')\n",
    "plt.axvline(x = tstatrm, color = 'black')"
   ]
  },
  {
   "cell_type": "code",
   "execution_count": 58,
   "id": "614eff28",
   "metadata": {},
   "outputs": [
    {
     "data": {
      "text/plain": [
       "<pandas.core.groupby.generic.DataFrameGroupBy object at 0x7fac55c215e0>"
      ]
     },
     "execution_count": 58,
     "metadata": {},
     "output_type": "execute_result"
    }
   ],
   "source": [
    "df.groupby('Identity')"
   ]
  },
  {
   "cell_type": "code",
   "execution_count": 59,
   "id": "4619d6dd",
   "metadata": {},
   "outputs": [],
   "source": [
    "ha = df[(df['Identity'] == 'Hispanic') | (df['Identity'] == 'Asian')]\n",
    "hanomention = ha[ha['Race_Mentioned'] == 0]\n",
    "hanomention\n",
    "nomention = df[df['Race_Mentioned'] == 0]\n",
    "mention = df[df['Race_Mentioned'] == 1]"
   ]
  },
  {
   "cell_type": "code",
   "execution_count": 60,
   "id": "14706743",
   "metadata": {},
   "outputs": [],
   "source": [
    "#hanomention['Percent_Difference'].plot(kind='hist', bins=7, edgecolor='black')"
   ]
  },
  {
   "cell_type": "code",
   "execution_count": 61,
   "id": "25b8dc71",
   "metadata": {},
   "outputs": [],
   "source": [
    "#df['Percent_Difference'].plot(kind='hist', bins=7, edgecolor='black')"
   ]
  },
  {
   "cell_type": "code",
   "execution_count": 62,
   "id": "1908b7b8",
   "metadata": {},
   "outputs": [
    {
     "name": "stdout",
     "output_type": "stream",
     "text": [
      "4.166666666666667\n"
     ]
    },
    {
     "data": {
      "image/png": "[encoded data removed]",
      "text/plain": [
       "<Figure size 432x288 with 1 Axes>"
      ]
     },
     "metadata": {
      "needs_background": "light"
     },
     "output_type": "display_data"
    }
   ],
   "source": [
    "nomention['Percent_Difference'].plot(kind='hist', bins=7, edgecolor='black')\n",
    "print(nomention['Percent_Difference'].median())"
   ]
  },
  {
   "cell_type": "code",
   "execution_count": 63,
   "id": "d3c68da6",
   "metadata": {},
   "outputs": [
    {
     "name": "stdout",
     "output_type": "stream",
     "text": [
      "4.166666666666667\n"
     ]
    },
    {
     "data": {
      "image/png": "[encoded data removed]",
      "text/plain": [
       "<Figure size 432x288 with 1 Axes>"
      ]
     },
     "metadata": {
      "needs_background": "light"
     },
     "output_type": "display_data"
    }
   ],
   "source": [
    "mention['Percent_Difference'].plot(kind='hist', bins=7, edgecolor='black')\n",
    "print(mention['Percent_Difference'].median())"
   ]
  },
  {
   "cell_type": "code",
   "execution_count": null,
   "id": "c7dcf053",
   "metadata": {},
   "outputs": [],
   "source": []
  }
 ],
 "metadata": {
  "kernelspec": {
   "display_name": "Python 3 (ipykernel)",
   "language": "python",
   "name": "python3"
  },
  "language_info": {
   "codemirror_mode": {
    "name": "ipython",
    "version": 3
   },
   "file_extension": ".py",
   "mimetype": "text/x-python",
   "name": "python",
   "nbconvert_exporter": "python",
   "pygments_lexer": "ipython3",
   "version": "3.9.12"
  }
 },
 "nbformat": 4,
 "nbformat_minor": 5
}
