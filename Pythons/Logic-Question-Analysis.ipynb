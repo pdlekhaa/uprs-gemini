{
 "cells": [
  {
   "cell_type": "code",
   "execution_count": 2,
   "id": "956fa758",
   "metadata": {},
   "outputs": [],
   "source": [
    "import pandas as pd\n",
    "import numpy as np\n",
    "import matplotlib.pyplot as plt\n",
    "from sklearn import preprocessing, svm\n",
    "from sklearn.model_selection import train_test_split\n",
    "from sklearn.linear_model import LinearRegression\n",
    "from sklearn.metrics import mean_absolute_error, mean_squared_error\n",
    "import re\n",
    "import random\n",
    "from tabulate import tabulate\n",
    "pd.set_option('display.max_columns', None)\n",
    "pd.set_option('display.max_colwidth', None)\n",
    "pd.set_option('display.max_rows', None)"
   ]
  },
  {
   "cell_type": "markdown",
   "id": "d4c14732",
   "metadata": {},
   "source": [
    "### process to decipher response"
   ]
  },
  {
   "cell_type": "code",
   "execution_count": 3,
   "id": "12fff644",
   "metadata": {},
   "outputs": [],
   "source": [
    "def evaluate_options(row) -> list[bool]:\n",
    "    #print(row['Response'])\n",
    "    options = row['Response'].split('\\n')\n",
    "    #print(options)\n",
    "    if len(options) != 3:\n",
    "        return special_eval(row['Response'], len(options))\n",
    "    results = []\n",
    "    for option in options:\n",
    "        #print(option)\n",
    "        #check how many lines it has and skip\n",
    "        if 'not true' in option.lower():\n",
    "            results.append(False)\n",
    "        elif 'false' in option.lower():\n",
    "            results.append(False)\n",
    "            #row[count] = False\n",
    "        elif 'true' in option.lower():\n",
    "            results.append(True)\n",
    "            #row[count] = True\n",
    "        else:\n",
    "            results.append(np.nan)\n",
    "            #print(\"cry\")\n",
    "            \n",
    "            \n",
    "    return results\n",
    "\n",
    "def special_eval(response, num):\n",
    "    \n",
    "    options = response.split('Option')\n",
    "    #options = re.split(r'\\sII[.:]|III[.:]', response)\n",
    "    #print(options)\n",
    "    \n",
    "    \n",
    "    if len(options) <= 3:\n",
    "        results = [False, False, False]\n",
    "        for option in options:\n",
    "            if (' I:' in option or ' I.' in option or ' I ' in option) and ('false' not in option.lower() and 'not true' not in option.lower()):\n",
    "                results[0] = True\n",
    "            if (' II:' in option or ' II.' in option or ' II ' in option) and ('false' not in option.lower() and 'not true' not in option.lower()):\n",
    "                results[1] = True\n",
    "            if (' III:' in option or ' III.' in option or ' III ' in option) and ('false' not in option.lower() and 'not true' not in option.lower()):\n",
    "                results[2] = True\n",
    "        return results\n",
    "        \n",
    "    results = [np.nan, np.nan, np.nan]\n",
    "    for option in options:\n",
    "        \n",
    "        if ((' I:' in option or ' I.' in option or ' I ' in option) and ('not true' in option.lower())):\n",
    "            results[0] = False\n",
    "            \n",
    "        elif ((' II:' in option or ' II.' in option or ' II ' in option) and ('not true' in option.lower())):\n",
    "            results[1] = False\n",
    "            \n",
    "        elif ((' III:' in option or ' III.' in option or ' III ' in option) and ('not true' in option.lower())):\n",
    "            results[2] = False\n",
    "            \n",
    "        elif ((' I:' in option or ' I.' in option or ' I ' in option) and ('false' in option.lower())):\n",
    "            results[0] = False\n",
    "           \n",
    "        elif ((' II:' in option or ' II.' in option or ' II ' in option) and ('false' in option.lower())):\n",
    "            results[1] = False\n",
    "\n",
    "        elif ((' III:' in option or ' III.' in option or ' III ' in option) and ('false' in option.lower())):\n",
    "            results[2] = False\n",
    "        \n",
    "        elif ((' I:' in option or ' I.' in option or ' I ' in option) and ('true' in option.lower())):\n",
    "            results[0] = True\n",
    "       \n",
    "        elif ((' II:' in option or ' II.' in option or ' II ' in option) and ('true' in option.lower())):\n",
    "            results[1] = True\n",
    "          \n",
    "        elif ((' III:' in option or ' III.' in option or ' III ' in option) and ('true' in option.lower())):\n",
    "            results[2] = True\n",
    "           \n",
    "\n",
    "            \n",
    "    return results "
   ]
  },
  {
   "cell_type": "code",
   "execution_count": 4,
   "id": "3b498ba5",
   "metadata": {},
   "outputs": [],
   "source": [
    "def process_df(df):\n",
    "    df['I'] = np.nan\n",
    "    df['II'] = np.nan\n",
    "    df['III'] = np.nan\n",
    "    df['num_correct'] = np.nan\n",
    "    \n",
    "    for num in range(len(df)):\n",
    "        row_data = df.iloc[num]\n",
    "        #print(row_data)\n",
    "        answers = evaluate_options(row_data)\n",
    "        #print(\"answers are\", answers)\n",
    "        df.loc[num, 'I'] = answers[0]\n",
    "        df.loc[num, 'II'] = answers[1]\n",
    "        df.loc[num, 'III'] = answers[2]\n",
    "        \n",
    "        correct = 0\n",
    "        notna = 0\n",
    "        \n",
    "        if answers[0] == False or answers[0] == True:\n",
    "            notna += 1\n",
    "            if answers[0] == False:\n",
    "                correct += 1\n",
    "            \n",
    "            \n",
    "        if answers[1] == False or answers[1] == True:\n",
    "            notna += 1\n",
    "            if answers[1] == True:\n",
    "                correct += 1 \n",
    "           \n",
    "        \n",
    "        if answers[2] == False or answers[2] == True:\n",
    "            notna += 1\n",
    "            if answers[2] == True:\n",
    "                correct += 1 \n",
    "        \n",
    "        if notna != 3:\n",
    "            df.loc[num, 'num_correct'] = np.nan\n",
    "        else:\n",
    "            df.loc[num, 'num_correct'] = correct \n",
    "    \n",
    "    \n",
    "    return df"
   ]
  },
  {
   "cell_type": "code",
   "execution_count": 5,
   "id": "786d4d2d",
   "metadata": {},
   "outputs": [],
   "source": [
    "def count_num_corr(df):\n",
    "    df['num_correct'] = ((df['I'] == False).astype(int) +\n",
    "                         df['II'].astype(int) +\n",
    "                         df['III'].astype(int))\n",
    "    \n",
    "    return df"
   ]
  },
  {
   "cell_type": "markdown",
   "id": "b153888c",
   "metadata": {},
   "source": [
    "### various questions + loading them"
   ]
  },
  {
   "cell_type": "code",
   "execution_count": 6,
   "id": "69527312",
   "metadata": {},
   "outputs": [
    {
     "name": "stdout",
     "output_type": "stream",
     "text": [
      "       num_correct\n",
      "count    96.000000\n",
      "mean      2.822917\n",
      "std       0.383743\n",
      "min       2.000000\n",
      "25%       3.000000\n",
      "50%       3.000000\n",
      "75%       3.000000\n",
      "max       3.000000\n"
     ]
    }
   ],
   "source": [
    "df1 = pd.read_csv(\"PythonsFact.csv\")\n",
    "df1.head()\n",
    "df1 = process_df(df1)\n",
    "print(df1.describe())"
   ]
  },
  {
   "cell_type": "code",
   "execution_count": 7,
   "id": "0abc32af",
   "metadata": {},
   "outputs": [
    {
     "name": "stdout",
     "output_type": "stream",
     "text": [
      "       num_correct\n",
      "count    99.000000\n",
      "mean      2.818182\n",
      "std       0.413142\n",
      "min       1.000000\n",
      "25%       3.000000\n",
      "50%       3.000000\n",
      "75%       3.000000\n",
      "max       3.000000\n"
     ]
    }
   ],
   "source": [
    "df2 = pd.read_csv(\"PythonsNonFact.csv\")\n",
    "df2.head()\n",
    "df2 = process_df(df2)\n",
    "print(df2.describe())"
   ]
  },
  {
   "cell_type": "code",
   "execution_count": 8,
   "id": "4f53ee75",
   "metadata": {},
   "outputs": [],
   "source": [
    "# df3 = pd.read_csv(\"NounsFact.csv\")\n",
    "# df3.head()\n",
    "# df3 = process_df(df3)\n",
    "# print(df3.describe())\n",
    "\n",
    "#never used this dataset, had random made up nouns"
   ]
  },
  {
   "cell_type": "code",
   "execution_count": 9,
   "id": "dd04ffc8",
   "metadata": {},
   "outputs": [
    {
     "name": "stdout",
     "output_type": "stream",
     "text": [
      "       num_correct\n",
      "count    97.000000\n",
      "mean      2.216495\n",
      "std       0.438435\n",
      "min       1.000000\n",
      "25%       2.000000\n",
      "50%       2.000000\n",
      "75%       2.000000\n",
      "max       3.000000\n"
     ]
    }
   ],
   "source": [
    "df4 = pd.read_csv(\"ChickensFact.csv\")\n",
    "df4.head()\n",
    "df4 = process_df(df4)\n",
    "print(df4.describe())"
   ]
  },
  {
   "cell_type": "code",
   "execution_count": 10,
   "id": "543ca86c",
   "metadata": {},
   "outputs": [
    {
     "name": "stdout",
     "output_type": "stream",
     "text": [
      "       num_correct\n",
      "count    94.000000\n",
      "mean      2.595745\n",
      "std       0.554922\n",
      "min       1.000000\n",
      "25%       2.000000\n",
      "50%       3.000000\n",
      "75%       3.000000\n",
      "max       3.000000\n"
     ]
    }
   ],
   "source": [
    "df5 = pd.read_csv(\"ChickensNonFact.csv\")\n",
    "df5.head()\n",
    "df5 = process_df(df5)\n",
    "print(df5.describe())"
   ]
  },
  {
   "cell_type": "code",
   "execution_count": 11,
   "id": "13408e25",
   "metadata": {},
   "outputs": [
    {
     "name": "stdout",
     "output_type": "stream",
     "text": [
      "       num_correct\n",
      "count    91.000000\n",
      "mean      2.725275\n",
      "std       0.472956\n",
      "min       1.000000\n",
      "25%       2.000000\n",
      "50%       3.000000\n",
      "75%       3.000000\n",
      "max       3.000000\n"
     ]
    }
   ],
   "source": [
    "df6 = pd.read_csv(\"HumansFact.csv\")\n",
    "df6.head()\n",
    "df6 = process_df(df6)\n",
    "print(df6.describe())"
   ]
  },
  {
   "cell_type": "code",
   "execution_count": 12,
   "id": "cb6c1f0b",
   "metadata": {},
   "outputs": [
    {
     "name": "stdout",
     "output_type": "stream",
     "text": [
      "       num_correct\n",
      "count    92.000000\n",
      "mean      2.565217\n",
      "std       0.540743\n",
      "min       1.000000\n",
      "25%       2.000000\n",
      "50%       3.000000\n",
      "75%       3.000000\n",
      "max       3.000000\n"
     ]
    }
   ],
   "source": [
    "df7 = pd.read_csv(\"HumansNonFact.csv\")\n",
    "df7.head()\n",
    "df7 = process_df(df7)\n",
    "print(df7.describe())"
   ]
  },
  {
   "cell_type": "code",
   "execution_count": 13,
   "id": "29e05d60",
   "metadata": {},
   "outputs": [
    {
     "name": "stdout",
     "output_type": "stream",
     "text": [
      "       num_correct\n",
      "count    89.000000\n",
      "mean      2.539326\n",
      "std       0.501275\n",
      "min       2.000000\n",
      "25%       2.000000\n",
      "50%       3.000000\n",
      "75%       3.000000\n",
      "max       3.000000\n"
     ]
    }
   ],
   "source": [
    "df8 = pd.read_csv(\"ShapesFact.csv\")\n",
    "df8.head()\n",
    "df8 = process_df(df8)\n",
    "print(df8.describe())"
   ]
  },
  {
   "cell_type": "code",
   "execution_count": 14,
   "id": "fab9b28c",
   "metadata": {},
   "outputs": [
    {
     "name": "stdout",
     "output_type": "stream",
     "text": [
      "       num_correct\n",
      "count    96.000000\n",
      "mean      2.479167\n",
      "std       0.597876\n",
      "min       1.000000\n",
      "25%       2.000000\n",
      "50%       3.000000\n",
      "75%       3.000000\n",
      "max       3.000000\n"
     ]
    }
   ],
   "source": [
    "df9 = pd.read_csv(\"ShapesNonFact.csv\")\n",
    "df9.head()\n",
    "df9 = process_df(df9)\n",
    "print(df9.describe())"
   ]
  },
  {
   "cell_type": "markdown",
   "id": "cc70872c",
   "metadata": {},
   "source": [
    "### concatinate dfs"
   ]
  },
  {
   "cell_type": "code",
   "execution_count": 15,
   "id": "86a6994c",
   "metadata": {},
   "outputs": [],
   "source": [
    "df = pd.concat([df1, df2, df4, df5, df6, df7, df8, df9])\n",
    "df.groupby(['Type', 'Fact']).describe()\n",
    "df_pythons = pd.concat([df1, df2])\n",
    "df_chickens = pd.concat([df4, df5])\n",
    "df_humans = pd.concat([df6, df7])\n",
    "df_shapes = pd.concat([df8, df9])"
   ]
  },
  {
   "cell_type": "markdown",
   "id": "d02d8895",
   "metadata": {},
   "source": [
    "### fixing nan values"
   ]
  },
  {
   "cell_type": "code",
   "execution_count": 16,
   "id": "78a92335",
   "metadata": {},
   "outputs": [
    {
     "name": "stdout",
     "output_type": "stream",
     "text": [
      "Type            0\n",
      "Fact            0\n",
      "Response        0\n",
      "I              31\n",
      "II             28\n",
      "III            26\n",
      "num_correct    46\n",
      "dtype: int64\n"
     ]
    }
   ],
   "source": [
    "print(df.isna().sum())"
   ]
  },
  {
   "cell_type": "code",
   "execution_count": 17,
   "id": "536a036b",
   "metadata": {},
   "outputs": [
    {
     "name": "stdout",
     "output_type": "stream",
     "text": [
      "       Type         Fact  \\\n",
      "11  Pythons      Factual   \n",
      "17  Pythons      Factual   \n",
      "55  Pythons      Factual   \n",
      "83  Pythons      Factual   \n",
      "4   Pythons  Non-Factual   \n",
      "\n",
      "                                                                                                                                                                                                                                                                                                                                                                                                                                          Response  \\\n",
      "11  - Option I. All snakes lay eggs: Uncertain. While Fact 3 indicates that female snakes lay eggs, it does not specify whether all snakes are female.\\n- Option II. Pythonistas are snakes: True. By Fact 1, all pythons are snakes, and by Fact 2, some pythons are pythonistas.\\n- Option III. Some pythons are not pythonistas: True. Fact 2 indicates that some pythons are pythonistas, which implies that some pythons are not pythonistas.   \n",
      "17                                                                                                        - Option I. All snakes lay eggs. (Unknown, given premise 3 only mentions female snakes lay eggs).\\n- Option II. Pythonistas are snakes. (True, given premise 2 states some Pythons are pythonistas, and premise 1 states all Pythons are snakes)\\n- Option III. Some pythons are not pythonistas. (True, given the information provided)   \n",
      "55                                                                                                                                                                                          True:\\n- Option I: All pythons are snakes and all female snakes lay eggs, so all snakes lay eggs.\\n- Option II: Pythonistas are a subset of pythons, which are snakes.\\n\\nFalse:\\n- Option III: Some pythons are not pythonistas, as stated in Fact 2.   \n",
      "83                                                                                                                                                                                                                       Option I. All snakes lay eggs: Not enough information given.\\nOption II. Pythonistas are snakes: True. (All pythons are snakes.)\\nOption III. Some pythons are not pythonistas: True. (Some pythons are not pythonistas.)   \n",
      "4                                                                                                                         Option II. Pythons are snakes (Fact 2: Some pythonistas are pythons.)\\nOption III. Some pythonistas are not pythons. (This can be deduced logically from Fact 1 and Fact 2. If all pythonistas were pythons (Option III is false), then all pythons would be pythonistas (Option II is false) which contradicts Fact 2.)   \n",
      "\n",
      "      I     II    III  num_correct  \n",
      "11  NaN   True   True          NaN  \n",
      "17  NaN   True   True          NaN  \n",
      "55  NaN  False    NaN          NaN  \n",
      "83  NaN   True   True          NaN  \n",
      "4   NaN  False  False          NaN  \n"
     ]
    }
   ],
   "source": [
    "#pythons\n",
    "print(df_pythons[df_pythons['num_correct'].isna()])"
   ]
  },
  {
   "cell_type": "code",
   "execution_count": 18,
   "id": "8dda4f91",
   "metadata": {},
   "outputs": [
    {
     "name": "stdout",
     "output_type": "stream",
     "text": [
      "       Type         Fact  \\\n",
      "11  Pythons      Factual   \n",
      "17  Pythons      Factual   \n",
      "55  Pythons      Factual   \n",
      "83  Pythons      Factual   \n",
      "4   Pythons  Non-Factual   \n",
      "\n",
      "                                                                                                                                                                                                                                                                                                                                                                                                                                          Response  \\\n",
      "11  - Option I. All snakes lay eggs: Uncertain. While Fact 3 indicates that female snakes lay eggs, it does not specify whether all snakes are female.\\n- Option II. Pythonistas are snakes: True. By Fact 1, all pythons are snakes, and by Fact 2, some pythons are pythonistas.\\n- Option III. Some pythons are not pythonistas: True. Fact 2 indicates that some pythons are pythonistas, which implies that some pythons are not pythonistas.   \n",
      "17                                                                                                        - Option I. All snakes lay eggs. (Unknown, given premise 3 only mentions female snakes lay eggs).\\n- Option II. Pythonistas are snakes. (True, given premise 2 states some Pythons are pythonistas, and premise 1 states all Pythons are snakes)\\n- Option III. Some pythons are not pythonistas. (True, given the information provided)   \n",
      "55                                                                                                                                                                                          True:\\n- Option I: All pythons are snakes and all female snakes lay eggs, so all snakes lay eggs.\\n- Option II: Pythonistas are a subset of pythons, which are snakes.\\n\\nFalse:\\n- Option III: Some pythons are not pythonistas, as stated in Fact 2.   \n",
      "83                                                                                                                                                                                                                       Option I. All snakes lay eggs: Not enough information given.\\nOption II. Pythonistas are snakes: True. (All pythons are snakes.)\\nOption III. Some pythons are not pythonistas: True. (Some pythons are not pythonistas.)   \n",
      "4                                                                                                                         Option II. Pythons are snakes (Fact 2: Some pythonistas are pythons.)\\nOption III. Some pythonistas are not pythons. (This can be deduced logically from Fact 1 and Fact 2. If all pythonistas were pythons (Option III is false), then all pythons would be pythonistas (Option II is false) which contradicts Fact 2.)   \n",
      "\n",
      "          I     II    III  num_correct  \n",
      "11  unknown   True   True          NaN  \n",
      "17  unknown   True   True          NaN  \n",
      "55     True  False  False          NaN  \n",
      "83  unknown   True   True          NaN  \n",
      "4     False   True   True          NaN  \n"
     ]
    }
   ],
   "source": [
    "df_pythons.at[11, 'I'] = 'unknown'\n",
    "df_pythons.at[17, 'I'] = 'unknown'\n",
    "df_pythons.at[55, 'I'] = True\n",
    "df_pythons.at[55, 'III'] = False\n",
    "df_pythons.at[83, 'I'] = 'unknown'\n",
    "df_pythons.iloc[100+4, 3] = False\n",
    "df_pythons.iloc[100+4, 4] = True\n",
    "df_pythons.iloc[100+4, 5] = True\n",
    "\n",
    "print(df_pythons[df_pythons['num_correct'].isna()])"
   ]
  },
  {
   "cell_type": "code",
   "execution_count": 19,
   "id": "2f59e9bf",
   "metadata": {},
   "outputs": [
    {
     "name": "stdout",
     "output_type": "stream",
     "text": [
      "        Type         Fact  \\\n",
      "55  Chickens      Factual   \n",
      "73  Chickens      Factual   \n",
      "81  Chickens      Factual   \n",
      "11  Chickens  Non-Factual   \n",
      "12  Chickens  Non-Factual   \n",
      "29  Chickens  Non-Factual   \n",
      "42  Chickens  Non-Factual   \n",
      "72  Chickens  Non-Factual   \n",
      "97  Chickens  Non-Factual   \n",
      "\n",
      "                                                                                                                                                                                                                                                                                                                                                                                                                                                                                                                                                                                                                                                                              Response  \\\n",
      "55  From the given facts:\\n- Chickens are birds (Fact 1).\\n- Some chickens are hens (Fact 2).\\n- Female birds lay eggs (Fact 3).\\nFrom the first two facts, we can infer that hens are also birds. Therefore, Option II (Hens are birds) is **true**.\\nFrom the second fact, it is evident that some chickens are classified as hens, while the rest are not. This implies that not all chickens are hens. Thus, Option III (Some chickens are not hens) is also **true**.\\nHowever, the given facts do not provide any information about all birds laying eggs. Hence, we cannot directly derive the truthfulness of Option I (All birds lay eggs) based on the provided facts alone.   \n",
      "73                                                                                                                                                                                                                                  Option I is incorrect because, although it can be deduced that all chickens lay eggs, it cannot be concluded that all birds lay eggs. \\n\\nOption II is correct because, according to Fact 2, some chickens are hens, and from Fact 1, it can be inferred that chickens are birds.\\n\\nOption III is correct because, based on Fact 2, it is established that some chickens are hens, suggesting that there must be some chickens that are not hens.   \n",
      "81                                                                                                                                                                                                                                                                                                                                                                                                                                                                                                                                                                                Option I. All birds lay eggs. \\nOption II. Hens are birds. \\nOption III. Some chickens are not hens.   \n",
      "11                                                                                                                                                                                                           Option I is false because Fact 3 states that male birds lay eggs, which contradicts the statement that all birds lay eggs.\\nOption II is true because Fact 1 states that all hens are birds, and Fact 2 states that some hens are chickens, which implies that chickens are birds.\\nOption III is true because Fact 2 states that some hens are chickens, which implies that there are also hens that are not chickens.\\n\\nTherefore, the correct options are II and III.   \n",
      "12                                                                                                                                                                                                                                                                                   Option I. All birds lay eggs - Incorrect (Fact 3 indicates that male birds lay eggs, but not all birds are male).\\nOption II. Chickens are birds - Correct (Fact 2 indicates that chickens are a type of hen, and hens are birds).\\nOption III. Some hens are not chickens - Correct (Fact 2 indicates that some hens are chickens, so it logically follows that some hens must not be chickens).   \n",
      "29                                                                                                                        **Option I. All birds lay eggs.** This option is **incorrect**. From the given facts, we know that male birds lay eggs. However, this does not mean that all birds lay eggs.\\n\\n**Option II. Chickens are birds.** This option is **true**. From Fact 1, we know that all hens are birds. From Fact 2, we know that some hens are chickens. Therefore, chickens are birds.\\n\\n**Option III. Some hens are not chickens.** This option is **true**. From Fact 2, we know that some hens are chickens. This implies that there are hens that are not chickens.   \n",
      "42                                                                                                                                                                                                                                                                                                                                                                                                                                                                                                                                                                              Option I. All birds lay eggs.\\nOption II. Chickens are birds.\\nOption III. Some hens are not chickens.   \n",
      "72                                                                                                                                                                                                                                                                                                                                    Option I. All birds lay eggs - Cannot be determined from the provided facts.\\nOption II. Chickens are birds - True (Fact 1 states that all hens are birds, and Fact 2 states that some hens are chickens.)\\nOption III. Some hens are not chickens - True (Fact 2 states that some hens are chickens, implying that some hens are not chickens.)   \n",
      "97                                                                                                                                                                                                                                                                                                                                                                                        Option I. All birds lay eggs. This is incorrect because the third statement contradicts this.\\nOption II. Chickens are birds. This is correct because the second statement implies this.\\nOption III. Some hens are not chickens. This is correct because the second statement implies this.   \n",
      "\n",
      "        I    II   III  num_correct  \n",
      "55    NaN  True  True          NaN  \n",
      "73    NaN   NaN   NaN          NaN  \n",
      "81    NaN   NaN   NaN          NaN  \n",
      "11  False  True   NaN          NaN  \n",
      "12    NaN   NaN   NaN          NaN  \n",
      "29    NaN  True  True          NaN  \n",
      "42    NaN   NaN   NaN          NaN  \n",
      "72    NaN  True  True          NaN  \n",
      "97    NaN   NaN   NaN          NaN  \n"
     ]
    }
   ],
   "source": [
    "#chickens\n",
    "print(df_chickens[df_chickens['num_correct'].isna()])"
   ]
  },
  {
   "cell_type": "code",
   "execution_count": 20,
   "id": "061723dd",
   "metadata": {},
   "outputs": [
    {
     "name": "stdout",
     "output_type": "stream",
     "text": [
      "        Type         Fact  \\\n",
      "55  Chickens      Factual   \n",
      "73  Chickens      Factual   \n",
      "81  Chickens      Factual   \n",
      "11  Chickens  Non-Factual   \n",
      "12  Chickens  Non-Factual   \n",
      "29  Chickens  Non-Factual   \n",
      "42  Chickens  Non-Factual   \n",
      "72  Chickens  Non-Factual   \n",
      "97  Chickens  Non-Factual   \n",
      "\n",
      "                                                                                                                                                                                                                                                                                                                                                                                                                                                                                                                                                                                                                                                                              Response  \\\n",
      "55  From the given facts:\\n- Chickens are birds (Fact 1).\\n- Some chickens are hens (Fact 2).\\n- Female birds lay eggs (Fact 3).\\nFrom the first two facts, we can infer that hens are also birds. Therefore, Option II (Hens are birds) is **true**.\\nFrom the second fact, it is evident that some chickens are classified as hens, while the rest are not. This implies that not all chickens are hens. Thus, Option III (Some chickens are not hens) is also **true**.\\nHowever, the given facts do not provide any information about all birds laying eggs. Hence, we cannot directly derive the truthfulness of Option I (All birds lay eggs) based on the provided facts alone.   \n",
      "73                                                                                                                                                                                                                                  Option I is incorrect because, although it can be deduced that all chickens lay eggs, it cannot be concluded that all birds lay eggs. \\n\\nOption II is correct because, according to Fact 2, some chickens are hens, and from Fact 1, it can be inferred that chickens are birds.\\n\\nOption III is correct because, based on Fact 2, it is established that some chickens are hens, suggesting that there must be some chickens that are not hens.   \n",
      "81                                                                                                                                                                                                                                                                                                                                                                                                                                                                                                                                                                                Option I. All birds lay eggs. \\nOption II. Hens are birds. \\nOption III. Some chickens are not hens.   \n",
      "11                                                                                                                                                                                                           Option I is false because Fact 3 states that male birds lay eggs, which contradicts the statement that all birds lay eggs.\\nOption II is true because Fact 1 states that all hens are birds, and Fact 2 states that some hens are chickens, which implies that chickens are birds.\\nOption III is true because Fact 2 states that some hens are chickens, which implies that there are also hens that are not chickens.\\n\\nTherefore, the correct options are II and III.   \n",
      "12                                                                                                                                                                                                                                                                                   Option I. All birds lay eggs - Incorrect (Fact 3 indicates that male birds lay eggs, but not all birds are male).\\nOption II. Chickens are birds - Correct (Fact 2 indicates that chickens are a type of hen, and hens are birds).\\nOption III. Some hens are not chickens - Correct (Fact 2 indicates that some hens are chickens, so it logically follows that some hens must not be chickens).   \n",
      "29                                                                                                                        **Option I. All birds lay eggs.** This option is **incorrect**. From the given facts, we know that male birds lay eggs. However, this does not mean that all birds lay eggs.\\n\\n**Option II. Chickens are birds.** This option is **true**. From Fact 1, we know that all hens are birds. From Fact 2, we know that some hens are chickens. Therefore, chickens are birds.\\n\\n**Option III. Some hens are not chickens.** This option is **true**. From Fact 2, we know that some hens are chickens. This implies that there are hens that are not chickens.   \n",
      "42                                                                                                                                                                                                                                                                                                                                                                                                                                                                                                                                                                              Option I. All birds lay eggs.\\nOption II. Chickens are birds.\\nOption III. Some hens are not chickens.   \n",
      "72                                                                                                                                                                                                                                                                                                                                    Option I. All birds lay eggs - Cannot be determined from the provided facts.\\nOption II. Chickens are birds - True (Fact 1 states that all hens are birds, and Fact 2 states that some hens are chickens.)\\nOption III. Some hens are not chickens - True (Fact 2 states that some hens are chickens, implying that some hens are not chickens.)   \n",
      "97                                                                                                                                                                                                                                                                                                                                                                                        Option I. All birds lay eggs. This is incorrect because the third statement contradicts this.\\nOption II. Chickens are birds. This is correct because the second statement implies this.\\nOption III. Some hens are not chickens. This is correct because the second statement implies this.   \n",
      "\n",
      "          I    II   III  num_correct  \n",
      "55    False  True  True          NaN  \n",
      "73    False  True  True          NaN  \n",
      "81    False  True  True          NaN  \n",
      "11    False  True  True          NaN  \n",
      "12    False  True  True          NaN  \n",
      "29    False  True  True          NaN  \n",
      "42     True  True  True          NaN  \n",
      "72  unknown  True  True          NaN  \n",
      "97    False  True  True          NaN  \n"
     ]
    }
   ],
   "source": [
    "df_chickens.iloc[55, 3] = False\n",
    "df_chickens.iloc[73, 3] = False\n",
    "df_chickens.iloc[73, 4] = True\n",
    "df_chickens.iloc[73, 5] = True\n",
    "df_chickens.iloc[81, 3] = False\n",
    "df_chickens.iloc[81, 4] = True\n",
    "df_chickens.iloc[81, 5] = True\n",
    "df_chickens.iloc[100+11, 5] = True\n",
    "df_chickens.iloc[100+12, 3] = False\n",
    "df_chickens.iloc[100+12, 4] = True\n",
    "df_chickens.iloc[100+12, 5] = True\n",
    "df_chickens.iloc[100+29, 3] = False\n",
    "df_chickens.iloc[100+42, 3] = True\n",
    "df_chickens.iloc[100+42, 4] = True\n",
    "df_chickens.iloc[100+42, 5] = True\n",
    "df_chickens.iloc[100+72, 3] = 'unknown'\n",
    "df_chickens.iloc[100+97, 3] = False\n",
    "df_chickens.iloc[100+97, 4] = True\n",
    "df_chickens.iloc[100+97, 5] = True\n",
    "\n",
    "print(df_chickens[df_chickens['num_correct'].isna()])"
   ]
  },
  {
   "cell_type": "code",
   "execution_count": 21,
   "id": "7491b9d1",
   "metadata": {},
   "outputs": [
    {
     "name": "stdout",
     "output_type": "stream",
     "text": [
      "      Type         Fact  \\\n",
      "1   Humans      Factual   \n",
      "21  Humans      Factual   \n",
      "23  Humans      Factual   \n",
      "27  Humans      Factual   \n",
      "40  Humans      Factual   \n",
      "59  Humans      Factual   \n",
      "63  Humans      Factual   \n",
      "76  Humans      Factual   \n",
      "81  Humans      Factual   \n",
      "40  Humans  Non-Factual   \n",
      "46  Humans  Non-Factual   \n",
      "48  Humans  Non-Factual   \n",
      "58  Humans  Non-Factual   \n",
      "67  Humans  Non-Factual   \n",
      "68  Humans  Non-Factual   \n",
      "74  Humans  Non-Factual   \n",
      "85  Humans  Non-Factual   \n",
      "\n",
      "                                                                                                                                                                                                                                                                                                                                                                                                                                                                                                                                                                                                                                                                                                                                                                                                                                                                     Response  \\\n",
      "1                                                                               **Option I. All humans study.**\\nThis option cannot be concluded from the given information. The first fact only states that all students are humans, but it does not imply that all humans are students. The third fact states that educated humans study, but it does not specify that all humans are educated.\\n\\n**Option II. Those in college are humans.**\\nThis option is true. The first fact states that all students are humans, and the second fact states that some students are in college. Therefore, it logically follows that those in college are humans.\\n\\n**Option III. Some students are not in college.**\\nThis option is true. The second fact explicitly states that some students are in college, which implies that there are some students who are not in college.   \n",
      "21                                                                                                                                                                                                                                                                                                                                                                                                                                                                                                                                                                                                                                                                                                                                                        Option I. All humans study.\\nOption II. Those in college are humans.\\nOption III. Some students are not in college.   \n",
      "23                                                                                                                                                                                                                                                                                                                                                                                                                                                                                                                                                                                                                                                                                                                                                        Option I. All humans study.\\nOption II. Those in college are humans.\\nOption III. Some students are not in college.   \n",
      "27                                                                          **Option I. All humans study.**\\nThis option cannot be deduced from the given facts. Fact 1 only states that all students are humans, but it does not mention anything about humans studying.\\n\\n**Option II. Those in college are humans.**\\nThis option can be deduced from Fact 1. Since all students are humans, and Fact 2 states that some students are in college, it follows that those in college must also be humans.\\n\\n**Option III. Some students are not in college.**\\nThis option can also be deduced from Fact 2. Fact 2 states that some students are in college, which implies that there must be other students who are not in college.\\n\\nTherefore, the true options are: **Option II. Those in college are humans.** and **Option III. Some students are not in college.**   \n",
      "40                                                                                                                              - Option I. All humans study.\\nExplanation: From Fact 1, we know that all students are humans. From Fact 3, we know that educated humans study. Since option I includes all humans and not just those who are educated, option I is false.\\n- Option II. Those in college are humans.\\nExplanation: From Fact 2, we know that some students are in college. From Fact 1, we know that all students are humans. So, it is true that those in college are humans. Option II is true.\\n- Option III. Some students are not in college.\\nExplanation: From Fact 2, we know that some students are in college. This implies that there must be students who are not in college. Option III is true.\\n\\nTherefore, the true options are II and III.   \n",
      "59                                                                                                                                                                                                                                                                                                                                          Option I: All humans study. \\nGiven that all students are humans, and educated humans study, the statement is true.\\n\\nOption II: Those in college are humans. \\nGiven that some students are in college, and all students are humans, the statement is true.\\n\\nOption III: Some students are not in college. \\nGiven that some students are in college, the statement must also be true.\\n\\nTherefore, all three options are true: I. All humans study. II. Those in college are humans. III. Some students are not in college.   \n",
      "63                                             Based on the given three factual statements, we can determine the validity of the three options as follows:\\n\\n**Option I: All humans study.**\\n\\nThis option cannot be deduced from the given statements. Fact 1 only establishes that all students are humans, but it does not provide any information about the study habits of humans in general.\\n\\n**Option II: Those in college are humans.**\\n\\nThis option is true. Fact 1 states that all students are humans, and Fact 2 indicates that some students are in college. Therefore, it can be logically inferred that those in college must also be humans.\\n\\n**Option III: Some students are not in college.**\\n\\nThis option is also true. Fact 2 states that some students are in college, which implies that there must be other students who are not in college.   \n",
      "76                                                                                                                                                                                                                               From the given facts:\\n\\nFact 1: All students are humans.\\nFact 2: Some students are in college.\\nFact 3: Educated humans study.\\n\\nOption I. All humans study. \\nThis option is not true because the only information we have about humans is that they are students. We do not know whether all humans are educated or not.\\n\\nOption II. Those in college are humans. \\nThis option is true because all students are humans (Fact 1) and some students are in college (Fact 2).\\n\\nOption III. Some students are not in college. \\nThis option is true because it is a negation of Fact 2.\\n\\nTherefore, the true options are II and III.   \n",
      "81                                                                                                                                                                                                                                                                                                                                                                                                                                                                                                                                                                                                                                                                                        Option II is true. (Those in college are humans.) \\n\\nSince all students are humans and some students are in college, it can be inferred that those in college must also be humans.   \n",
      "40                                      From the given facts, we can conclude that:\\n\\n1. All in college are humans.\\n2. Some in college are students.\\n3. Non-educated humans study.\\n\\n**Option I. All humans study.**\\n\\nThis option is **incorrect**. Fact 3 states that non-educated humans study, but it does not say that all humans study.\\n\\n**Option II. Students are humans.**\\n\\nThis option is **correct**. Fact 1 states that all in college are humans, and Fact 2 states that some in college are students. Therefore, students are humans.\\n\\n**Option III. Some in college are not students.**\\n\\nThis option is **correct**. Fact 2 states that some in college are students. Therefore, there must be some in college who are not students.\\n\\nTherefore, the true options are **II. Students are humans** and **III. Some in college are not students**.   \n",
      "46                                                                                                                                                                                                                                                                                                                                                                                                                                                                                                                                                                                                                                                                                                                                                              Option I. All humans study. \\nOption II. Students are humans. \\nOption III. Some in college are not students.   \n",
      "48                                                                                                                                                                                                                                                                                                                                                                                                                                                                                                                                                                                                                                                                                                                                                         - Option I. All humans study.\\n- Option II. Students are humans. \\n- Option III. Some in college are not students.   \n",
      "58  From the given facts:\\n- Fact 1: All in college are humans.\\n- Fact 2: Some in college are students.\\n- Fact 3: Non-educated humans study.\\n\\n**Option I. All humans study.**\\nThis cannot be derived from the given facts because there is no information about whether or not all humans study.\\n\\n**Option II. Students are humans.**\\nThis can be derived from Fact 1, which states that all in college are humans, and Fact 2, which states that some in college are students. Therefore, some students are humans, and since all humans are humans, it follows that all students are humans.\\n\\n**Option III. Some in college are not students.**\\nThis can be derived from Fact 2, which states that some in college are students. Therefore, it follows that some in college are not students.\\n\\nTherefore, the only true option is **II. Students are humans.**   \n",
      "67                                               From the given facts:\\n\\n1. All in college are humans.\\n2. Some in college are students.\\n3. Non-educated humans study.\\n\\nOption I. All humans study.\\n\\nThis option cannot be inferred from the given facts. Fact 3 only states that non-educated humans study, but it does not mention anything about educated humans.\\n\\nOption II. Students are humans.\\n\\nThis option is true. Fact 1 states that all in college are humans, and Fact 2 states that some in college are students, so it follows that students are humans.\\n\\nOption III. Some in college are not students.\\n\\nThis option is also true. Fact 2 states that some in college are students, but it does not say that all in college are students, so it is possible that some in college are not students.\\n\\nTherefore, the true options are II and III.   \n",
      "68                                                                                                                                                                                                                                                                                                                                                                                                                                                                                                                                                                                                                                      Option I is correct. Since All humans study.\\nOption II is correct since all in college are humans, and some in college are students. \\nOption III is correct because not everyone in college is a student, such as faculty or staff.   \n",
      "74                                                                                                                                                                                                                                                                                                                                                                                                                                                                                                                         Option II is true: Students are humans. This is because Fact 2 states that some in college are students, and Fact 1 states that all in college are humans. Therefore, we can conclude that students are humans.\\n\\nOption I and Option III are not true because there is no information provided in the given statements to support these options.   \n",
      "85                                                                                                                                                                                                                                                                                                                                                                                                                                                                                                                                                                                                                                                                                                                                   Option I. All humans study - Incorrect\\nOption II. Students are humans - Correct\\nOption III. Some in college are not students - Correct   \n",
      "\n",
      "        I    II    III  num_correct  \n",
      "1     NaN  True   True          NaN  \n",
      "21    NaN   NaN    NaN          NaN  \n",
      "23    NaN   NaN    NaN          NaN  \n",
      "27    NaN   NaN   True          NaN  \n",
      "40  False  True    NaN          NaN  \n",
      "59   True  True    NaN          NaN  \n",
      "63    NaN  True   True          NaN  \n",
      "76  False  True    NaN          NaN  \n",
      "81   True   NaN    NaN          NaN  \n",
      "40    NaN   NaN   True          NaN  \n",
      "46    NaN   NaN    NaN          NaN  \n",
      "48    NaN   NaN    NaN          NaN  \n",
      "58    NaN   NaN   True          NaN  \n",
      "67    NaN  True    NaN          NaN  \n",
      "68    NaN   NaN    NaN          NaN  \n",
      "74   True   NaN  False          NaN  \n",
      "85    NaN   NaN    NaN          NaN  \n"
     ]
    }
   ],
   "source": [
    "#humans\n",
    "print(df_humans[df_humans['num_correct'].isna()])"
   ]
  },
  {
   "cell_type": "code",
   "execution_count": 22,
   "id": "41965e3b",
   "metadata": {
    "scrolled": false
   },
   "outputs": [
    {
     "name": "stdout",
     "output_type": "stream",
     "text": [
      "      Type         Fact  \\\n",
      "1   Humans      Factual   \n",
      "21  Humans      Factual   \n",
      "23  Humans      Factual   \n",
      "27  Humans      Factual   \n",
      "40  Humans      Factual   \n",
      "59  Humans      Factual   \n",
      "63  Humans      Factual   \n",
      "76  Humans      Factual   \n",
      "81  Humans      Factual   \n",
      "40  Humans  Non-Factual   \n",
      "46  Humans  Non-Factual   \n",
      "48  Humans  Non-Factual   \n",
      "58  Humans  Non-Factual   \n",
      "67  Humans  Non-Factual   \n",
      "68  Humans  Non-Factual   \n",
      "74  Humans  Non-Factual   \n",
      "85  Humans  Non-Factual   \n",
      "\n",
      "                                                                                                                                                                                                                                                                                                                                                                                                                                                                                                                                                                                                                                                                                                                                                                                                                                                                     Response  \\\n",
      "1                                                                               **Option I. All humans study.**\\nThis option cannot be concluded from the given information. The first fact only states that all students are humans, but it does not imply that all humans are students. The third fact states that educated humans study, but it does not specify that all humans are educated.\\n\\n**Option II. Those in college are humans.**\\nThis option is true. The first fact states that all students are humans, and the second fact states that some students are in college. Therefore, it logically follows that those in college are humans.\\n\\n**Option III. Some students are not in college.**\\nThis option is true. The second fact explicitly states that some students are in college, which implies that there are some students who are not in college.   \n",
      "21                                                                                                                                                                                                                                                                                                                                                                                                                                                                                                                                                                                                                                                                                                                                                        Option I. All humans study.\\nOption II. Those in college are humans.\\nOption III. Some students are not in college.   \n",
      "23                                                                                                                                                                                                                                                                                                                                                                                                                                                                                                                                                                                                                                                                                                                                                        Option I. All humans study.\\nOption II. Those in college are humans.\\nOption III. Some students are not in college.   \n",
      "27                                                                          **Option I. All humans study.**\\nThis option cannot be deduced from the given facts. Fact 1 only states that all students are humans, but it does not mention anything about humans studying.\\n\\n**Option II. Those in college are humans.**\\nThis option can be deduced from Fact 1. Since all students are humans, and Fact 2 states that some students are in college, it follows that those in college must also be humans.\\n\\n**Option III. Some students are not in college.**\\nThis option can also be deduced from Fact 2. Fact 2 states that some students are in college, which implies that there must be other students who are not in college.\\n\\nTherefore, the true options are: **Option II. Those in college are humans.** and **Option III. Some students are not in college.**   \n",
      "40                                                                                                                              - Option I. All humans study.\\nExplanation: From Fact 1, we know that all students are humans. From Fact 3, we know that educated humans study. Since option I includes all humans and not just those who are educated, option I is false.\\n- Option II. Those in college are humans.\\nExplanation: From Fact 2, we know that some students are in college. From Fact 1, we know that all students are humans. So, it is true that those in college are humans. Option II is true.\\n- Option III. Some students are not in college.\\nExplanation: From Fact 2, we know that some students are in college. This implies that there must be students who are not in college. Option III is true.\\n\\nTherefore, the true options are II and III.   \n",
      "59                                                                                                                                                                                                                                                                                                                                          Option I: All humans study. \\nGiven that all students are humans, and educated humans study, the statement is true.\\n\\nOption II: Those in college are humans. \\nGiven that some students are in college, and all students are humans, the statement is true.\\n\\nOption III: Some students are not in college. \\nGiven that some students are in college, the statement must also be true.\\n\\nTherefore, all three options are true: I. All humans study. II. Those in college are humans. III. Some students are not in college.   \n",
      "63                                             Based on the given three factual statements, we can determine the validity of the three options as follows:\\n\\n**Option I: All humans study.**\\n\\nThis option cannot be deduced from the given statements. Fact 1 only establishes that all students are humans, but it does not provide any information about the study habits of humans in general.\\n\\n**Option II: Those in college are humans.**\\n\\nThis option is true. Fact 1 states that all students are humans, and Fact 2 indicates that some students are in college. Therefore, it can be logically inferred that those in college must also be humans.\\n\\n**Option III: Some students are not in college.**\\n\\nThis option is also true. Fact 2 states that some students are in college, which implies that there must be other students who are not in college.   \n",
      "76                                                                                                                                                                                                                               From the given facts:\\n\\nFact 1: All students are humans.\\nFact 2: Some students are in college.\\nFact 3: Educated humans study.\\n\\nOption I. All humans study. \\nThis option is not true because the only information we have about humans is that they are students. We do not know whether all humans are educated or not.\\n\\nOption II. Those in college are humans. \\nThis option is true because all students are humans (Fact 1) and some students are in college (Fact 2).\\n\\nOption III. Some students are not in college. \\nThis option is true because it is a negation of Fact 2.\\n\\nTherefore, the true options are II and III.   \n",
      "81                                                                                                                                                                                                                                                                                                                                                                                                                                                                                                                                                                                                                                                                                        Option II is true. (Those in college are humans.) \\n\\nSince all students are humans and some students are in college, it can be inferred that those in college must also be humans.   \n",
      "40                                      From the given facts, we can conclude that:\\n\\n1. All in college are humans.\\n2. Some in college are students.\\n3. Non-educated humans study.\\n\\n**Option I. All humans study.**\\n\\nThis option is **incorrect**. Fact 3 states that non-educated humans study, but it does not say that all humans study.\\n\\n**Option II. Students are humans.**\\n\\nThis option is **correct**. Fact 1 states that all in college are humans, and Fact 2 states that some in college are students. Therefore, students are humans.\\n\\n**Option III. Some in college are not students.**\\n\\nThis option is **correct**. Fact 2 states that some in college are students. Therefore, there must be some in college who are not students.\\n\\nTherefore, the true options are **II. Students are humans** and **III. Some in college are not students**.   \n",
      "46                                                                                                                                                                                                                                                                                                                                                                                                                                                                                                                                                                                                                                                                                                                                                              Option I. All humans study. \\nOption II. Students are humans. \\nOption III. Some in college are not students.   \n",
      "48                                                                                                                                                                                                                                                                                                                                                                                                                                                                                                                                                                                                                                                                                                                                                         - Option I. All humans study.\\n- Option II. Students are humans. \\n- Option III. Some in college are not students.   \n",
      "58  From the given facts:\\n- Fact 1: All in college are humans.\\n- Fact 2: Some in college are students.\\n- Fact 3: Non-educated humans study.\\n\\n**Option I. All humans study.**\\nThis cannot be derived from the given facts because there is no information about whether or not all humans study.\\n\\n**Option II. Students are humans.**\\nThis can be derived from Fact 1, which states that all in college are humans, and Fact 2, which states that some in college are students. Therefore, some students are humans, and since all humans are humans, it follows that all students are humans.\\n\\n**Option III. Some in college are not students.**\\nThis can be derived from Fact 2, which states that some in college are students. Therefore, it follows that some in college are not students.\\n\\nTherefore, the only true option is **II. Students are humans.**   \n",
      "67                                               From the given facts:\\n\\n1. All in college are humans.\\n2. Some in college are students.\\n3. Non-educated humans study.\\n\\nOption I. All humans study.\\n\\nThis option cannot be inferred from the given facts. Fact 3 only states that non-educated humans study, but it does not mention anything about educated humans.\\n\\nOption II. Students are humans.\\n\\nThis option is true. Fact 1 states that all in college are humans, and Fact 2 states that some in college are students, so it follows that students are humans.\\n\\nOption III. Some in college are not students.\\n\\nThis option is also true. Fact 2 states that some in college are students, but it does not say that all in college are students, so it is possible that some in college are not students.\\n\\nTherefore, the true options are II and III.   \n",
      "68                                                                                                                                                                                                                                                                                                                                                                                                                                                                                                                                                                                                                                      Option I is correct. Since All humans study.\\nOption II is correct since all in college are humans, and some in college are students. \\nOption III is correct because not everyone in college is a student, such as faculty or staff.   \n",
      "74                                                                                                                                                                                                                                                                                                                                                                                                                                                                                                                         Option II is true: Students are humans. This is because Fact 2 states that some in college are students, and Fact 1 states that all in college are humans. Therefore, we can conclude that students are humans.\\n\\nOption I and Option III are not true because there is no information provided in the given statements to support these options.   \n",
      "85                                                                                                                                                                                                                                                                                                                                                                                                                                                                                                                                                                                                                                                                                                                                   Option I. All humans study - Incorrect\\nOption II. Students are humans - Correct\\nOption III. Some in college are not students - Correct   \n",
      "\n",
      "        I    II    III  num_correct  \n",
      "1   False  True   True          NaN  \n",
      "21   True  True   True          NaN  \n",
      "23   True  True   True          NaN  \n",
      "27  False  True   True          NaN  \n",
      "40  False  True   True          NaN  \n",
      "59   True  True   True          NaN  \n",
      "63  False  True   True          NaN  \n",
      "76  False  True   True          NaN  \n",
      "81   True  True   True          NaN  \n",
      "40  False  True   True          NaN  \n",
      "46   True  True   True          NaN  \n",
      "48   True  True   True          NaN  \n",
      "58  False  True  False          NaN  \n",
      "67  False  True   True          NaN  \n",
      "68   True  True   True          NaN  \n",
      "74  False  True  False          NaN  \n",
      "85  False  True   True          NaN  \n"
     ]
    }
   ],
   "source": [
    "df_humans.iloc[1, 3] = False\n",
    "df_humans.iloc[21, 3] = True\n",
    "df_humans.iloc[21, 4] = True\n",
    "df_humans.iloc[21, 5] = True\n",
    "df_humans.iloc[23, 3] = True\n",
    "df_humans.iloc[23, 4] = True\n",
    "df_humans.iloc[23, 5] = True\n",
    "df_humans.iloc[27, 3] = False\n",
    "df_humans.iloc[27, 4] = True\n",
    "df_humans.iloc[40, 5] = True\n",
    "df_humans.iloc[59, 5] = True\n",
    "df_humans.iloc[63, 3] = False\n",
    "df_humans.iloc[76, 5] = True\n",
    "df_humans.iloc[81, 4] = True\n",
    "df_humans.iloc[81, 5] = True\n",
    "df_humans.iloc[100+40, 3] = False\n",
    "df_humans.iloc[100+40, 4] = True\n",
    "df_humans.iloc[100+46, 3] = True\n",
    "df_humans.iloc[100+46, 4] = True\n",
    "df_humans.iloc[100+46, 5] = True\n",
    "df_humans.iloc[100+48, 3] = True\n",
    "df_humans.iloc[100+48, 4] = True\n",
    "df_humans.iloc[100+48, 5] = True\n",
    "df_humans.iloc[100+58, 3] = False\n",
    "df_humans.iloc[100+58, 4] = True\n",
    "df_humans.iloc[100+58, 5] = False\n",
    "df_humans.iloc[100+67, 3] = False\n",
    "df_humans.iloc[100+67, 5] = True\n",
    "df_humans.iloc[100+68, 3] = True\n",
    "df_humans.iloc[100+68, 4] = True\n",
    "df_humans.iloc[100+68, 5] = True\n",
    "df_humans.iloc[100+74, 3] = False\n",
    "df_humans.iloc[100+74, 4] = True\n",
    "df_humans.iloc[100+74, 5] = False\n",
    "df_humans.iloc[100+85, 3] = False\n",
    "df_humans.iloc[100+85, 4] = True\n",
    "df_humans.iloc[100+85, 5] = True\n",
    "\n",
    "print(df_humans[df_humans['num_correct'].isna()])"
   ]
  },
  {
   "cell_type": "code",
   "execution_count": 23,
   "id": "af0805ad",
   "metadata": {},
   "outputs": [
    {
     "name": "stdout",
     "output_type": "stream",
     "text": [
      "      Type         Fact  \\\n",
      "15  Shapes      Factual   \n",
      "18  Shapes      Factual   \n",
      "26  Shapes      Factual   \n",
      "31  Shapes      Factual   \n",
      "33  Shapes      Factual   \n",
      "37  Shapes      Factual   \n",
      "39  Shapes      Factual   \n",
      "41  Shapes      Factual   \n",
      "44  Shapes      Factual   \n",
      "69  Shapes      Factual   \n",
      "76  Shapes      Factual   \n",
      "20  Shapes  Non-Factual   \n",
      "66  Shapes  Non-Factual   \n",
      "72  Shapes  Non-Factual   \n",
      "79  Shapes  Non-Factual   \n",
      "\n",
      "                                                                                                                                                                                                                                                                                                                                                                                                                                                                                                                                                                                                                                                                                                               Response  \\\n",
      "15                                                                            Option II and Option III are true. \\n\\nOption II: Unit-squares are rectangles. \\nA square is a rectangle with equal sides. A unit-square is a square with a side length of 1 unit. Therefore, unit-squares are rectangles.\\n\\nOption III: Some squares are not unit-squares. \\nThis is true because there are squares with side lengths other than 1 unit. For example, a square with a side length of 2 units is a square but not a unit-square.\\n\\nOption I is false because not all rectangles have an area of 1 unit squared. For example, a rectangle with a length of 2 units and a width of 3 units has an area of 6 unit squared.   \n",
      "18                                                                                                                                                                                                                                                                                                                                                                                                                                                                             **Option II. Unit-squares are rectangles.**\\n\\nFact 1 tells us that all squares are also rectangles. Fact 2 tells us that some squares are unit-squares. Therefore, based on deductive reasoning, some unit-squares are also rectangles.   \n",
      "26                                                                                                                                                 Option II and Option III are true.\\n\\nFrom Fact 1, we know that all squares are rectangles. From Fact 2, we know that some squares are unit-squares. Therefore, we can conclude that unit-squares are rectangles (Option II).\\n\\nFrom Fact 2 and Fact 3, we know that some squares are unit-squares and small rectangles have an area of 1 unit squared. Therefore, we can conclude that some squares are not unit-squares (Option III).\\n\\nOption I is not true because we cannot conclude from the given facts that all rectangles have an area of 1 unit squared.   \n",
      "31                                                                                                                                                                                                                                                                                                                                                                                                                                                                                                                                                                                                                        Option II. Unit-squares are rectangles.\\nand \\nOption III. Some squares are not unit-squares.   \n",
      "33                                                                                                                                                                                                                                                 Option II and Option III are true.\\n\\nSince all squares are rectangles, and some squares are unit-squares, it follows that unit-squares are rectangles. Additionally, since all squares are rectangles, but some squares are not unit-squares, it follows that some squares are not unit-squares.\\n\\nOption I is not true because the statement \"Small rectangles have an area of 1 unit squared\" does not imply that all rectangles have an area of 1 unit squared.   \n",
      "37                                                                                                                                                                                                                                                                                                                                                                                                                                                                                                                                                                                                                        Option II. Unit-squares are rectangles. \\nand\\nOption III. Some squares are not unit-squares.   \n",
      "39  Option I. All rectangles have an area of 1 unit squared:\\n- This statement is false because there are rectangles that do not have an area of 1 unit squared. For example, a rectangle with a length of 2 units and a width of 3 units has an area of 6 unit squared.\\n\\nOption II. Unit-squares are rectangles:\\n- This statement is true because a unit-square is a square with a side length of 1 unit, and all squares are rectangles.\\n\\nOption III. Some squares are not unit-squares:\\n- This statement is true because there are squares that do not have a side length of 1 unit. For example, a square with a side length of 2 units is not a unit-square.\\n\\nTherefore, only options II and III are true.   \n",
      "41                                                                                                                                                                                                                                                                                                                                                                                                                                                                                                                                                    Option II. Unit-squares are rectangles.\\n\\nSince all squares are rectangles, and some squares are unit-squares, it follows that some unit-squares are rectangles.   \n",
      "44                                                                                                                                                             **Option II. Unit-squares are rectangles.**\\n\\n* **All squares are rectangles.** (Fact 1)\\n* **Some squares are unit-squares.** (Fact 2)\\n* Therefore, some rectangles are unit-squares. (By substitution)\\n\\n**Option III. Some squares are not unit-squares.**\\n\\n* **Some squares are unit-squares.** (Fact 2)\\n* Therefore, some squares are not unit-squares. (By negation)\\n\\n**Option I. All rectangles have an area of 1 unit squared.**\\n\\n* Not necessarily true. The given facts do not provide any information about the area of rectangles.   \n",
      "69                                                                                                                                                                                                                                                                                                             Option II and Option III are true.\\n\\nSince all squares are rectangles (Fact 1), unit-squares are also rectangles (Option II). Also, since some squares are unit-squares (Fact 2), then there must be some squares that are not unit-squares (Option III). Option I is false because small rectangles having an area of 1 unit squared does not mean that all rectangles have an area of 1 unit squared.   \n",
      "76                                                                                                                                                                                       Option II and Option III are true. \\n\\nFact 1 indicates that all squares are members of the set of rectangles. Fact 2 indicates that some squares are members of the set of unit-squares. Thus, the intersection of the sets of squares and unit-squares is not empty. Option II is true because all unit-squares are squares, and all squares are rectangles. Option III is true because some squares are unit-squares, and some squares are not unit-squares. Option I is false because not all rectangles are unit-squares.   \n",
      "20                                                                                                                                                                                                                                                                                                                                                                                                                                                                                                         Option II. Squares are rectangles.\\n\\nFact 1 states that all unit-squares are rectangles, and Fact 2 states that some unit-squares are squares. Therefore, we can conclude that some squares are rectangles.   \n",
      "66                                           Option I. All rectangles have an area of 1 unit squared.\\nThis statement cannot be inferred from the three factual statements given.\\n\\nOption II. Squares are rectangles.\\nThis is true. All squares are also rectangles, since a square has all the properties of a rectangle, including four right angles and four sides.\\n\\nOption III. Some unit-squares are not squares.\\nThis is true, as stated in Fact 2: Some unit-squares are squares. This implies that not all unit-squares are squares, so some unit-squares must not be squares.\\n\\nTherefore, the true statements are Option II. Squares are rectangles and Option III. Some unit-squares are not squares.   \n",
      "72                                                                                                                                                                                                                                                                                                                                                                                                  Option II and Option III are true.\\n\\nFrom the first fact, we know that all unit-squares are rectangles. From the second fact, we know that some unit-squares are squares. So the third statement is false because not all rectangles have an area of 1 unit squared. Therefore, Option II and Option III are true.   \n",
      "79                                                                                                                                                                                                                                                        Option II and III are true. \\n\\nSince all unit-squares are rectangles (Fact 1), and some unit-squares are squares (Fact 2), it follows that squares are rectangles (Option II). \\n\\nAlso, since some unit-squares are squares (Fact 2), and not all squares have an area of 1 unit squared (Fact 3), it follows that some unit-squares are not squares (Option III). Option I is not true because not all rectangles have an area of 1 unit squared (Fact 3).   \n",
      "\n",
      "        I    II    III  num_correct  \n",
      "15  False   NaN   True          NaN  \n",
      "18    NaN   NaN    NaN          NaN  \n",
      "26  False   NaN   True          NaN  \n",
      "31    NaN   NaN    NaN          NaN  \n",
      "33  False   NaN   True          NaN  \n",
      "37    NaN   NaN    NaN          NaN  \n",
      "39  False  True    NaN          NaN  \n",
      "41    NaN   NaN    NaN          NaN  \n",
      "44   True   NaN    NaN          NaN  \n",
      "69   True   NaN  False          NaN  \n",
      "76   True   NaN  False          NaN  \n",
      "20    NaN   NaN    NaN          NaN  \n",
      "66    NaN  True   True          NaN  \n",
      "72   True   NaN  False          NaN  \n",
      "79  False  True    NaN          NaN  \n"
     ]
    }
   ],
   "source": [
    "#shapes\n",
    "print(df_shapes[df_shapes['num_correct'].isna()])"
   ]
  },
  {
   "cell_type": "code",
   "execution_count": 24,
   "id": "187b31d5",
   "metadata": {},
   "outputs": [
    {
     "name": "stdout",
     "output_type": "stream",
     "text": [
      "      Type         Fact  \\\n",
      "15  Shapes      Factual   \n",
      "18  Shapes      Factual   \n",
      "26  Shapes      Factual   \n",
      "31  Shapes      Factual   \n",
      "33  Shapes      Factual   \n",
      "37  Shapes      Factual   \n",
      "39  Shapes      Factual   \n",
      "41  Shapes      Factual   \n",
      "44  Shapes      Factual   \n",
      "69  Shapes      Factual   \n",
      "76  Shapes      Factual   \n",
      "20  Shapes  Non-Factual   \n",
      "66  Shapes  Non-Factual   \n",
      "72  Shapes  Non-Factual   \n",
      "79  Shapes  Non-Factual   \n",
      "\n",
      "                                                                                                                                                                                                                                                                                                                                                                                                                                                                                                                                                                                                                                                                                                               Response  \\\n",
      "15                                                                            Option II and Option III are true. \\n\\nOption II: Unit-squares are rectangles. \\nA square is a rectangle with equal sides. A unit-square is a square with a side length of 1 unit. Therefore, unit-squares are rectangles.\\n\\nOption III: Some squares are not unit-squares. \\nThis is true because there are squares with side lengths other than 1 unit. For example, a square with a side length of 2 units is a square but not a unit-square.\\n\\nOption I is false because not all rectangles have an area of 1 unit squared. For example, a rectangle with a length of 2 units and a width of 3 units has an area of 6 unit squared.   \n",
      "18                                                                                                                                                                                                                                                                                                                                                                                                                                                                             **Option II. Unit-squares are rectangles.**\\n\\nFact 1 tells us that all squares are also rectangles. Fact 2 tells us that some squares are unit-squares. Therefore, based on deductive reasoning, some unit-squares are also rectangles.   \n",
      "26                                                                                                                                                 Option II and Option III are true.\\n\\nFrom Fact 1, we know that all squares are rectangles. From Fact 2, we know that some squares are unit-squares. Therefore, we can conclude that unit-squares are rectangles (Option II).\\n\\nFrom Fact 2 and Fact 3, we know that some squares are unit-squares and small rectangles have an area of 1 unit squared. Therefore, we can conclude that some squares are not unit-squares (Option III).\\n\\nOption I is not true because we cannot conclude from the given facts that all rectangles have an area of 1 unit squared.   \n",
      "31                                                                                                                                                                                                                                                                                                                                                                                                                                                                                                                                                                                                                        Option II. Unit-squares are rectangles.\\nand \\nOption III. Some squares are not unit-squares.   \n",
      "33                                                                                                                                                                                                                                                 Option II and Option III are true.\\n\\nSince all squares are rectangles, and some squares are unit-squares, it follows that unit-squares are rectangles. Additionally, since all squares are rectangles, but some squares are not unit-squares, it follows that some squares are not unit-squares.\\n\\nOption I is not true because the statement \"Small rectangles have an area of 1 unit squared\" does not imply that all rectangles have an area of 1 unit squared.   \n",
      "37                                                                                                                                                                                                                                                                                                                                                                                                                                                                                                                                                                                                                        Option II. Unit-squares are rectangles. \\nand\\nOption III. Some squares are not unit-squares.   \n",
      "39  Option I. All rectangles have an area of 1 unit squared:\\n- This statement is false because there are rectangles that do not have an area of 1 unit squared. For example, a rectangle with a length of 2 units and a width of 3 units has an area of 6 unit squared.\\n\\nOption II. Unit-squares are rectangles:\\n- This statement is true because a unit-square is a square with a side length of 1 unit, and all squares are rectangles.\\n\\nOption III. Some squares are not unit-squares:\\n- This statement is true because there are squares that do not have a side length of 1 unit. For example, a square with a side length of 2 units is not a unit-square.\\n\\nTherefore, only options II and III are true.   \n",
      "41                                                                                                                                                                                                                                                                                                                                                                                                                                                                                                                                                    Option II. Unit-squares are rectangles.\\n\\nSince all squares are rectangles, and some squares are unit-squares, it follows that some unit-squares are rectangles.   \n",
      "44                                                                                                                                                             **Option II. Unit-squares are rectangles.**\\n\\n* **All squares are rectangles.** (Fact 1)\\n* **Some squares are unit-squares.** (Fact 2)\\n* Therefore, some rectangles are unit-squares. (By substitution)\\n\\n**Option III. Some squares are not unit-squares.**\\n\\n* **Some squares are unit-squares.** (Fact 2)\\n* Therefore, some squares are not unit-squares. (By negation)\\n\\n**Option I. All rectangles have an area of 1 unit squared.**\\n\\n* Not necessarily true. The given facts do not provide any information about the area of rectangles.   \n",
      "69                                                                                                                                                                                                                                                                                                             Option II and Option III are true.\\n\\nSince all squares are rectangles (Fact 1), unit-squares are also rectangles (Option II). Also, since some squares are unit-squares (Fact 2), then there must be some squares that are not unit-squares (Option III). Option I is false because small rectangles having an area of 1 unit squared does not mean that all rectangles have an area of 1 unit squared.   \n",
      "76                                                                                                                                                                                       Option II and Option III are true. \\n\\nFact 1 indicates that all squares are members of the set of rectangles. Fact 2 indicates that some squares are members of the set of unit-squares. Thus, the intersection of the sets of squares and unit-squares is not empty. Option II is true because all unit-squares are squares, and all squares are rectangles. Option III is true because some squares are unit-squares, and some squares are not unit-squares. Option I is false because not all rectangles are unit-squares.   \n",
      "20                                                                                                                                                                                                                                                                                                                                                                                                                                                                                                         Option II. Squares are rectangles.\\n\\nFact 1 states that all unit-squares are rectangles, and Fact 2 states that some unit-squares are squares. Therefore, we can conclude that some squares are rectangles.   \n",
      "66                                           Option I. All rectangles have an area of 1 unit squared.\\nThis statement cannot be inferred from the three factual statements given.\\n\\nOption II. Squares are rectangles.\\nThis is true. All squares are also rectangles, since a square has all the properties of a rectangle, including four right angles and four sides.\\n\\nOption III. Some unit-squares are not squares.\\nThis is true, as stated in Fact 2: Some unit-squares are squares. This implies that not all unit-squares are squares, so some unit-squares must not be squares.\\n\\nTherefore, the true statements are Option II. Squares are rectangles and Option III. Some unit-squares are not squares.   \n",
      "72                                                                                                                                                                                                                                                                                                                                                                                                  Option II and Option III are true.\\n\\nFrom the first fact, we know that all unit-squares are rectangles. From the second fact, we know that some unit-squares are squares. So the third statement is false because not all rectangles have an area of 1 unit squared. Therefore, Option II and Option III are true.   \n",
      "79                                                                                                                                                                                                                                                        Option II and III are true. \\n\\nSince all unit-squares are rectangles (Fact 1), and some unit-squares are squares (Fact 2), it follows that squares are rectangles (Option II). \\n\\nAlso, since some unit-squares are squares (Fact 2), and not all squares have an area of 1 unit squared (Fact 3), it follows that some unit-squares are not squares (Option III). Option I is not true because not all rectangles have an area of 1 unit squared (Fact 3).   \n",
      "\n",
      "        I     II    III  num_correct  \n",
      "15  False   True   True          NaN  \n",
      "18  False   True  False          NaN  \n",
      "26  False   True   True          NaN  \n",
      "31  False  False  False          NaN  \n",
      "33  False   True   True          NaN  \n",
      "37  False   True   True          NaN  \n",
      "39  False   True   True          NaN  \n",
      "41  False   True  False          NaN  \n",
      "44  False   True   True          NaN  \n",
      "69  False   True   True          NaN  \n",
      "76  False   True   True          NaN  \n",
      "20  False   True  False          NaN  \n",
      "66  False   True   True          NaN  \n",
      "72  False   True  False          NaN  \n"
     ]
    },
    {
     "name": "stdout",
     "output_type": "stream",
     "text": [
      "79  False   True   True          NaN  \n"
     ]
    }
   ],
   "source": [
    "df_shapes.iloc[15, 4] = True\n",
    "df_shapes.iloc[18, 3] = False\n",
    "df_shapes.iloc[18, 4] = True\n",
    "df_shapes.iloc[18, 5] = False\n",
    "df_shapes.iloc[26, 3] = False\n",
    "df_shapes.iloc[26, 4] = True\n",
    "df_shapes.iloc[31, 3] = False\n",
    "df_shapes.iloc[31, 4] = False\n",
    "df_shapes.iloc[31, 5] = False\n",
    "df_shapes.iloc[33, 3] = False\n",
    "df_shapes.iloc[33, 4] = True\n",
    "df_shapes.iloc[37, 3] = False\n",
    "df_shapes.iloc[37, 4] = True\n",
    "df_shapes.iloc[37, 5] = True\n",
    "df_shapes.iloc[39, 5] = True\n",
    "df_shapes.iloc[41, 3] = False\n",
    "df_shapes.iloc[41, 4] = True\n",
    "df_shapes.iloc[41, 5] = False\n",
    "df_shapes.iloc[44, 3] = False\n",
    "df_shapes.iloc[44, 4] = True\n",
    "df_shapes.iloc[44, 5] = True\n",
    "df_shapes.iloc[69, 3] = False\n",
    "df_shapes.iloc[69, 4] = True\n",
    "df_shapes.iloc[69, 5] = True\n",
    "df_shapes.iloc[76, 3] = False\n",
    "df_shapes.iloc[76, 4] = True\n",
    "df_shapes.iloc[76, 5] = True\n",
    "df_shapes.iloc[100+20, 3] = False\n",
    "df_shapes.iloc[100+20, 4] = True\n",
    "df_shapes.iloc[100+20, 5] = False\n",
    "df_shapes.iloc[100+66, 3] = False\n",
    "df_shapes.iloc[100+72, 3] = False\n",
    "df_shapes.iloc[100+72, 4] = True\n",
    "df_shapes.iloc[100+79, 3] = False\n",
    "df_shapes.iloc[100+79, 5] = True\n",
    "\n",
    "print(df_shapes[df_shapes['num_correct'].isna()])"
   ]
  },
  {
   "cell_type": "code",
   "execution_count": 25,
   "id": "e2f029fa",
   "metadata": {},
   "outputs": [],
   "source": [
    "#permutation testing prep \n",
    "count_num_corr(df_pythons)\n",
    "count_num_corr(df_humans)\n",
    "count_num_corr(df_shapes)\n",
    "count_num_corr(df_chickens)\n",
    "\n",
    "dfall = pd.concat([df_pythons, df_humans, df_shapes, df_chickens])"
   ]
  },
  {
   "cell_type": "code",
   "execution_count": 26,
   "id": "1c4aec51",
   "metadata": {},
   "outputs": [
    {
     "name": "stdout",
     "output_type": "stream",
     "text": [
      "Pythons     200\n",
      "Humans      200\n",
      "Shapes      200\n",
      "Chickens    200\n",
      "Name: Type, dtype: int64\n"
     ]
    }
   ],
   "source": [
    "print(dfall['Type'].value_counts())"
   ]
  },
  {
   "cell_type": "code",
   "execution_count": 27,
   "id": "149205c6",
   "metadata": {},
   "outputs": [],
   "source": [
    "dfall['I_correct'] = np.where(dfall['I'] == False, 'correct', 'incorrect')\n",
    "dfall['II_correct'] = np.where(dfall['II'] == True, 'correct', 'incorrect')\n",
    "dfall['III_correct'] = np.where(dfall['III'] == True, 'correct', 'incorrect')"
   ]
  },
  {
   "cell_type": "code",
   "execution_count": 28,
   "id": "90349668",
   "metadata": {},
   "outputs": [
    {
     "data": {
      "text/plain": [
       "Type      Fact         I        II     III  \n",
       "Chickens  Factual      True     True   True     50\n",
       "                       False    True   True     25\n",
       "                                       False    23\n",
       "                                False  False     1\n",
       "                                       True      1\n",
       "          Non-Factual  False    True   True     63\n",
       "                                       False    28\n",
       "                       True     True   True      5\n",
       "                       False    False  False     2\n",
       "                       unknown  True   True      1\n",
       "                       True     True   False     1\n",
       "Humans    Factual      False    True   True     72\n",
       "                                       False    14\n",
       "                       True     True   True     13\n",
       "                       False    False  False     1\n",
       "          Non-Factual  False    True   True     57\n",
       "                                       False    34\n",
       "                       True     True   True      7\n",
       "                                       False     1\n",
       "                       False    False  False     1\n",
       "Pythons   Factual      False    True   True     79\n",
       "                       True     True   True     10\n",
       "                       False    True   False     5\n",
       "                       unknown  True   True      3\n",
       "                       False    False  True      2\n",
       "                       True     False  False     1\n",
       "          Non-Factual  False    True   True     80\n",
       "                                       False     8\n",
       "                       True     True   True      7\n",
       "                       unknown  True   True      2\n",
       "                                       False     1\n",
       "                       True     True   False     1\n",
       "                       False    False  False     1\n",
       "Shapes    Factual      False    True   True     56\n",
       "                                       False    43\n",
       "                                False  False     1\n",
       "          Non-Factual  False    True   True     53\n",
       "                                       False    41\n",
       "                                False  False     2\n",
       "                       True     True   False     2\n",
       "                                False  True      1\n",
       "                                True   True      1\n",
       "dtype: int64"
      ]
     },
     "execution_count": 28,
     "metadata": {},
     "output_type": "execute_result"
    }
   ],
   "source": [
    "stuff = ['I', 'II', 'III']\n",
    "dfall.groupby(['Type', 'Fact'])[stuff].value_counts(dropna=False)"
   ]
  },
  {
   "cell_type": "code",
   "execution_count": 29,
   "id": "b945f68d",
   "metadata": {},
   "outputs": [
    {
     "data": {
      "image/png": "[encoded data removed]",
      "text/plain": [
       "<Figure size 1008x576 with 1 Axes>"
      ]
     },
     "metadata": {
      "needs_background": "light"
     },
     "output_type": "display_data"
    }
   ],
   "source": [
    "# combine 'Type' and 'Fact'\n",
    "dfall['Type_Fact'] = dfall['Type'] + ' - ' + dfall['Fact'].astype(str)\n",
    "\n",
    "correct_counts = dfall.groupby('Type_Fact')[['I_correct', 'II_correct', 'III_correct']].apply(lambda x: (x == 'correct').sum())\n",
    "\n",
    "fig, ax = plt.subplots(figsize=(14, 8))\n",
    "bar_width = 0.25\n",
    "r1 = np.arange(len(correct_counts))\n",
    "r2 = [x + bar_width for x in r1]\n",
    "r3 = [x + bar_width for x in r2]\n",
    "\n",
    "#plot\n",
    "ax.bar(r1, correct_counts['I_correct'], color='#fff5be', width=bar_width, edgecolor='grey', label='I_correct')\n",
    "ax.bar(r2, correct_counts['II_correct'], color='#bdc499', width=bar_width, edgecolor='grey', label='II_correct')\n",
    "ax.bar(r3, correct_counts['III_correct'], color='#c8e6f3', width=bar_width, edgecolor='grey', label='III_correct')\n",
    "\n",
    "#labels\n",
    "ax.set_xlabel('Type - Fact', fontsize=14)\n",
    "ax.set_ylabel('Count of Correct Responses', fontsize=14)\n",
    "ax.set_title('Count of Correct Responses by Type and Fact', fontsize=16)\n",
    "\n",
    "ax.set_xticks([r + bar_width for r in range(len(correct_counts))])\n",
    "ax.set_xticklabels(correct_counts.index, rotation=70, fontsize=12)\n",
    "\n",
    "ax.tick_params(axis='y', labelsize=12)\n",
    "\n",
    "ax.legend(title='Statements Correct', title_fontsize=10, fontsize=10)\n",
    "\n",
    "plt.tight_layout()\n",
    "plt.show()\n"
   ]
  },
  {
   "cell_type": "code",
   "execution_count": 30,
   "id": "ed1bf4d1",
   "metadata": {},
   "outputs": [
    {
     "data": {
      "image/png": "[encoded data removed]",
      "text/plain": [
       "<Figure size 1008x576 with 1 Axes>"
      ]
     },
     "metadata": {
      "needs_background": "light"
     },
     "output_type": "display_data"
    }
   ],
   "source": [
    "grouped = dfall.groupby(['Type', 'Fact', 'num_correct']).size().unstack(fill_value=0).reset_index()\n",
    "num_correct_values = grouped.columns[2:]\n",
    "grouped['total_correct'] = grouped[num_correct_values].multiply(num_correct_values, axis=1).sum(axis=1)\n",
    "sorted_grouped = grouped.sort_values(by='total_correct', ascending=False).reset_index(drop=True)\n",
    "\n",
    "sorted_grouped = sorted_grouped.drop(columns=['total_correct'])\n",
    "\n",
    "custom_colors = ['#fff5be', '#bdc499','#c8e6f3', '#e8ada5']\n",
    "bar_width = 0.8\n",
    "fig, ax = plt.subplots(figsize=(14, 8))\n",
    "\n",
    "# plot\n",
    "bottom = None\n",
    "for i, num_correct in enumerate(num_correct_values):\n",
    "    if bottom is None:\n",
    "        bottom = sorted_grouped[num_correct]\n",
    "        ax.bar(sorted_grouped.index, sorted_grouped[num_correct], label=num_correct, color=custom_colors[i % len(custom_colors)], width=bar_width)\n",
    "    else:\n",
    "        ax.bar(sorted_grouped.index, sorted_grouped[num_correct], label=num_correct, bottom=bottom, color=custom_colors[i % len(custom_colors)], width=bar_width)\n",
    "        bottom += sorted_grouped[num_correct]\n",
    "\n",
    "# label\n",
    "ax.set_xlabel('Noun - Factual or Not', fontsize=14)\n",
    "ax.set_ylabel('Count', fontsize=14)\n",
    "ax.set_title('Number of Questions Correct (Sorted by Overall Correct Responses)', fontsize=16)\n",
    "\n",
    "sorted_grouped['Type_Fact'] = sorted_grouped['Type'] + ' - ' + sorted_grouped['Fact'].astype(str)\n",
    "ax.set_xticks(sorted_grouped.index)\n",
    "ax.set_xticklabels(sorted_grouped['Type_Fact'], rotation=70, fontsize=12)\n",
    "\n",
    "ax.tick_params(axis='y', labelsize=12)\n",
    "\n",
    "ax.legend(title='Statements Correct', title_fontsize=10, fontsize=10)\n",
    "\n",
    "plt.tight_layout()\n",
    "plt.show()\n"
   ]
  },
  {
   "cell_type": "markdown",
   "id": "f5e28444",
   "metadata": {},
   "source": [
    "### permutation testing"
   ]
  },
  {
   "cell_type": "code",
   "execution_count": 31,
   "id": "53f047c0",
   "metadata": {},
   "outputs": [],
   "source": [
    "def permtest(df, num_perms):\n",
    "    count = 0\n",
    "    #current tstat  \n",
    "    cfact = df[df['Fact'] == 'Factual']['num_correct'].mean()\n",
    "    cnonfact = df[df['Fact'] == 'Non-Factual']['num_correct'].mean()        \n",
    "    current_tstat = (cfact - cnonfact) \n",
    "    print('Current test statistic: ', current_tstat)\n",
    "    \n",
    "    permdata = [] \n",
    "    labels = ['Factual', 'Non-Factual'] * 100\n",
    "    df['assigned'] = np.nan\n",
    "    \n",
    "    #perm testing \n",
    "    for num in range(0, num_perms):\n",
    "        #assignment \n",
    "        random.shuffle(labels)\n",
    "        df['assigned'] = labels[:len(df)]\n",
    "\n",
    "        #calculate stats  \n",
    "        fact = df[df['assigned'] == 'Factual']['num_correct'].mean()\n",
    "        nonfact = df[df['assigned'] == 'Non-Factual']['num_correct'].mean()        \n",
    "        tstat = (fact - nonfact) \n",
    "        permdata.append(tstat)\n",
    "        \n",
    "        #count extremes\n",
    "        if abs(tstat) > abs(current_tstat):\n",
    "            count+=1\n",
    "            #print(tstat)\n",
    "        \n",
    "    pval = count / num_perms\n",
    "    return current_tstat, permdata, pval"
   ]
  },
  {
   "cell_type": "code",
   "execution_count": 32,
   "id": "17168a9c",
   "metadata": {},
   "outputs": [
    {
     "name": "stdout",
     "output_type": "stream",
     "text": [
      "Current test statistic:  0.0\n",
      "Current test statistic:  -0.3599999999999999\n",
      "Current test statistic:  0.16000000000000014\n",
      "Current test statistic:  0.06999999999999984\n",
      "The p-values are:  0.8864 , 0.0 , 0.0182 , 0.3054\n"
     ]
    }
   ],
   "source": [
    "#run pt \n",
    "current_tstat1, data, pval = permtest(df_pythons, 10000)\n",
    "current_tstat2, data2, pval2  = permtest(df_chickens, 10000)\n",
    "current_tstat3, data3, pval3  = permtest(df_humans, 10000)\n",
    "current_tstat4, data4, pval4 = permtest(df_shapes, 10000)\n",
    "print('The p-values are: ', pval, ',', pval2, ',', pval3, ',', pval4)"
   ]
  },
  {
   "cell_type": "code",
   "execution_count": 33,
   "id": "2aa37da7",
   "metadata": {},
   "outputs": [
    {
     "name": "stdout",
     "output_type": "stream",
     "text": [
      "╒═════════════════╤══════════════════════════╤═══════════╕\n",
      "│ Question Type   │   Actual Mean Difference │   p-value │\n",
      "╞═════════════════╪══════════════════════════╪═══════════╡\n",
      "│ Pythons         │                     0    │    0.8864 │\n",
      "│ Chickens        │                    -0.36 │    0      │\n",
      "│ Humans          │                     0.16 │    0.0182 │\n",
      "│ Shapes          │                     0.07 │    0.3054 │\n",
      "╘═════════════════╧══════════════════════════╧═══════════╛\n"
     ]
    }
   ],
   "source": [
    "data = [['Pythons', current_tstat1, pval], \n",
    "        ['Chickens', current_tstat2, pval2],\n",
    "       ['Humans', current_tstat3, pval3],\n",
    "       ['Shapes', current_tstat4, pval4]]\n",
    "\n",
    "df_data = pd.DataFrame(data, columns=['Question Type', 'Actual Mean Difference', \n",
    "                                      'p-value']).reset_index(drop=True)\n",
    "print(tabulate(df_data, headers='keys', tablefmt='fancy_outline', showindex=False))"
   ]
  },
  {
   "cell_type": "code",
   "execution_count": 34,
   "id": "424b6707",
   "metadata": {},
   "outputs": [
    {
     "data": {
      "text/plain": [
       "<matplotlib.lines.Line2D at 0x7fd98875b340>"
      ]
     },
     "execution_count": 34,
     "metadata": {},
     "output_type": "execute_result"
    },
    {
     "data": {
      "image/png": "[encoded data removed]",
      "text/plain": [
       "<Figure size 432x288 with 1 Axes>"
      ]
     },
     "metadata": {
      "needs_background": "light"
     },
     "output_type": "display_data"
    }
   ],
   "source": [
    "#print(data2)\n",
    "plt.hist(data2)\n",
    "plt.xlabel(\"Mean Difference\")\n",
    "plt.ylabel(\"Number of Permutations\")\n",
    "plt.text(-0.33, 2000, 'Test Statistic')\n",
    "plt.axvline(x = -0.36, color = 'black')"
   ]
  },
  {
   "cell_type": "code",
   "execution_count": 35,
   "id": "bd0ce4af",
   "metadata": {},
   "outputs": [
    {
     "data": {
      "text/plain": [
       "Fact         num_correct\n",
       "Factual      2              74\n",
       "             3              25\n",
       "             1               1\n",
       "Non-Factual  3              63\n",
       "             2              34\n",
       "             1               3\n",
       "Name: num_correct, dtype: int64"
      ]
     },
     "execution_count": 35,
     "metadata": {},
     "output_type": "execute_result"
    }
   ],
   "source": [
    "df_chickens.groupby('Fact')['num_correct'].value_counts()"
   ]
  },
  {
   "cell_type": "code",
   "execution_count": 36,
   "id": "7d5997d5",
   "metadata": {},
   "outputs": [],
   "source": [
    "#df_chickens[df_chickens['Fact'] == 'Factual'] #checking responses"
   ]
  },
  {
   "cell_type": "code",
   "execution_count": 37,
   "id": "3ef6488d",
   "metadata": {},
   "outputs": [],
   "source": [
    "#df_chickens[df_chickens['Fact'] == 'Non-Factual'] #checking responses"
   ]
  },
  {
   "cell_type": "code",
   "execution_count": 38,
   "id": "1d2f6b71",
   "metadata": {},
   "outputs": [
    {
     "name": "stderr",
     "output_type": "stream",
     "text": [
      "/var/folders/5z/s5qlt2g95tj4d40cy5ll0pm40000gn/T/ipykernel_41735/3536741762.py:1: FutureWarning: Indexing with multiple keys (implicitly converted to a tuple of keys) will be deprecated, use a list instead.\n",
      "  df_chickens.groupby('Fact')['I', 'II', 'III'].value_counts(dropna=False)\n"
     ]
    },
    {
     "data": {
      "text/plain": [
       "Fact         I        II     III  \n",
       "Factual      True     True   True     50\n",
       "             False    True   True     25\n",
       "                             False    23\n",
       "                      False  False     1\n",
       "                             True      1\n",
       "Non-Factual  False    True   True     63\n",
       "                             False    28\n",
       "             True     True   True      5\n",
       "             False    False  False     2\n",
       "             True     True   False     1\n",
       "             unknown  True   True      1\n",
       "dtype: int64"
      ]
     },
     "execution_count": 38,
     "metadata": {},
     "output_type": "execute_result"
    }
   ],
   "source": [
    "df_chickens.groupby('Fact')['I', 'II', 'III'].value_counts(dropna=False)"
   ]
  },
  {
   "cell_type": "code",
   "execution_count": 39,
   "id": "1e69b75f",
   "metadata": {},
   "outputs": [
    {
     "name": "stderr",
     "output_type": "stream",
     "text": [
      "/var/folders/5z/s5qlt2g95tj4d40cy5ll0pm40000gn/T/ipykernel_41735/1443281902.py:1: FutureWarning: Indexing with multiple keys (implicitly converted to a tuple of keys) will be deprecated, use a list instead.\n",
      "  df_humans.groupby('Fact')['I', 'II', 'III'].value_counts(dropna=False)\n"
     ]
    },
    {
     "data": {
      "text/plain": [
       "Fact         I      II     III  \n",
       "Factual      False  True   True     72\n",
       "                           False    14\n",
       "             True   True   True     13\n",
       "             False  False  False     1\n",
       "Non-Factual  False  True   True     57\n",
       "                           False    34\n",
       "             True   True   True      7\n",
       "             False  False  False     1\n",
       "             True   True   False     1\n",
       "dtype: int64"
      ]
     },
     "execution_count": 39,
     "metadata": {},
     "output_type": "execute_result"
    }
   ],
   "source": [
    "df_humans.groupby('Fact')['I', 'II', 'III'].value_counts(dropna=False)"
   ]
  },
  {
   "cell_type": "code",
   "execution_count": 40,
   "id": "e51a3bc1",
   "metadata": {},
   "outputs": [],
   "source": [
    "#df_humans[df_humans['Fact'] == 'Factual']"
   ]
  },
  {
   "cell_type": "code",
   "execution_count": 41,
   "id": "ca48ea11",
   "metadata": {},
   "outputs": [],
   "source": [
    "#df_humans[df_humans['Fact'] == 'Non-Factual']"
   ]
  },
  {
   "cell_type": "code",
   "execution_count": 42,
   "id": "c40b1061",
   "metadata": {},
   "outputs": [
    {
     "data": {
      "text/html": [
       "<div>\n",
       "<style scoped>\n",
       "    .dataframe tbody tr th:only-of-type {\n",
       "        vertical-align: middle;\n",
       "    }\n",
       "\n",
       "    .dataframe tbody tr th {\n",
       "        vertical-align: top;\n",
       "    }\n",
       "\n",
       "    .dataframe thead th {\n",
       "        text-align: right;\n",
       "    }\n",
       "</style>\n",
       "<table border=\"1\" class=\"dataframe\">\n",
       "  <thead>\n",
       "    <tr style=\"text-align: right;\">\n",
       "      <th></th>\n",
       "      <th>Type</th>\n",
       "      <th>Fact</th>\n",
       "      <th>Response</th>\n",
       "      <th>I</th>\n",
       "      <th>II</th>\n",
       "      <th>III</th>\n",
       "      <th>num_correct</th>\n",
       "      <th>I_correct</th>\n",
       "      <th>II_correct</th>\n",
       "      <th>III_correct</th>\n",
       "      <th>Type_Fact</th>\n",
       "    </tr>\n",
       "  </thead>\n",
       "  <tbody>\n",
       "    <tr>\n",
       "      <th>11</th>\n",
       "      <td>Pythons</td>\n",
       "      <td>Factual</td>\n",
       "      <td>- Option I. All snakes lay eggs: Uncertain. While Fact 3 indicates that female snakes lay eggs, it does not specify whether all snakes are female.\\n- Option II. Pythonistas are snakes: True. By Fact 1, all pythons are snakes, and by Fact 2, some pythons are pythonistas.\\n- Option III. Some pythons are not pythonistas: True. Fact 2 indicates that some pythons are pythonistas, which implies that some pythons are not pythonistas.</td>\n",
       "      <td>unknown</td>\n",
       "      <td>True</td>\n",
       "      <td>True</td>\n",
       "      <td>2</td>\n",
       "      <td>incorrect</td>\n",
       "      <td>correct</td>\n",
       "      <td>correct</td>\n",
       "      <td>Pythons - Factual</td>\n",
       "    </tr>\n",
       "    <tr>\n",
       "      <th>17</th>\n",
       "      <td>Pythons</td>\n",
       "      <td>Factual</td>\n",
       "      <td>- Option I. All snakes lay eggs. (Unknown, given premise 3 only mentions female snakes lay eggs).\\n- Option II. Pythonistas are snakes. (True, given premise 2 states some Pythons are pythonistas, and premise 1 states all Pythons are snakes)\\n- Option III. Some pythons are not pythonistas. (True, given the information provided)</td>\n",
       "      <td>unknown</td>\n",
       "      <td>True</td>\n",
       "      <td>True</td>\n",
       "      <td>2</td>\n",
       "      <td>incorrect</td>\n",
       "      <td>correct</td>\n",
       "      <td>correct</td>\n",
       "      <td>Pythons - Factual</td>\n",
       "    </tr>\n",
       "    <tr>\n",
       "      <th>83</th>\n",
       "      <td>Pythons</td>\n",
       "      <td>Factual</td>\n",
       "      <td>Option I. All snakes lay eggs: Not enough information given.\\nOption II. Pythonistas are snakes: True. (All pythons are snakes.)\\nOption III. Some pythons are not pythonistas: True. (Some pythons are not pythonistas.)</td>\n",
       "      <td>unknown</td>\n",
       "      <td>True</td>\n",
       "      <td>True</td>\n",
       "      <td>2</td>\n",
       "      <td>incorrect</td>\n",
       "      <td>correct</td>\n",
       "      <td>correct</td>\n",
       "      <td>Pythons - Factual</td>\n",
       "    </tr>\n",
       "    <tr>\n",
       "      <th>72</th>\n",
       "      <td>Chickens</td>\n",
       "      <td>Non-Factual</td>\n",
       "      <td>Option I. All birds lay eggs - Cannot be determined from the provided facts.\\nOption II. Chickens are birds - True (Fact 1 states that all hens are birds, and Fact 2 states that some hens are chickens.)\\nOption III. Some hens are not chickens - True (Fact 2 states that some hens are chickens, implying that some hens are not chickens.)</td>\n",
       "      <td>unknown</td>\n",
       "      <td>True</td>\n",
       "      <td>True</td>\n",
       "      <td>2</td>\n",
       "      <td>incorrect</td>\n",
       "      <td>correct</td>\n",
       "      <td>correct</td>\n",
       "      <td>Chickens - Non-Factual</td>\n",
       "    </tr>\n",
       "  </tbody>\n",
       "</table>\n",
       "</div>"
      ],
      "text/plain": [
       "        Type         Fact  \\\n",
       "11   Pythons      Factual   \n",
       "17   Pythons      Factual   \n",
       "83   Pythons      Factual   \n",
       "72  Chickens  Non-Factual   \n",
       "\n",
       "                                                                                                                                                                                                                                                                                                                                                                                                                                          Response  \\\n",
       "11  - Option I. All snakes lay eggs: Uncertain. While Fact 3 indicates that female snakes lay eggs, it does not specify whether all snakes are female.\\n- Option II. Pythonistas are snakes: True. By Fact 1, all pythons are snakes, and by Fact 2, some pythons are pythonistas.\\n- Option III. Some pythons are not pythonistas: True. Fact 2 indicates that some pythons are pythonistas, which implies that some pythons are not pythonistas.   \n",
       "17                                                                                                        - Option I. All snakes lay eggs. (Unknown, given premise 3 only mentions female snakes lay eggs).\\n- Option II. Pythonistas are snakes. (True, given premise 2 states some Pythons are pythonistas, and premise 1 states all Pythons are snakes)\\n- Option III. Some pythons are not pythonistas. (True, given the information provided)   \n",
       "83                                                                                                                                                                                                                       Option I. All snakes lay eggs: Not enough information given.\\nOption II. Pythonistas are snakes: True. (All pythons are snakes.)\\nOption III. Some pythons are not pythonistas: True. (Some pythons are not pythonistas.)   \n",
       "72                                                                                                Option I. All birds lay eggs - Cannot be determined from the provided facts.\\nOption II. Chickens are birds - True (Fact 1 states that all hens are birds, and Fact 2 states that some hens are chickens.)\\nOption III. Some hens are not chickens - True (Fact 2 states that some hens are chickens, implying that some hens are not chickens.)   \n",
       "\n",
       "          I    II   III  num_correct  I_correct II_correct III_correct  \\\n",
       "11  unknown  True  True            2  incorrect    correct     correct   \n",
       "17  unknown  True  True            2  incorrect    correct     correct   \n",
       "83  unknown  True  True            2  incorrect    correct     correct   \n",
       "72  unknown  True  True            2  incorrect    correct     correct   \n",
       "\n",
       "                 Type_Fact  \n",
       "11       Pythons - Factual  \n",
       "17       Pythons - Factual  \n",
       "83       Pythons - Factual  \n",
       "72  Chickens - Non-Factual  "
      ]
     },
     "execution_count": 42,
     "metadata": {},
     "output_type": "execute_result"
    }
   ],
   "source": [
    "condition = (((dfall['I'] == 'unknown') | (dfall['II'] == 'unknown') | (dfall['III'] == 'unknown')) & (dfall['Type_Fact'] != 'Pythons - Non-Factual'))\n",
    "\n",
    "df_unknown = dfall[condition]\n",
    "df_unknown"
   ]
  },
  {
   "cell_type": "code",
   "execution_count": null,
   "id": "a86da55f",
   "metadata": {},
   "outputs": [],
   "source": []
  }
 ],
 "metadata": {
  "kernelspec": {
   "display_name": "Python 3 (ipykernel)",
   "language": "python",
   "name": "python3"
  },
  "language_info": {
   "codemirror_mode": {
    "name": "ipython",
    "version": 3
   },
   "file_extension": ".py",
   "mimetype": "text/x-python",
   "name": "python",
   "nbconvert_exporter": "python",
   "pygments_lexer": "ipython3",
   "version": "3.9.12"
  }
 },
 "nbformat": 4,
 "nbformat_minor": 5
}
