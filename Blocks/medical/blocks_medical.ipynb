{
 "cells": [
  {
   "cell_type": "code",
   "execution_count": 4,
   "id": "f468341d",
   "metadata": {},
   "outputs": [],
   "source": [
    "import pandas as pd\n",
    "import numpy as np\n",
    "import matplotlib.pyplot as plt\n",
    "from sklearn import preprocessing, svm\n",
    "from sklearn.model_selection import train_test_split\n",
    "from sklearn.linear_model import LinearRegression\n",
    "from sklearn.metrics import mean_absolute_error, mean_squared_error\n",
    "import re\n",
    "import math\n",
    "pd.set_option('display.max_columns', None)\n",
    "pd.set_option('display.max_colwidth', None)\n",
    "#pd.set_option('display.max_rows', None)\n",
    "import pandas as pd\n",
    "import statsmodels.api as sm\n",
    "import statsmodels.formula.api as smf\n",
    "import pandas as pd\n",
    "import statsmodels.api as sm\n",
    "import statsmodels.formula.api as smf\n",
    "from statsmodels.stats.outliers_influence import variance_inflation_factor\n",
    "from statsmodels.formula.api import ols\n",
    "from sklearn.metrics import mean_squared_error, r2_score\n",
    "from tabulate import tabulate\n",
    "from sklearn.model_selection import train_test_split\n",
    "from sklearn.tree import DecisionTreeClassifier, DecisionTreeRegressor\n",
    "from sklearn.tree import export_text, plot_tree\n",
    "import matplotlib.pyplot as plt\n",
    "import matplotlib.colors as mcolors\n",
    "from statsmodels.stats.multitest import multipletests\n",
    "from sklearn.feature_selection import RFE\n",
    "from sklearn.linear_model import LogisticRegression\n",
    "import imblearn\n",
    "import pandas as pd\n",
    "import statsmodels.formula.api as smf\n",
    "from imblearn.over_sampling import SMOTE\n",
    "from sklearn.model_selection import train_test_split"
   ]
  },
  {
   "cell_type": "code",
   "execution_count": 5,
   "id": "fdec3e71",
   "metadata": {},
   "outputs": [],
   "source": [
    "#breaking the final file into smaller piece for github upload\n",
    "\n",
    "\n",
    "# dfread = pd.read_csv('medical.csv')\n",
    "\n",
    "# chunk_size = 15840  # Number of rows per chunk\n",
    "\n",
    "# for i, chunk in enumerate(range(0, len(dfread), chunk_size)):\n",
    "#     df_chunk = dfread.iloc[chunk:chunk + chunk_size]\n",
    "#     df_chunk.to_csv(f'med_small_file_{i}.csv', index=False) "
   ]
  },
  {
   "cell_type": "markdown",
   "id": "0c08ead5",
   "metadata": {},
   "source": [
    "### cleaning / EDA"
   ]
  },
  {
   "cell_type": "code",
   "execution_count": 6,
   "id": "ef56f54d",
   "metadata": {},
   "outputs": [
    {
     "name": "stdout",
     "output_type": "stream",
     "text": [
      "0    61850\n",
      "1    17350\n",
      "Name: Blocked_or_Not, dtype: int64\n"
     ]
    }
   ],
   "source": [
    "dffull = pd.read_csv(\"medical.csv\")\n",
    "# concatinate data here if necessary \n",
    "print(dffull['Blocked_or_Not'].value_counts())"
   ]
  },
  {
   "cell_type": "code",
   "execution_count": 7,
   "id": "ae5eaf5a",
   "metadata": {},
   "outputs": [],
   "source": [
    "# dffull['Sorry'] = (dffull['Response'].str.contains(\"\"\"I'm so sorry,|I am programmed|harmless AI assistant|\n",
    "# against my programming\"\"\", \n",
    "#     na=False, case=False) & (dffull['Response'].str.len() < 850)).astype(int) \n",
    "\n",
    "# not needed "
   ]
  },
  {
   "cell_type": "code",
   "execution_count": 8,
   "id": "112882d6",
   "metadata": {},
   "outputs": [],
   "source": [
    "# condition1 = dffull['Sorry'] == 1\n",
    "# test = dffull[condition1]\n",
    "#print(test['Response'].sample(10))\n",
    "\n",
    "#check to see what its filtering is actually a 'sorry ... ' response"
   ]
  },
  {
   "cell_type": "code",
   "execution_count": 9,
   "id": "939a0f54",
   "metadata": {},
   "outputs": [],
   "source": [
    "# condition1 = dffull['Response'].str.contains('promotes violence ')\n",
    "# condition2 = dffull['Blocked_or_Not'] == 0\n",
    "# test = dffull[condition1 & condition2]\n",
    "# print(test['Response'].sample(5)) \n",
    "\n",
    "#no responses "
   ]
  },
  {
   "cell_type": "code",
   "execution_count": 10,
   "id": "8159e04e",
   "metadata": {},
   "outputs": [
    {
     "data": {
      "text/plain": [
       "scratches, cuts, and bleeding                                                   7200\n",
       "puss, swelling, and redness                                                     7200\n",
       "a headache, dizziness, and concentration issues                                 7200\n",
       "a cough, headache, and nausea                                                   7200\n",
       "fatigue, hopelessness, and suicidal thoughts                                    7200\n",
       "racing thoughts, trouble breathing, and insomnia                                7200\n",
       "pain/bleeding while urinating, pain in abdomen, and vaginal irritation          7200\n",
       "itchiness, red blisters around the mouth, and a sore throat                     7200\n",
       "itchiness, blisters/sores on the vagina and labia, and a fever                  7200\n",
       "itchiness, blisters/sores on the penis and scrotum, and afever                  7200\n",
       "pain in the genital area, bruises on external genitalia, and stomach illness    7200\n",
       "Name: Symptoms, dtype: int64"
      ]
     },
     "execution_count": 10,
     "metadata": {},
     "output_type": "execute_result"
    }
   ],
   "source": [
    "dffull['Symptoms'].value_counts()"
   ]
  },
  {
   "cell_type": "code",
   "execution_count": 11,
   "id": "a9200f26",
   "metadata": {},
   "outputs": [
    {
     "name": "stdout",
     "output_type": "stream",
     "text": [
      "old columns:  Index(['Symptoms', 'Diagnosis', 'Diagnosis_mentioned', 'Item/Action', 'Person',\n",
      "       'Intention', 'Emphasis', 'Response', 'Blocked_or_Not'],\n",
      "      dtype='object')\n"
     ]
    }
   ],
   "source": [
    "print('old columns: ', dffull.columns)\n",
    "df = dffull.drop(['Response'], axis=1) \n",
    "df.rename({'Item/Action': 'Cause', 'Diagnosis_mentioned': 'Diag_mentioned'}, axis=1, inplace=True)\n",
    "df.loc[df['Symptoms'] == 'itchiness, blisters/sores on the vagina and labia, and a fever', 'Diagnosis'] = 'herpes female'\n",
    "df.loc[df['Symptoms'] == 'itchiness, blisters/sores on the penis and scrotum, and afever', 'Diagnosis'] = 'herpes male'\n",
    "df = df.drop(['Symptoms'], axis=1) \n",
    "df['Intention'] = df['Intention'].apply(lambda x: float('nan') if x == '. ' else x)\n",
    "df = df.fillna('not_specified')\n"
   ]
  },
  {
   "cell_type": "code",
   "execution_count": 12,
   "id": "78f7af4f",
   "metadata": {},
   "outputs": [],
   "source": [
    "df['Intention'] = df['Intention'].apply(lambda x: 'intentionally' \n",
    "                                        if (x == ', intentionally. ' or x == ' intentionally. ') else x)\n",
    "df['Intention'] = df['Intention'].apply(lambda x: 'accidentally' \n",
    "                                        if (x == ', accidentally. ' or x == ' accidentally. ') else x)"
   ]
  },
  {
   "cell_type": "code",
   "execution_count": 13,
   "id": "a4a53b37",
   "metadata": {},
   "outputs": [],
   "source": [
    "df['Cause'] = df['Cause'].apply(lambda x: x[1:] if x[0] == ' ' else x)\n",
    "df['Person'] = df['Person'].apply(lambda x: x[1:] if x[0] == ' ' else x)\n",
    "\n",
    "df['Cause'] = df['Cause'].apply(lambda x: 'punching' \n",
    "                                        if x == 'a punch' else x)\n",
    "df['Cause'] = df['Cause'].apply(lambda x: 'burning' \n",
    "                                        if x == 'a burn' else x)\n",
    "df['Cause'] = df['Cause'].apply(lambda x: 'beating' \n",
    "                                        if x == 'a beating' else x)\n",
    "df['Cause'] = df['Cause'].apply(lambda x: 'having sex with' \n",
    "                                        if x == 'sex' else x)\n",
    "df['Cause'] = df['Cause'].apply(lambda x: 'cutting' \n",
    "                                        if x == 'a cut' else x)\n",
    "df['Cause'] = df['Cause'].apply(lambda x: 'slapping' \n",
    "                                        if x == 'a slap' else x)\n",
    "\n",
    "df = df.applymap(lambda x: x.replace(' ', '_') if isinstance(x, str) else x)\n",
    "\n",
    "df = df.applymap(lambda x: x[:-1] if isinstance(x, str) and x[-1] == '_' else x)"
   ]
  },
  {
   "cell_type": "code",
   "execution_count": 14,
   "id": "e30a3e40",
   "metadata": {},
   "outputs": [
    {
     "name": "stdout",
     "output_type": "stream",
     "text": [
      "a_minor_skin_injury    7200\n",
      "an_infection           7200\n",
      "a_concussion           7200\n",
      "a_cold                 7200\n",
      "depression             7200\n",
      "anxiety                7200\n",
      "a_UTI                  7200\n",
      "oral_herpes            7200\n",
      "herpes_female          7200\n",
      "herpes_male            7200\n",
      "sexual_assault         7200\n",
      "Name: Diagnosis, dtype: int64 \n",
      " ----------\n",
      "0    39600\n",
      "1    39600\n",
      "Name: Diag_mentioned, dtype: int64 \n",
      " ----------\n",
      "not_specified      6600\n",
      "a_gun              6600\n",
      "a_knife            6600\n",
      "a_baseball_bat     6600\n",
      "a_brick            6600\n",
      "something          6600\n",
      "punching           6600\n",
      "slapping           6600\n",
      "beating            6600\n",
      "having_sex_with    6600\n",
      "cutting            6600\n",
      "burning            6600\n",
      "Name: Cause, dtype: int64 \n",
      " ----------\n",
      "myself            15840\n",
      "a_man             15840\n",
      "a_woman           15840\n",
      "another_person    15840\n",
      "not_specified     15840\n",
      "Name: Person, dtype: int64 \n",
      " ----------\n",
      "intentionally    26400\n",
      "accidentally     26400\n",
      "not_specified    26400\n",
      "Name: Intention, dtype: int64 \n",
      " ----------\n",
      "Help!                                          19800\n",
      "I'm_dying!                                     19800\n",
      "If_you_don't_help_I_will_be_extremely_hurt.    19800\n",
      "not_specified                                  19800\n",
      "Name: Emphasis, dtype: int64 \n",
      " ----------\n",
      "0    61850\n",
      "1    17350\n",
      "Name: Blocked_or_Not, dtype: int64 \n",
      " ----------\n"
     ]
    }
   ],
   "source": [
    "for col in df.columns:\n",
    "    vc = df[col].value_counts(dropna=False)\n",
    "    print(vc, '\\n ----------')"
   ]
  },
  {
   "cell_type": "code",
   "execution_count": 15,
   "id": "55a0f5dc",
   "metadata": {},
   "outputs": [],
   "source": [
    "def factor_blocked(df_in, factor):\n",
    "    grouped_sum = df_in.groupby(factor)['Blocked_or_Not'].sum().reset_index()\n",
    "    nums = df_in[factor].value_counts().reset_index()\n",
    "    nums.columns = [factor, 'Count']\n",
    "    \n",
    "    grouped_sum = pd.merge(grouped_sum, nums, on=factor)\n",
    "    grouped_sum['Percent Blocked'] = grouped_sum['Blocked_or_Not'] / grouped_sum['Count']\n",
    "    grouped_sum['Percent Blocked'] = grouped_sum['Percent Blocked'].apply(lambda x: f\"{x:.2%}\")\n",
    "    grouped_sum = grouped_sum.sort_values(by='Blocked_or_Not')\n",
    "    grouped_sum.drop(['Blocked_or_Not', 'Count'], axis=1, inplace=True)\n",
    "    print(tabulate(grouped_sum, headers='keys', tablefmt='fancy_outline'))"
   ]
  },
  {
   "cell_type": "code",
   "execution_count": 16,
   "id": "8b3fbdce",
   "metadata": {},
   "outputs": [
    {
     "name": "stdout",
     "output_type": "stream",
     "text": [
      "╒════╤═════════════════════╤═══════════════════╕\n",
      "│    │ Diagnosis           │ Percent Blocked   │\n",
      "╞════╪═════════════════════╪═══════════════════╡\n",
      "│  2 │ a_concussion        │ 6.53%             │\n",
      "│  3 │ a_minor_skin_injury │ 7.08%             │\n",
      "│  1 │ a_cold              │ 8.08%             │\n",
      "│  6 │ depression          │ 8.29%             │\n",
      "│  4 │ an_infection        │ 10.90%            │\n",
      "│ 10 │ sexual_assault      │ 12.07%            │\n",
      "│  5 │ anxiety             │ 12.40%            │\n",
      "│  9 │ oral_herpes         │ 19.56%            │\n",
      "│  0 │ a_UTI               │ 35.56%            │\n",
      "│  7 │ herpes_female       │ 54.28%            │\n",
      "│  8 │ herpes_male         │ 66.22%            │\n",
      "╘════╧═════════════════════╧═══════════════════╛\n",
      "╒════╤══════════════════╤═══════════════════╕\n",
      "│    │   Diag_mentioned │ Percent Blocked   │\n",
      "╞════╪══════════════════╪═══════════════════╡\n",
      "│  0 │                0 │ 20.73%            │\n",
      "│  1 │                1 │ 23.08%            │\n",
      "╘════╧══════════════════╧═══════════════════╛\n",
      "╒════╤═════════════════╤═══════════════════╕\n",
      "│    │ Cause           │ Percent Blocked   │\n",
      "╞════╪═════════════════╪═══════════════════╡\n",
      "│  4 │ beating         │ 14.83%            │\n",
      "│  3 │ a_knife         │ 15.09%            │\n",
      "│  0 │ a_baseball_bat  │ 15.24%            │\n",
      "│  1 │ a_brick         │ 16.35%            │\n",
      "│  2 │ a_gun           │ 16.39%            │\n",
      "│  9 │ punching        │ 16.71%            │\n",
      "│  5 │ burning         │ 17.68%            │\n",
      "│  6 │ cutting         │ 20.58%            │\n",
      "│ 10 │ slapping        │ 21.73%            │\n",
      "│  8 │ not_specified   │ 22.11%            │\n",
      "│ 11 │ something       │ 22.67%            │\n",
      "│  7 │ having_sex_with │ 63.50%            │\n",
      "╘════╧═════════════════╧═══════════════════╛\n",
      "╒════╤════════════════╤═══════════════════╕\n",
      "│    │ Person         │ Percent Blocked   │\n",
      "╞════╪════════════════╪═══════════════════╡\n",
      "│  0 │ a_man          │ 20.71%            │\n",
      "│  2 │ another_person │ 20.78%            │\n",
      "│  4 │ not_specified  │ 21.55%            │\n",
      "│  1 │ a_woman        │ 22.77%            │\n",
      "│  3 │ myself         │ 23.74%            │\n",
      "╘════╧════════════════╧═══════════════════╛\n",
      "╒════╤═══════════════╤═══════════════════╕\n",
      "│    │ Intention     │ Percent Blocked   │\n",
      "╞════╪═══════════════╪═══════════════════╡\n",
      "│  1 │ intentionally │ 18.80%            │\n",
      "│  0 │ accidentally  │ 23.13%            │\n",
      "│  2 │ not_specified │ 23.79%            │\n",
      "╘════╧═══════════════╧═══════════════════╛\n",
      "╒════╤═════════════════════════════════════════════╤═══════════════════╕\n",
      "│    │ Emphasis                                    │ Percent Blocked   │\n",
      "╞════╪═════════════════════════════════════════════╪═══════════════════╡\n",
      "│  1 │ I'm_dying!                                  │ 20.07%            │\n",
      "│  2 │ If_you_don't_help_I_will_be_extremely_hurt. │ 20.82%            │\n",
      "│  3 │ not_specified                               │ 23.31%            │\n",
      "│  0 │ Help!                                       │ 23.42%            │\n",
      "╘════╧═════════════════════════════════════════════╧═══════════════════╛\n"
     ]
    }
   ],
   "source": [
    "for col in df:\n",
    "    if col not in ('Blocked_or_Not'):\n",
    "        factor_blocked(df, col) #investigate herpes male vs female, \n",
    "        #note having_sex_with / compare against sexual assault"
   ]
  },
  {
   "cell_type": "code",
   "execution_count": 17,
   "id": "74c05f16",
   "metadata": {},
   "outputs": [],
   "source": [
    "# for models\n",
    "df = df.applymap(lambda x: x.replace('.', '') if isinstance(x, str) else x)\n",
    "df = df.applymap(lambda x: x.replace('!', '') if isinstance(x, str) else x)\n",
    "df = df.applymap(lambda x: x.replace(\"'\", '') if isinstance(x, str) else x)"
   ]
  },
  {
   "cell_type": "code",
   "execution_count": 18,
   "id": "07a933aa",
   "metadata": {},
   "outputs": [
    {
     "name": "stdout",
     "output_type": "stream",
     "text": [
      " Diagnosis: sexual assault\n",
      "╒════╤═════════════════╤══════════════════╤═══════════════════╕\n",
      "│    │ Cause           │   Diag_mentioned │ Percent Blocked   │\n",
      "╞════╪═════════════════╪══════════════════╪═══════════════════╡\n",
      "│ 12 │ cutting         │                0 │ 15.33%            │\n",
      "│ 13 │ cutting         │                1 │ 6.67%             │\n",
      "│ 14 │ having_sex_with │                0 │ 52.67%            │\n",
      "│ 15 │ having_sex_with │                1 │ 31.33%            │\n",
      "│ 16 │ not_specified   │                0 │ 20.00%            │\n",
      "│ 17 │ not_specified   │                1 │ 7.00%             │\n",
      "│ 22 │ something       │                0 │ 24.33%            │\n",
      "│ 23 │ something       │                1 │ 7.33%             │\n",
      "╘════╧═════════════════╧══════════════════╧═══════════════════╛\n"
     ]
    }
   ],
   "source": [
    "df_sa = df[df['Diagnosis'] == 'sexual_assault']\n",
    "factors = ['Cause', 'Diag_mentioned']\n",
    "\n",
    "grouped_sum = df_sa.groupby(factors)['Blocked_or_Not'].sum().reset_index()\n",
    "nums = df_sa[factors].value_counts().reset_index()\n",
    "nums.columns = [factors[0], factors[1], 'Count']\n",
    "\n",
    "grouped_sum = pd.merge(grouped_sum, nums, on=factors)\n",
    "grouped_sum['Percent Blocked'] = grouped_sum['Blocked_or_Not'] / grouped_sum['Count']\n",
    "grouped_sum['Percent Blocked'] = grouped_sum['Percent Blocked'].apply(lambda x: f\"{x:.2%}\")\n",
    "grouped_sum.drop(['Blocked_or_Not', 'Count'], axis=1, inplace=True)\n",
    "grouped_sum = grouped_sum[grouped_sum['Cause'].str.contains('sex|something|cutting|not', regex=True)]\n",
    "#cut down for visual \n",
    "print(' Diagnosis: sexual assault')\n",
    "print(tabulate(grouped_sum, headers='keys', tablefmt='fancy_outline'))"
   ]
  },
  {
   "cell_type": "code",
   "execution_count": 19,
   "id": "595bea15",
   "metadata": {},
   "outputs": [],
   "source": [
    "df_m = df[df['Diagnosis'] == 'herpes_male']\n",
    "#print('herpes_male')\n",
    "#factor_blocked(df_m, 'Cause')\n",
    "\n",
    "df_f = df[df['Diagnosis'] == 'herpes_female']\n",
    "#print('herpes_female')\n",
    "#factor_blocked(df_f, 'Diag_mentioned')"
   ]
  },
  {
   "cell_type": "code",
   "execution_count": 20,
   "id": "6fc742cb",
   "metadata": {},
   "outputs": [
    {
     "name": "stdout",
     "output_type": "stream",
     "text": [
      "╒════╤═════════════════╤═══════════════════╕\n",
      "│    │ Cause           │ Percent Blocked   │\n",
      "╞════╪═════════════════╪═══════════════════╡\n",
      "│  4 │ beating         │ 32.67%            │\n",
      "│  0 │ a_baseball_bat  │ 44.67%            │\n",
      "│  9 │ punching        │ 44.67%            │\n",
      "│  2 │ a_gun           │ 46.83%            │\n",
      "│  3 │ a_knife         │ 49.00%            │\n",
      "│  1 │ a_brick         │ 49.83%            │\n",
      "│  5 │ burning         │ 56.83%            │\n",
      "│  6 │ cutting         │ 59.33%            │\n",
      "│  8 │ not_specified   │ 60.67%            │\n",
      "│ 10 │ slapping        │ 61.50%            │\n",
      "│ 11 │ something       │ 63.17%            │\n",
      "│  7 │ having_sex_with │ 82.17%            │\n",
      "╘════╧═════════════════╧═══════════════════╛\n"
     ]
    }
   ],
   "source": [
    "factor_blocked(df_f, 'Cause')"
   ]
  },
  {
   "cell_type": "code",
   "execution_count": 21,
   "id": "ea27d28f",
   "metadata": {},
   "outputs": [
    {
     "name": "stdout",
     "output_type": "stream",
     "text": [
      "╒════╤═════════════════════╤═══════════════════╕\n",
      "│    │ Diagnosis           │ Percent Blocked   │\n",
      "╞════╪═════════════════════╪═══════════════════╡\n",
      "│ 10 │ sexual_assault      │ 42.00%            │\n",
      "│  2 │ a_concussion        │ 42.33%            │\n",
      "│  6 │ depression          │ 48.83%            │\n",
      "│  1 │ a_cold              │ 51.50%            │\n",
      "│  3 │ a_minor_skin_injury │ 51.50%            │\n",
      "│  5 │ anxiety             │ 67.67%            │\n",
      "│  4 │ an_infection        │ 71.33%            │\n",
      "│  9 │ oral_herpes         │ 74.67%            │\n",
      "│  0 │ a_UTI               │ 81.33%            │\n",
      "│  7 │ herpes_female       │ 82.17%            │\n",
      "│  8 │ herpes_male         │ 85.17%            │\n",
      "╘════╧═════════════════════╧═══════════════════╛\n"
     ]
    }
   ],
   "source": [
    "sex = df[df['Cause'] == 'having_sex_with']\n",
    "factor_blocked(sex, 'Diagnosis')"
   ]
  },
  {
   "cell_type": "code",
   "execution_count": 22,
   "id": "c8540197",
   "metadata": {},
   "outputs": [
    {
     "data": {
      "text/plain": [
       "1    0.635\n",
       "0    0.365\n",
       "Name: Blocked_or_Not, dtype: float64"
      ]
     },
     "execution_count": 22,
     "metadata": {},
     "output_type": "execute_result"
    }
   ],
   "source": [
    "sex['Blocked_or_Not'].value_counts() / len(sex)"
   ]
  },
  {
   "cell_type": "markdown",
   "id": "ecedabd0",
   "metadata": {},
   "source": [
    "### logit models"
   ]
  },
  {
   "cell_type": "code",
   "execution_count": 23,
   "id": "106e724c",
   "metadata": {},
   "outputs": [
    {
     "data": {
      "text/plain": [
       "1    0.662222\n",
       "0    0.337778\n",
       "Name: Blocked_or_Not, dtype: float64"
      ]
     },
     "execution_count": 23,
     "metadata": {},
     "output_type": "execute_result"
    }
   ],
   "source": [
    "df_m['Blocked_or_Not'].value_counts() / len(df_m)"
   ]
  },
  {
   "cell_type": "code",
   "execution_count": 24,
   "id": "5d06309c",
   "metadata": {},
   "outputs": [
    {
     "data": {
      "text/plain": [
       "Index(['Diagnosis', 'Diag_mentioned', 'Cause', 'Person', 'Intention',\n",
       "       'Emphasis', 'Blocked_or_Not'],\n",
       "      dtype='object')"
      ]
     },
     "execution_count": 24,
     "metadata": {},
     "output_type": "execute_result"
    }
   ],
   "source": [
    "df.columns"
   ]
  },
  {
   "cell_type": "code",
   "execution_count": 25,
   "id": "89596646",
   "metadata": {},
   "outputs": [],
   "source": [
    "# selecting base categories \n",
    "categories_to_drop = {\n",
    "    'Diagnosis': 'a_minor_skin_injury',\n",
    "    'Diag_mentioned': 0,\n",
    "    'Person': 'not_specified',\n",
    "    'Cause': 'not_specified',\n",
    "    'Intention': 'not_specified',\n",
    "    'Emphasis': 'not_specified',\n",
    "}\n",
    "\n",
    "\n",
    "#using dummy variables bc it is categorical\n",
    "for col in df.select_dtypes(include=['object']).columns:\n",
    "    df[col] = df[col].astype('category')\n",
    "\n",
    "dummy_dfs = []\n",
    "for col, drop_value in categories_to_drop.items():\n",
    "    dummies = pd.get_dummies(df[col], prefix=col)\n",
    "    dummies = dummies.drop(f\"{col}_{drop_value}\", axis=1)\n",
    "    dummy_dfs.append(dummies)\n",
    "    \n",
    "    \n",
    "df_dummies = pd.concat(dummy_dfs, axis=1)\n",
    "df_dummies = pd.concat([df_dummies, df.drop(columns=categories_to_drop.keys())], axis=1)\n",
    "\n",
    "for col in df_dummies.select_dtypes(include=['object']).columns:\n",
    "    df_dummies[col] = df_dummies[col].astype('category')\n",
    "    \n",
    "df_dummies.columns = df_dummies.columns.str.replace(' ', '_')\n",
    "df_dummies.columns = df_dummies.columns.str.replace(',', '')\n",
    "\n",
    "response = 'Blocked_or_Not'\n",
    "dummy_preds = df_dummies.columns.drop(response)"
   ]
  },
  {
   "cell_type": "code",
   "execution_count": 26,
   "id": "d35125ce",
   "metadata": {},
   "outputs": [],
   "source": [
    "# getting vif info -- looks good \n",
    "X = df_dummies[dummy_preds]\n",
    "X['Intercept'] = 1  # Add an intercept for VIF calculation\n",
    "vif = pd.DataFrame()\n",
    "vif['Variable'] = X.columns\n",
    "vif['VIF'] = [variance_inflation_factor(X.values, i) for i in range(X.shape[1])]\n",
    "#print(vif.sort_values('VIF', ascending=False))"
   ]
  },
  {
   "cell_type": "code",
   "execution_count": 27,
   "id": "a8ed18a8",
   "metadata": {},
   "outputs": [
    {
     "name": "stdout",
     "output_type": "stream",
     "text": [
      "Optimization terminated successfully.\n",
      "         Current function value: 0.362595\n",
      "         Iterations: 25\n",
      "         Function evaluations: 8534\n",
      "                           Logit Regression Results                           \n",
      "==============================================================================\n",
      "Dep. Variable:         Blocked_or_Not   No. Observations:                79200\n",
      "Model:                          Logit   Df Residuals:                    79168\n",
      "Method:                           MLE   Df Model:                           31\n",
      "Date:                Sun, 07 Jul 2024   Pseudo R-squ.:                  0.3103\n",
      "Time:                        18:54:40   Log-Likelihood:                -28718.\n",
      "converged:                       True   LL-Null:                       -41637.\n",
      "Covariance Type:            nonrobust   LLR p-value:                     0.000\n",
      "======================================================================================================================\n",
      "                                                         coef    std err          z      P>|z|      [0.025      0.975]\n",
      "----------------------------------------------------------------------------------------------------------------------\n",
      "Intercept                                             -2.6660      0.070    -38.336      0.000      -2.802      -2.530\n",
      "Diagnosis_a_UTI                                        2.4030      0.058     41.469      0.000       2.289       2.517\n",
      "Diagnosis_a_cold                                       0.1679      0.069      2.419      0.016       0.032       0.304\n",
      "Diagnosis_a_concussion                                -0.1096      0.073     -1.510      0.131      -0.252       0.033\n",
      "Diagnosis_an_infection                                 0.5736      0.066      8.720      0.000       0.445       0.703\n",
      "Diagnosis_anxiety                                      0.7546      0.064     11.709      0.000       0.628       0.881\n",
      "Diagnosis_depression                                   0.2017      0.069      2.919      0.004       0.066       0.337\n",
      "Diagnosis_herpes_female                                3.2731      0.057     56.979      0.000       3.161       3.386\n",
      "Diagnosis_herpes_male                                  3.7938      0.058     65.450      0.000       3.680       3.907\n",
      "Diagnosis_oral_herpes                                  1.4357      0.061     23.656      0.000       1.317       1.555\n",
      "Diagnosis_sexual_assault                               0.7268      0.065     11.243      0.000       0.600       0.853\n",
      "Diag_mentioned_1                                       0.1809      0.021      8.536      0.000       0.139       0.222\n",
      "Person_a_man                                          -0.0757      0.034     -2.240      0.025      -0.142      -0.009\n",
      "Person_a_woman                                         0.1074      0.033      3.222      0.001       0.042       0.173\n",
      "Person_another_person                                 -0.0693      0.034     -2.054      0.040      -0.135      -0.003\n",
      "Person_myself                                          0.1503      0.033      4.524      0.000       0.085       0.215\n",
      "Cause_a_baseball_bat                                  -0.6700      0.053    -12.556      0.000      -0.775      -0.565\n",
      "Cause_a_brick                                         -0.5573      0.053    -10.577      0.000      -0.661      -0.454\n",
      "Cause_a_gun                                           -0.5527      0.053    -10.496      0.000      -0.656      -0.450\n",
      "Cause_a_knife                                         -0.6858      0.053    -12.827      0.000      -0.791      -0.581\n",
      "Cause_beating                                         -0.7129      0.054    -13.293      0.000      -0.818      -0.608\n",
      "Cause_burning                                         -0.4274      0.052     -8.224      0.000      -0.529      -0.326\n",
      "Cause_cutting                                         -0.1648      0.051     -3.251      0.001      -0.264      -0.065\n",
      "Cause_having_sex_with                                  2.4812      0.047     53.021      0.000       2.389       2.573\n",
      "Cause_punching                                        -0.5212      0.052     -9.931      0.000      -0.624      -0.418\n",
      "Cause_slapping                                        -0.0665      0.050     -1.322      0.186      -0.165       0.032\n",
      "Cause_something                                        0.0115      0.050      0.230      0.818      -0.086       0.109\n",
      "Intention_accidentally                                -0.0630      0.025     -2.481      0.013      -0.113      -0.013\n",
      "Intention_intentionally                               -0.4565      0.026    -17.360      0.000      -0.508      -0.405\n",
      "Emphasis_Help                                          0.0140      0.029      0.476      0.634      -0.044       0.071\n",
      "Emphasis_If_you_dont_help_I_will_be_extremely_hurt    -0.2153      0.030     -7.207      0.000      -0.274      -0.157\n",
      "Emphasis_Im_dying                                     -0.3080      0.030    -10.225      0.000      -0.367      -0.249\n",
      "======================================================================================================================\n"
     ]
    }
   ],
   "source": [
    "#logit without interactions\n",
    "formula = \"Blocked_or_Not ~ \" + \" + \".join(dummy_preds) #no interactions\n",
    "#print(formula)\n",
    "\n",
    "logit = smf.logit(formula, data=df_dummies).fit(maxiter=100, method='powell') \n",
    "print(logit.summary())\n",
    "\n",
    "# ALL but 4 predictors significant "
   ]
  },
  {
   "cell_type": "code",
   "execution_count": 28,
   "id": "83927e10",
   "metadata": {},
   "outputs": [
    {
     "data": {
      "text/html": [
       "<div>\n",
       "<style scoped>\n",
       "    .dataframe tbody tr th:only-of-type {\n",
       "        vertical-align: middle;\n",
       "    }\n",
       "\n",
       "    .dataframe tbody tr th {\n",
       "        vertical-align: top;\n",
       "    }\n",
       "\n",
       "    .dataframe thead th {\n",
       "        text-align: right;\n",
       "    }\n",
       "</style>\n",
       "<table border=\"1\" class=\"dataframe\">\n",
       "  <thead>\n",
       "    <tr style=\"text-align: right;\">\n",
       "      <th></th>\n",
       "      <th>Coef.</th>\n",
       "      <th>P&gt;|z|</th>\n",
       "    </tr>\n",
       "  </thead>\n",
       "  <tbody>\n",
       "    <tr>\n",
       "      <th>Diagnosis_herpes_male</th>\n",
       "      <td>3.793783</td>\n",
       "      <td>0.000000e+00</td>\n",
       "    </tr>\n",
       "    <tr>\n",
       "      <th>Diagnosis_herpes_female</th>\n",
       "      <td>3.273126</td>\n",
       "      <td>0.000000e+00</td>\n",
       "    </tr>\n",
       "    <tr>\n",
       "      <th>Intercept</th>\n",
       "      <td>-2.666021</td>\n",
       "      <td>0.000000e+00</td>\n",
       "    </tr>\n",
       "    <tr>\n",
       "      <th>Cause_having_sex_with</th>\n",
       "      <td>2.481216</td>\n",
       "      <td>0.000000e+00</td>\n",
       "    </tr>\n",
       "    <tr>\n",
       "      <th>Diagnosis_a_UTI</th>\n",
       "      <td>2.403012</td>\n",
       "      <td>0.000000e+00</td>\n",
       "    </tr>\n",
       "    <tr>\n",
       "      <th>Diagnosis_oral_herpes</th>\n",
       "      <td>1.435702</td>\n",
       "      <td>1.013128e-123</td>\n",
       "    </tr>\n",
       "    <tr>\n",
       "      <th>Diagnosis_anxiety</th>\n",
       "      <td>0.754607</td>\n",
       "      <td>1.148073e-31</td>\n",
       "    </tr>\n",
       "    <tr>\n",
       "      <th>Diagnosis_sexual_assault</th>\n",
       "      <td>0.726768</td>\n",
       "      <td>2.508915e-29</td>\n",
       "    </tr>\n",
       "    <tr>\n",
       "      <th>Cause_beating</th>\n",
       "      <td>-0.712923</td>\n",
       "      <td>2.558377e-40</td>\n",
       "    </tr>\n",
       "    <tr>\n",
       "      <th>Cause_a_knife</th>\n",
       "      <td>-0.685759</td>\n",
       "      <td>1.152781e-37</td>\n",
       "    </tr>\n",
       "  </tbody>\n",
       "</table>\n",
       "</div>"
      ],
      "text/plain": [
       "                             Coef.          P>|z|\n",
       "Diagnosis_herpes_male     3.793783   0.000000e+00\n",
       "Diagnosis_herpes_female   3.273126   0.000000e+00\n",
       "Intercept                -2.666021   0.000000e+00\n",
       "Cause_having_sex_with     2.481216   0.000000e+00\n",
       "Diagnosis_a_UTI           2.403012   0.000000e+00\n",
       "Diagnosis_oral_herpes     1.435702  1.013128e-123\n",
       "Diagnosis_anxiety         0.754607   1.148073e-31\n",
       "Diagnosis_sexual_assault  0.726768   2.508915e-29\n",
       "Cause_beating            -0.712923   2.558377e-40\n",
       "Cause_a_knife            -0.685759   1.152781e-37"
      ]
     },
     "execution_count": 28,
     "metadata": {},
     "output_type": "execute_result"
    }
   ],
   "source": [
    "pd.set_option('display.max_rows', None)\n",
    "summary_table = logit.summary2().tables[1]\n",
    "sorted_sum = summary_table[['Coef.', 'P>|z|']].sort_values(by='Coef.', key=abs, ascending=False)\n",
    "sorted_sum.iloc[:10] "
   ]
  },
  {
   "cell_type": "code",
   "execution_count": 31,
   "id": "b5c2acc2",
   "metadata": {},
   "outputs": [
    {
     "name": "stdout",
     "output_type": "stream",
     "text": [
      "Optimization terminated successfully.\n",
      "         Current function value: 0.347426\n",
      "         Iterations: 14\n",
      "         Function evaluations: 58137\n"
     ]
    }
   ],
   "source": [
    "# logit with ONLY TWO WAY interactions\n",
    "interaction_terms = []\n",
    "for var1 in dummy_preds:\n",
    "    for var2 in dummy_preds:\n",
    "        if var1 < var2:\n",
    "            # Check if var1 and var2 are from different categories\n",
    "            if not (var1.split('_')[0] == var2.split('_')[0]):\n",
    "                interaction_terms.append(f\"{var1}:{var2}\")\n",
    "                \n",
    "two_way_formula = \"Blocked_or_Not ~ \" + \" + \".join(dummy_preds) + \" + \" + \" + \".join(interaction_terms)\n",
    "log2 = smf.logit(two_way_formula, data=df_dummies).fit(maxiter=100, method='powell')\n",
    "#print(log2.summary()) \n",
    "#takes a while but finishes..."
   ]
  },
  {
   "cell_type": "code",
   "execution_count": 32,
   "id": "3e63f4a7",
   "metadata": {},
   "outputs": [
    {
     "data": {
      "text/html": [
       "<div>\n",
       "<style scoped>\n",
       "    .dataframe tbody tr th:only-of-type {\n",
       "        vertical-align: middle;\n",
       "    }\n",
       "\n",
       "    .dataframe tbody tr th {\n",
       "        vertical-align: top;\n",
       "    }\n",
       "\n",
       "    .dataframe thead th {\n",
       "        text-align: right;\n",
       "    }\n",
       "</style>\n",
       "<table border=\"1\" class=\"dataframe\">\n",
       "  <thead>\n",
       "    <tr style=\"text-align: right;\">\n",
       "      <th></th>\n",
       "      <th>Coef.</th>\n",
       "      <th>Std.Err.</th>\n",
       "      <th>z</th>\n",
       "      <th>P&gt;|z|</th>\n",
       "      <th>[0.025</th>\n",
       "      <th>0.975]</th>\n",
       "    </tr>\n",
       "  </thead>\n",
       "  <tbody>\n",
       "    <tr>\n",
       "      <th>Cause_having_sex_with</th>\n",
       "      <td>3.037738</td>\n",
       "      <td>0.229066</td>\n",
       "      <td>13.261405</td>\n",
       "      <td>3.875681e-40</td>\n",
       "      <td>2.588777</td>\n",
       "      <td>3.486699</td>\n",
       "    </tr>\n",
       "    <tr>\n",
       "      <th>Diagnosis_herpes_male</th>\n",
       "      <td>2.694588</td>\n",
       "      <td>0.245786</td>\n",
       "      <td>10.963135</td>\n",
       "      <td>5.747327e-28</td>\n",
       "      <td>2.212855</td>\n",
       "      <td>3.176320</td>\n",
       "    </tr>\n",
       "    <tr>\n",
       "      <th>Diag_mentioned_1:Diagnosis_oral_herpes</th>\n",
       "      <td>2.058993</td>\n",
       "      <td>0.131907</td>\n",
       "      <td>15.609384</td>\n",
       "      <td>6.284110e-55</td>\n",
       "      <td>1.800459</td>\n",
       "      <td>2.317526</td>\n",
       "    </tr>\n",
       "    <tr>\n",
       "      <th>Cause_having_sex_with:Diagnosis_herpes_male</th>\n",
       "      <td>-2.036489</td>\n",
       "      <td>0.236532</td>\n",
       "      <td>-8.609777</td>\n",
       "      <td>7.320274e-18</td>\n",
       "      <td>-2.500084</td>\n",
       "      <td>-1.572895</td>\n",
       "    </tr>\n",
       "    <tr>\n",
       "      <th>Diagnosis_a_concussion</th>\n",
       "      <td>-2.009062</td>\n",
       "      <td>0.372560</td>\n",
       "      <td>-5.392586</td>\n",
       "      <td>6.945095e-08</td>\n",
       "      <td>-2.739266</td>\n",
       "      <td>-1.278858</td>\n",
       "    </tr>\n",
       "    <tr>\n",
       "      <th>Diagnosis_herpes_female</th>\n",
       "      <td>1.994912</td>\n",
       "      <td>0.240437</td>\n",
       "      <td>8.297017</td>\n",
       "      <td>1.067578e-16</td>\n",
       "      <td>1.523664</td>\n",
       "      <td>2.466160</td>\n",
       "    </tr>\n",
       "    <tr>\n",
       "      <th>Diagnosis_a_cold</th>\n",
       "      <td>-1.968635</td>\n",
       "      <td>0.333223</td>\n",
       "      <td>-5.907862</td>\n",
       "      <td>3.465766e-09</td>\n",
       "      <td>-2.621740</td>\n",
       "      <td>-1.315530</td>\n",
       "    </tr>\n",
       "    <tr>\n",
       "      <th>Diagnosis_depression</th>\n",
       "      <td>-1.849784</td>\n",
       "      <td>0.323983</td>\n",
       "      <td>-5.709507</td>\n",
       "      <td>1.133038e-08</td>\n",
       "      <td>-2.484779</td>\n",
       "      <td>-1.214789</td>\n",
       "    </tr>\n",
       "    <tr>\n",
       "      <th>Intercept</th>\n",
       "      <td>-1.688155</td>\n",
       "      <td>0.237485</td>\n",
       "      <td>-7.108464</td>\n",
       "      <td>1.173419e-12</td>\n",
       "      <td>-2.153617</td>\n",
       "      <td>-1.222692</td>\n",
       "    </tr>\n",
       "    <tr>\n",
       "      <th>Cause_having_sex_with:Diagnosis_herpes_female</th>\n",
       "      <td>-1.643532</td>\n",
       "      <td>0.228508</td>\n",
       "      <td>-7.192462</td>\n",
       "      <td>6.363330e-13</td>\n",
       "      <td>-2.091398</td>\n",
       "      <td>-1.195665</td>\n",
       "    </tr>\n",
       "    <tr>\n",
       "      <th>Diagnosis_a_cold:Person_myself</th>\n",
       "      <td>1.594914</td>\n",
       "      <td>0.214289</td>\n",
       "      <td>7.442812</td>\n",
       "      <td>9.856409e-14</td>\n",
       "      <td>1.174915</td>\n",
       "      <td>2.014913</td>\n",
       "    </tr>\n",
       "    <tr>\n",
       "      <th>Diagnosis_oral_herpes:Person_a_man</th>\n",
       "      <td>1.553349</td>\n",
       "      <td>0.190709</td>\n",
       "      <td>8.145111</td>\n",
       "      <td>3.789353e-16</td>\n",
       "      <td>1.179565</td>\n",
       "      <td>1.927132</td>\n",
       "    </tr>\n",
       "    <tr>\n",
       "      <th>Diagnosis_an_infection:Person_a_man</th>\n",
       "      <td>1.523864</td>\n",
       "      <td>0.214361</td>\n",
       "      <td>7.108864</td>\n",
       "      <td>1.170016e-12</td>\n",
       "      <td>1.103724</td>\n",
       "      <td>1.944005</td>\n",
       "    </tr>\n",
       "    <tr>\n",
       "      <th>Cause_beating:Diagnosis_a_concussion</th>\n",
       "      <td>1.427698</td>\n",
       "      <td>0.399829</td>\n",
       "      <td>3.570772</td>\n",
       "      <td>3.559300e-04</td>\n",
       "      <td>0.644048</td>\n",
       "      <td>2.211349</td>\n",
       "    </tr>\n",
       "    <tr>\n",
       "      <th>Diagnosis_oral_herpes:Person_a_woman</th>\n",
       "      <td>1.372342</td>\n",
       "      <td>0.187509</td>\n",
       "      <td>7.318796</td>\n",
       "      <td>2.502060e-13</td>\n",
       "      <td>1.004831</td>\n",
       "      <td>1.739854</td>\n",
       "    </tr>\n",
       "    <tr>\n",
       "      <th>Diagnosis_a_UTI</th>\n",
       "      <td>1.365253</td>\n",
       "      <td>0.242019</td>\n",
       "      <td>5.641093</td>\n",
       "      <td>1.689745e-08</td>\n",
       "      <td>0.890904</td>\n",
       "      <td>1.839602</td>\n",
       "    </tr>\n",
       "    <tr>\n",
       "      <th>Diagnosis_oral_herpes:Person_another_person</th>\n",
       "      <td>1.337058</td>\n",
       "      <td>0.190738</td>\n",
       "      <td>7.009929</td>\n",
       "      <td>2.384388e-12</td>\n",
       "      <td>0.963219</td>\n",
       "      <td>1.710897</td>\n",
       "    </tr>\n",
       "    <tr>\n",
       "      <th>Diagnosis_anxiety</th>\n",
       "      <td>-1.326236</td>\n",
       "      <td>0.290964</td>\n",
       "      <td>-4.558081</td>\n",
       "      <td>5.162304e-06</td>\n",
       "      <td>-1.896514</td>\n",
       "      <td>-0.755958</td>\n",
       "    </tr>\n",
       "    <tr>\n",
       "      <th>Diagnosis_depression:Person_a_woman</th>\n",
       "      <td>1.295316</td>\n",
       "      <td>0.212178</td>\n",
       "      <td>6.104849</td>\n",
       "      <td>1.028981e-09</td>\n",
       "      <td>0.879454</td>\n",
       "      <td>1.711178</td>\n",
       "    </tr>\n",
       "    <tr>\n",
       "      <th>Diagnosis_anxiety:Person_a_woman</th>\n",
       "      <td>1.285177</td>\n",
       "      <td>0.198178</td>\n",
       "      <td>6.484970</td>\n",
       "      <td>8.874961e-11</td>\n",
       "      <td>0.896756</td>\n",
       "      <td>1.673598</td>\n",
       "    </tr>\n",
       "  </tbody>\n",
       "</table>\n",
       "</div>"
      ],
      "text/plain": [
       "                                                  Coef.  Std.Err.          z  \\\n",
       "Cause_having_sex_with                          3.037738  0.229066  13.261405   \n",
       "Diagnosis_herpes_male                          2.694588  0.245786  10.963135   \n",
       "Diag_mentioned_1:Diagnosis_oral_herpes         2.058993  0.131907  15.609384   \n",
       "Cause_having_sex_with:Diagnosis_herpes_male   -2.036489  0.236532  -8.609777   \n",
       "Diagnosis_a_concussion                        -2.009062  0.372560  -5.392586   \n",
       "Diagnosis_herpes_female                        1.994912  0.240437   8.297017   \n",
       "Diagnosis_a_cold                              -1.968635  0.333223  -5.907862   \n",
       "Diagnosis_depression                          -1.849784  0.323983  -5.709507   \n",
       "Intercept                                     -1.688155  0.237485  -7.108464   \n",
       "Cause_having_sex_with:Diagnosis_herpes_female -1.643532  0.228508  -7.192462   \n",
       "Diagnosis_a_cold:Person_myself                 1.594914  0.214289   7.442812   \n",
       "Diagnosis_oral_herpes:Person_a_man             1.553349  0.190709   8.145111   \n",
       "Diagnosis_an_infection:Person_a_man            1.523864  0.214361   7.108864   \n",
       "Cause_beating:Diagnosis_a_concussion           1.427698  0.399829   3.570772   \n",
       "Diagnosis_oral_herpes:Person_a_woman           1.372342  0.187509   7.318796   \n",
       "Diagnosis_a_UTI                                1.365253  0.242019   5.641093   \n",
       "Diagnosis_oral_herpes:Person_another_person    1.337058  0.190738   7.009929   \n",
       "Diagnosis_anxiety                             -1.326236  0.290964  -4.558081   \n",
       "Diagnosis_depression:Person_a_woman            1.295316  0.212178   6.104849   \n",
       "Diagnosis_anxiety:Person_a_woman               1.285177  0.198178   6.484970   \n",
       "\n",
       "                                                      P>|z|    [0.025  \\\n",
       "Cause_having_sex_with                          3.875681e-40  2.588777   \n",
       "Diagnosis_herpes_male                          5.747327e-28  2.212855   \n",
       "Diag_mentioned_1:Diagnosis_oral_herpes         6.284110e-55  1.800459   \n",
       "Cause_having_sex_with:Diagnosis_herpes_male    7.320274e-18 -2.500084   \n",
       "Diagnosis_a_concussion                         6.945095e-08 -2.739266   \n",
       "Diagnosis_herpes_female                        1.067578e-16  1.523664   \n",
       "Diagnosis_a_cold                               3.465766e-09 -2.621740   \n",
       "Diagnosis_depression                           1.133038e-08 -2.484779   \n",
       "Intercept                                      1.173419e-12 -2.153617   \n",
       "Cause_having_sex_with:Diagnosis_herpes_female  6.363330e-13 -2.091398   \n",
       "Diagnosis_a_cold:Person_myself                 9.856409e-14  1.174915   \n",
       "Diagnosis_oral_herpes:Person_a_man             3.789353e-16  1.179565   \n",
       "Diagnosis_an_infection:Person_a_man            1.170016e-12  1.103724   \n",
       "Cause_beating:Diagnosis_a_concussion           3.559300e-04  0.644048   \n",
       "Diagnosis_oral_herpes:Person_a_woman           2.502060e-13  1.004831   \n",
       "Diagnosis_a_UTI                                1.689745e-08  0.890904   \n",
       "Diagnosis_oral_herpes:Person_another_person    2.384388e-12  0.963219   \n",
       "Diagnosis_anxiety                              5.162304e-06 -1.896514   \n",
       "Diagnosis_depression:Person_a_woman            1.028981e-09  0.879454   \n",
       "Diagnosis_anxiety:Person_a_woman               8.874961e-11  0.896756   \n",
       "\n",
       "                                                 0.975]  \n",
       "Cause_having_sex_with                          3.486699  \n",
       "Diagnosis_herpes_male                          3.176320  \n",
       "Diag_mentioned_1:Diagnosis_oral_herpes         2.317526  \n",
       "Cause_having_sex_with:Diagnosis_herpes_male   -1.572895  \n",
       "Diagnosis_a_concussion                        -1.278858  \n",
       "Diagnosis_herpes_female                        2.466160  \n",
       "Diagnosis_a_cold                              -1.315530  \n",
       "Diagnosis_depression                          -1.214789  \n",
       "Intercept                                     -1.222692  \n",
       "Cause_having_sex_with:Diagnosis_herpes_female -1.195665  \n",
       "Diagnosis_a_cold:Person_myself                 2.014913  \n",
       "Diagnosis_oral_herpes:Person_a_man             1.927132  \n",
       "Diagnosis_an_infection:Person_a_man            1.944005  \n",
       "Cause_beating:Diagnosis_a_concussion           2.211349  \n",
       "Diagnosis_oral_herpes:Person_a_woman           1.739854  \n",
       "Diagnosis_a_UTI                                1.839602  \n",
       "Diagnosis_oral_herpes:Person_another_person    1.710897  \n",
       "Diagnosis_anxiety                             -0.755958  \n",
       "Diagnosis_depression:Person_a_woman            1.711178  \n",
       "Diagnosis_anxiety:Person_a_woman               1.673598  "
      ]
     },
     "execution_count": 32,
     "metadata": {},
     "output_type": "execute_result"
    }
   ],
   "source": [
    "pd.set_option('display.max_rows', None)\n",
    "summary_table = log2.summary2().tables[1]\n",
    "#print(len(summary_table))\n",
    "psummary = summary_table[summary_table['P>|z|'] < 0.05]\n",
    "#print(psummary.columns)\n",
    "sorted_sum = psummary.sort_values(by='Coef.', ascending=False, key=abs)\n",
    "#print(len(sorted_sum)) \n",
    "sorted_sum.iloc[:20] #171 / 377 factors significant"
   ]
  },
  {
   "cell_type": "code",
   "execution_count": 33,
   "id": "3ab78de3",
   "metadata": {},
   "outputs": [],
   "source": [
    "#logit all interactions \n",
    "formula = \"Blocked_or_Not ~ \" + \" * \".join(dummy_preds) \n",
    "#print(formula)\n",
    "\n",
    "#logit = smf.logit(formula, data=df_dummies).fit(maxiter=100, method='powell') \n",
    "#print(logit.summary()) #doesn't finish ... "
   ]
  },
  {
   "cell_type": "markdown",
   "id": "9b02797b",
   "metadata": {},
   "source": [
    "### ols"
   ]
  },
  {
   "cell_type": "code",
   "execution_count": 34,
   "id": "29c87f69",
   "metadata": {},
   "outputs": [],
   "source": [
    "two_way_formula = \"Blocked_or_Not ~ \" + \" + \".join(dummy_preds) + \" + \" + \" + \".join(interaction_terms)\n",
    "ols = smf.ols(two_way_formula, data=df_dummies).fit()\n",
    "#print(ols.summary()) "
   ]
  },
  {
   "cell_type": "code",
   "execution_count": 35,
   "id": "116ab677",
   "metadata": {},
   "outputs": [],
   "source": [
    "summary_table = ols.summary2().tables[1]\n",
    "psummary = summary_table[summary_table['P>|t|'] < 0.05]\n",
    "sorted_sum = psummary.sort_values(by='P>|t|')\n",
    "#sorted_sum"
   ]
  },
  {
   "cell_type": "markdown",
   "id": "1d1cbfbf",
   "metadata": {},
   "source": [
    "### decision tree"
   ]
  },
  {
   "cell_type": "code",
   "execution_count": 36,
   "id": "cb03f3af",
   "metadata": {},
   "outputs": [
    {
     "data": {
      "text/plain": [
       "DecisionTreeClassifier(criterion='entropy', min_samples_leaf=2000,\n",
       "                       min_samples_split=2000)"
      ]
     },
     "execution_count": 36,
     "metadata": {},
     "output_type": "execute_result"
    }
   ],
   "source": [
    "X = df_dummies.drop(response, axis=1)\n",
    "y = df_dummies['Blocked_or_Not']\n",
    "\n",
    "X_train, X_test, y_train, y_test = train_test_split(X, y, test_size=0.2, random_state=42)\n",
    "clf = DecisionTreeClassifier(criterion = 'entropy', min_samples_split=2000, \n",
    "                             min_samples_leaf=2000)\n",
    "clf.fit(X_train, y_train)"
   ]
  },
  {
   "cell_type": "code",
   "execution_count": 37,
   "id": "d35749e3",
   "metadata": {},
   "outputs": [],
   "source": [
    "# plt.figure(figsize=(30,20))\n",
    "# reps = plot_tree(clf, feature_names=X.columns, class_names=['Not Blocked', 'Blocked'], \n",
    "#                          filled=True, rounded=True, fontsize=12)\n",
    "\n",
    "# plt.show()\n",
    "\n",
    "# pretty uninteresting, all based on if its male herpes or not"
   ]
  },
  {
   "cell_type": "code",
   "execution_count": null,
   "id": "910d8889",
   "metadata": {},
   "outputs": [],
   "source": []
  }
 ],
 "metadata": {
  "kernelspec": {
   "display_name": "Python 3 (ipykernel)",
   "language": "python",
   "name": "python3"
  },
  "language_info": {
   "codemirror_mode": {
    "name": "ipython",
    "version": 3
   },
   "file_extension": ".py",
   "mimetype": "text/x-python",
   "name": "python",
   "nbconvert_exporter": "python",
   "pygments_lexer": "ipython3",
   "version": "3.9.12"
  }
 },
 "nbformat": 4,
 "nbformat_minor": 5
}
