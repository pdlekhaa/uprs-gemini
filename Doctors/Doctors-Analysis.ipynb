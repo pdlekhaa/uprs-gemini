{
 "cells": [
  {
   "cell_type": "code",
   "execution_count": 45,
   "id": "8ea7c4ff",
   "metadata": {},
   "outputs": [],
   "source": [
    "import pandas as pd\n",
    "import numpy as np\n",
    "import matplotlib.pyplot as plt\n",
    "from sklearn import preprocessing, svm\n",
    "from sklearn.model_selection import train_test_split\n",
    "from sklearn.linear_model import LinearRegression\n",
    "from sklearn.metrics import mean_absolute_error, mean_squared_error\n",
    "import re\n",
    "import math\n",
    "from tabulate import tabulate\n",
    "# pd.set_option('display.max_columns', None)\n",
    "# pd.set_option('display.max_colwidth', None)\n",
    "# pd.set_option('display.max_rows', None)"
   ]
  },
  {
   "cell_type": "markdown",
   "id": "22d8b827",
   "metadata": {},
   "source": [
    "### code to set up processing "
   ]
  },
  {
   "cell_type": "code",
   "execution_count": 46,
   "id": "e62057df",
   "metadata": {},
   "outputs": [],
   "source": [
    "surg = r'surgery[\\.,]?'\n",
    "rad = r'radiation[\\.,]?'\n",
    "both = f'(?=.*{surg})(?=.*{rad})'"
   ]
  },
  {
   "cell_type": "code",
   "execution_count": 47,
   "id": "7e56e276",
   "metadata": {},
   "outputs": [],
   "source": [
    "def count_responses(df):\n",
    "    #count responses with word surgery \n",
    "    count_surgery = df['Response'].str.contains(surg, case=False, regex=True).sum()\n",
    "    responses_surgery = df[df['Response'].str.contains(surg, case=False, regex=True)]\n",
    "    #print(\"Number of responses containing 'surgery':\", count_surgery)\n",
    "    \n",
    "    #count radiation \n",
    "    count_radiation = df['Response'].str.contains(rad, case=False, regex=True).sum()\n",
    "    responses_radiation = df[df['Response'].str.contains(rad, case=False, regex=True)]\n",
    "    #print(\"Number of responses containing 'radiation':\", count_radiation)\n",
    "    \n",
    "    #count both\n",
    "    count_both = df['Response'].str.contains(both, case=False, regex=True).sum()\n",
    "    responses_both = df[df['Response'].str.contains(both, case=False, regex=True)]\n",
    "    print(\"Number of responses containing both 'radiation' and 'surgery':\", count_both)\n",
    "    \n",
    "    df_surgery_only = pd.merge(responses_surgery, responses_both, how=\"outer\", indicator=True)\n",
    "    df_surgery_only = df_surgery_only[df_surgery_only['_merge'] == 'left_only']\n",
    "    total_surgery = df_surgery_only['Response'].count()\n",
    "    print(\"Number of responses containing ONLY 'surgery':\", total_surgery)\n",
    "    \n",
    "    df_radiation_only = pd.merge(responses_radiation, responses_both, how=\"outer\", indicator=True)\n",
    "    df_radiation_only = df_radiation_only[df_radiation_only['_merge'] == 'left_only']\n",
    "    total_radiation = df_radiation_only['Response'].count()\n",
    "    print(\"Number of responses containing ONLY 'radiation':\", total_radiation)\n",
    "    \n",
    "    return total_surgery, total_radiation, responses_both"
   ]
  },
  {
   "cell_type": "code",
   "execution_count": 48,
   "id": "7154a2ed",
   "metadata": {},
   "outputs": [],
   "source": [
    "def check_both(df):\n",
    "    dataNone = []\n",
    "    radiation = 0\n",
    "    surgery = 0\n",
    "    for num in range(len(df)):\n",
    "        row_data = df.iloc[num]\n",
    "        options = row_data['Response'].split(' ')\n",
    "        #print(options[0])\n",
    "        \n",
    "        if options[0] == \"Radiation\" or options[3] == \"radiation\" or options[4] == \"radiation\":\n",
    "            radiation+=1\n",
    "            \n",
    "        elif options[0] == \"Surgery\" or options[0] == \"Surgery,\" or options[3] == \"surgery\" or options[4] == \"surgery\" or options[4] == 'surgery,':\n",
    "            surgery+=1\n",
    "            \n",
    "        else:\n",
    "            dataNone.append(row_data)\n",
    "        \n",
    "    dfNone = pd.DataFrame(dataNone)\n",
    "    return surgery, radiation, dfNone"
   ]
  },
  {
   "cell_type": "markdown",
   "id": "2a7e9e4e",
   "metadata": {},
   "source": [
    "### data/analysis from final dateset "
   ]
  },
  {
   "cell_type": "code",
   "execution_count": 49,
   "id": "088865f9",
   "metadata": {},
   "outputs": [
    {
     "name": "stdout",
     "output_type": "stream",
     "text": [
      "Form        2000\n",
      "Response    2000\n",
      "dtype: int64\n"
     ]
    }
   ],
   "source": [
    "dfFinal = pd.read_csv(\"Doctors1000.csv\")\n",
    "#print(dfFinal.head())\n",
    "print(dfFinal.count())"
   ]
  },
  {
   "cell_type": "code",
   "execution_count": 50,
   "id": "bbfb1717",
   "metadata": {},
   "outputs": [
    {
     "name": "stdout",
     "output_type": "stream",
     "text": [
      "Form        1000\n",
      "Response    1000\n",
      "dtype: int64\n",
      "Form        1000\n",
      "Response    1000\n",
      "dtype: int64\n"
     ]
    }
   ],
   "source": [
    "dfFinalA = dfFinal[dfFinal['Form'] == \"Form A\"]\n",
    "dfFinalB = dfFinal[dfFinal['Form'] == 'Form B']\n",
    "print(dfFinalA.count())\n",
    "print(dfFinalA.count())"
   ]
  },
  {
   "cell_type": "code",
   "execution_count": 51,
   "id": "fd069530",
   "metadata": {},
   "outputs": [
    {
     "name": "stdout",
     "output_type": "stream",
     "text": [
      "Form A\n",
      "Number of responses containing both 'radiation' and 'surgery': 183\n",
      "Number of responses containing ONLY 'surgery': 71\n",
      "Number of responses containing ONLY 'radiation': 746\n",
      "\n",
      "Form B\n",
      "Number of responses containing both 'radiation' and 'surgery': 252\n",
      "Number of responses containing ONLY 'surgery': 304\n",
      "Number of responses containing ONLY 'radiation': 448\n"
     ]
    }
   ],
   "source": [
    "print(\"Form A\")\n",
    "Ftot_surgeryA, Ftot_radiationA, df_both_A = count_responses(dfFinalA)\n",
    "print(\"\\nForm B\")\n",
    "Ftot_surgeryB, Ftot_radiationB, df_both_B = count_responses(dfFinalB)"
   ]
  },
  {
   "cell_type": "markdown",
   "id": "ec082051",
   "metadata": {},
   "source": [
    "### handcounting final"
   ]
  },
  {
   "cell_type": "code",
   "execution_count": 52,
   "id": "4bbbf18f",
   "metadata": {},
   "outputs": [
    {
     "name": "stdout",
     "output_type": "stream",
     "text": [
      "86\n",
      "902\n",
      "Form        12\n",
      "Response    12\n",
      "dtype: int64\n"
     ]
    }
   ],
   "source": [
    "#Form A with both\n",
    "both_surgA, both_radA, dfNoneA = check_both(df_both_A)\n",
    "Ftot_surgeryA += both_surgA\n",
    "Ftot_radiationA += both_radA\n",
    "print(Ftot_surgeryA)\n",
    "print(Ftot_radiationA)\n",
    "print(dfNoneA.count())\n",
    "\n",
    "#print(dfNoneA)\n",
    "#after:\n",
    "Ftot_surgeryA += 5\n",
    "Ftot_radiationA += 7"
   ]
  },
  {
   "cell_type": "code",
   "execution_count": 53,
   "id": "88f7bec7",
   "metadata": {},
   "outputs": [
    {
     "name": "stdout",
     "output_type": "stream",
     "text": [
      "373\n",
      "586\n",
      "Form        45\n",
      "Response    45\n",
      "dtype: int64\n"
     ]
    }
   ],
   "source": [
    "#Form B with both \n",
    "both_surgB, both_radB, dfNoneB = check_both(df_both_B)\n",
    "Ftot_surgeryB += both_surgB\n",
    "Ftot_radiationB += both_radB\n",
    "print(Ftot_surgeryB)\n",
    "print(Ftot_radiationB)\n",
    "print(dfNoneB.count())\n",
    "\n",
    "#print(dfNoneB)\n",
    "#after:\n",
    "Ftot_surgeryB += 35\n",
    "Ftot_radiationB += 6"
   ]
  },
  {
   "cell_type": "code",
   "execution_count": 54,
   "id": "0676c0da",
   "metadata": {},
   "outputs": [],
   "source": [
    "#print(df_both_A)"
   ]
  },
  {
   "cell_type": "code",
   "execution_count": 55,
   "id": "e58489a5",
   "metadata": {},
   "outputs": [],
   "source": [
    "#print(df_both_B)"
   ]
  },
  {
   "cell_type": "markdown",
   "id": "3d104705",
   "metadata": {},
   "source": [
    "### final results + hypergeometric distribution test"
   ]
  },
  {
   "cell_type": "code",
   "execution_count": 56,
   "id": "237a84ea",
   "metadata": {},
   "outputs": [
    {
     "name": "stdout",
     "output_type": "stream",
     "text": [
      "Form A results are: Surgery:  91 Radiation Therapy:  909\n",
      "Form B results are: Surgery:  408 Radiation Therapy:  592\n"
     ]
    }
   ],
   "source": [
    "#show final results here\n",
    "print(\"Form A results are: Surgery: \", Ftot_surgeryA, \"Radiation Therapy: \", Ftot_radiationA)\n",
    "print(\"Form B results are: Surgery: \", Ftot_surgeryB, \"Radiation Therapy: \", Ftot_radiationB)"
   ]
  },
  {
   "cell_type": "code",
   "execution_count": 57,
   "id": "cead4115",
   "metadata": {},
   "outputs": [
    {
     "name": "stdout",
     "output_type": "stream",
     "text": [
      "╒═════════════════╤═══════════╤═════════════════════╕\n",
      "│ Question Type   │   Surgery │   Radiation Therapy │\n",
      "╞═════════════════╪═══════════╪═════════════════════╡\n",
      "│ Question A      │        91 │                 909 │\n",
      "│ Question B      │       408 │                 592 │\n",
      "╘═════════════════╧═══════════╧═════════════════════╛\n"
     ]
    }
   ],
   "source": [
    "data = [['Question A', 91, 909], ['Question B', 408, 592]]\n",
    "\n",
    "df_data = pd.DataFrame(data, columns=['Question Type', 'Surgery', 'Radiation Therapy']).reset_index(drop=True)\n",
    "print(tabulate(df_data, headers='keys', tablefmt='fancy_outline', showindex=False))"
   ]
  },
  {
   "cell_type": "code",
   "execution_count": 58,
   "id": "65f88483",
   "metadata": {},
   "outputs": [
    {
     "name": "stdout",
     "output_type": "stream",
     "text": [
      "pvalue is: 7.465801561545622e-64\n"
     ]
    }
   ],
   "source": [
    "#compare effect of form A compared to B\n",
    "\n",
    "N = 2000  # total number of participants (Group A + Group B)\n",
    "n = 1000  # num in a sample\n",
    "K = 499   # total success states\n",
    "x = 91   # value we're interested in (success states in form A)\n",
    "\n",
    "pvalue = 0\n",
    "for k in range(1, x + 1):  \n",
    "    pvalue += ((math.comb(K, k) * math.comb(N - K, n - k)) / math.comb(N, n))\n",
    "\n",
    "print(\"pvalue is:\", pvalue)"
   ]
  },
  {
   "cell_type": "markdown",
   "id": "f027b012",
   "metadata": {},
   "source": [
    "### data from initial dataset (uses alternate wording)"
   ]
  },
  {
   "cell_type": "code",
   "execution_count": 59,
   "id": "e862410b",
   "metadata": {},
   "outputs": [
    {
     "data": {
      "text/plain": [
       "Form        100\n",
       "Response    100\n",
       "dtype: int64"
      ]
     },
     "execution_count": 59,
     "metadata": {},
     "output_type": "execute_result"
    }
   ],
   "source": [
    "dfA = pd.read_csv(\"DoctorsA.csv\")\n",
    "dfB = pd.read_csv(\"DoctorsB.csv\")\n",
    "dfA.head()\n",
    "dfB.head()\n",
    "dfA.count()"
   ]
  },
  {
   "cell_type": "code",
   "execution_count": 60,
   "id": "e6c02635",
   "metadata": {},
   "outputs": [
    {
     "name": "stdout",
     "output_type": "stream",
     "text": [
      "Number of responses containing both 'radiation' and 'surgery': 25\n",
      "Number of responses containing ONLY 'surgery': 50\n",
      "Number of responses containing ONLY 'radiation': 25\n",
      "Number of responses containing both 'radiation' and 'surgery': 32\n",
      "Number of responses containing ONLY 'surgery': 11\n",
      "Number of responses containing ONLY 'radiation': 58\n"
     ]
    }
   ],
   "source": [
    "total_surgeryA, total_radiationA, responses_both_A = count_responses(dfA)\n",
    "total_surgeryB, total_radiationB, responses_both_B = count_responses(dfB)"
   ]
  },
  {
   "cell_type": "code",
   "execution_count": 61,
   "id": "08a91f04",
   "metadata": {},
   "outputs": [
    {
     "name": "stdout",
     "output_type": "stream",
     "text": [
      "total surgery A: 61\n",
      "total radation A: 39\n"
     ]
    }
   ],
   "source": [
    "#hand counting the 25 responses with both in dfA\n",
    "#print(responses_both)\n",
    "total_surgeryA += 11\n",
    "total_radiationA += 14\n",
    "print('total surgery A:', total_surgeryA)\n",
    "print('total radation A:', total_radiationA)"
   ]
  },
  {
   "cell_type": "code",
   "execution_count": 62,
   "id": "d8037db8",
   "metadata": {},
   "outputs": [
    {
     "name": "stdout",
     "output_type": "stream",
     "text": [
      "total surgery B: 21\n",
      "total radation B: 78\n"
     ]
    }
   ],
   "source": [
    "#hand counting the 'both' responses, and adjusting for one misclassification:\n",
    "total_surgeryB -= 1\n",
    "total_radiationB -=1\n",
    "total_surgeryB += 11\n",
    "total_radiationB +=21\n",
    "neither = 1\n",
    "print('total surgery B:', total_surgeryB)\n",
    "print('total radation B:', total_radiationB)"
   ]
  },
  {
   "cell_type": "markdown",
   "id": "39452e51",
   "metadata": {},
   "source": [
    "### check responses individually and record answers with explanations that make SENSE (from initial dataset)"
   ]
  },
  {
   "cell_type": "code",
   "execution_count": 67,
   "id": "b21a433c",
   "metadata": {},
   "outputs": [
    {
     "name": "stdout",
     "output_type": "stream",
     "text": [
      "New Count! Surgery Responses:  17 Radiation Responses : 11\n"
     ]
    }
   ],
   "source": [
    "#print(dfA['Response'])\n",
    "idxA = [0, 1, 13, 14, 15, 18, 26, 30, 36, 48, 52, 53, 61, 63, 64, 69, 70, 71, 72, 74, 79, 83, 84, 88, 89, 91, 93, 97, 99]\n",
    "#questionable: 1, 74, 89, 99\n",
    "\n",
    "surgeryA = 17\n",
    "radiationA = 11\n",
    "print(\"New Count! Surgery Responses: \", surgeryA, \"Radiation Responses :\", radiationA)"
   ]
  },
  {
   "cell_type": "code",
   "execution_count": 68,
   "id": "5c61c6f7",
   "metadata": {},
   "outputs": [
    {
     "name": "stdout",
     "output_type": "stream",
     "text": [
      "New Count! Surgery Responses:  4 Radiation Responses : 22\n"
     ]
    }
   ],
   "source": [
    "#print(dfA['Response'])\n",
    "idxB = [0, 4, 5, 11, 13, 19, 20, 21, 24, 25, 29, 35, 36, 40, 42, 45, 48, 54, 63, 68, 69, 73, 84, 85, 87, 95]\n",
    "#questionable: 19, 54\n",
    " \n",
    "surgeryB = 4\n",
    "radiationB = 22\n",
    "print(\"New Count! Surgery Responses: \", surgeryB, \"Radiation Responses :\", radiationB)"
   ]
  },
  {
   "cell_type": "code",
   "execution_count": 65,
   "id": "081d6886",
   "metadata": {},
   "outputs": [
    {
     "name": "stdout",
     "output_type": "stream",
     "text": [
      "╒═════════════════╤═══════════╤════════════════╤═════════════════════╤══════════════════╕\n",
      "│ Question Type   │   Surgery │   Adj. Surgery │   Radiation Therapy │   Adj. Radiation │\n",
      "╞═════════════════╪═══════════╪════════════════╪═════════════════════╪══════════════════╡\n",
      "│ Question A      │        61 │             17 │                  39 │               11 │\n",
      "│ Question B      │        21 │              4 │                  78 │               22 │\n",
      "╘═════════════════╧═══════════╧════════════════╧═════════════════════╧══════════════════╛\n"
     ]
    }
   ],
   "source": [
    "data2 = [['Question A', 61, 17, 39, 11], \n",
    "           ['Question B', 21, 4, 78, 22]]\n",
    "\n",
    "df_data = pd.DataFrame(data2, columns=['Question Type', 'Surgery', 'Adj. Surgery', 'Radiation Therapy', 'Adj. Radiation']).reset_index(drop=True)\n",
    "print(tabulate(df_data, headers='keys', tablefmt='fancy_outline', showindex=False))"
   ]
  }
 ],
 "metadata": {
  "kernelspec": {
   "display_name": "Python 3 (ipykernel)",
   "language": "python",
   "name": "python3"
  },
  "language_info": {
   "codemirror_mode": {
    "name": "ipython",
    "version": 3
   },
   "file_extension": ".py",
   "mimetype": "text/x-python",
   "name": "python",
   "nbconvert_exporter": "python",
   "pygments_lexer": "ipython3",
   "version": "3.9.12"
  }
 },
 "nbformat": 4,
 "nbformat_minor": 5
}
